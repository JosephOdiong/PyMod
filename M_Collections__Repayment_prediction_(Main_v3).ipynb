{
  "cells": [
    {
      "cell_type": "markdown",
      "metadata": {
        "id": "view-in-github",
        "colab_type": "text"
      },
      "source": [
        "<a href=\"https://colab.research.google.com/github/JosephOdiong/PyMod/blob/main/M_Collections__Repayment_prediction_(Main_v3).ipynb\" target=\"_parent\"><img src=\"https://colab.research.google.com/assets/colab-badge.svg\" alt=\"Open In Colab\"/></a>"
      ]
    },
    {
      "cell_type": "markdown",
      "metadata": {
        "id": "WJxwZ_FbrcOq"
      },
      "source": [
        "# Project Name: Building a Classification Model to help predict Customer Repayment Behaviour"
      ]
    },
    {
      "cell_type": "markdown",
      "metadata": {
        "id": "iOA4M24epGH_"
      },
      "source": [
        "### Importing the Datasets from Google Drive"
      ]
    },
    {
      "cell_type": "markdown",
      "metadata": {
        "id": "Zg0y9G0ypUgG"
      },
      "source": [
        "We will be using 37 weeks worth of historical data starting from the week of March 27, 2023 to the week of September 27, 2023 and the week of January 15, 2024 to the week of March 25, 2024 excluding the week of March 11, 2024. These datasets have been stored as csv. files in an ML_Dataset folder in 'My Drive'. We will read these files directly from the drive."
      ]
    },
    {
      "cell_type": "code",
      "execution_count": null,
      "metadata": {
        "colab": {
          "base_uri": "https://localhost:8080/"
        },
        "id": "Brc-XcYlrhMi",
        "outputId": "6de04b04-ccdc-4767-b109-b226932c7876"
      },
      "outputs": [
        {
          "output_type": "stream",
          "name": "stdout",
          "text": [
            "Mounted at /content/drive\n"
          ]
        },
        {
          "output_type": "stream",
          "name": "stderr",
          "text": [
            "<ipython-input-1-02ec788cbb8e>:5: DtypeWarning: Columns (1) have mixed types. Specify dtype option on import or set low_memory=False.\n",
            "  df1 = pd.read_csv('/content/drive/My Drive/ML_Dataset/ISOWeek_of_Jan_15.csv')\n",
            "<ipython-input-1-02ec788cbb8e>:6: DtypeWarning: Columns (1) have mixed types. Specify dtype option on import or set low_memory=False.\n",
            "  df2 = pd.read_csv('/content/drive/My Drive/ML_Dataset/ISOWeek_of_Jan_22.csv')\n",
            "<ipython-input-1-02ec788cbb8e>:7: DtypeWarning: Columns (1) have mixed types. Specify dtype option on import or set low_memory=False.\n",
            "  df3 = pd.read_csv('/content/drive/My Drive/ML_Dataset/ISOWeek_of_Jan_29.csv')\n",
            "<ipython-input-1-02ec788cbb8e>:8: DtypeWarning: Columns (1) have mixed types. Specify dtype option on import or set low_memory=False.\n",
            "  df4 = pd.read_csv('/content/drive/My Drive/ML_Dataset/ISOWeek_of_Feb_5.csv')\n",
            "<ipython-input-1-02ec788cbb8e>:9: DtypeWarning: Columns (1) have mixed types. Specify dtype option on import or set low_memory=False.\n",
            "  df5 = pd.read_csv('/content/drive/My Drive/ML_Dataset/ISOWeek_of_Feb_12.csv')\n",
            "<ipython-input-1-02ec788cbb8e>:10: DtypeWarning: Columns (1) have mixed types. Specify dtype option on import or set low_memory=False.\n",
            "  df6 = pd.read_csv('/content/drive/My Drive/ML_Dataset/ISOWeek_of_Feb_19.csv')\n",
            "<ipython-input-1-02ec788cbb8e>:11: DtypeWarning: Columns (1) have mixed types. Specify dtype option on import or set low_memory=False.\n",
            "  df7 = pd.read_csv('/content/drive/My Drive/ML_Dataset/ISOWeek_of_Feb_26.csv')\n",
            "<ipython-input-1-02ec788cbb8e>:12: DtypeWarning: Columns (1) have mixed types. Specify dtype option on import or set low_memory=False.\n",
            "  df8 = pd.read_csv('/content/drive/My Drive/ML_Dataset/ISOWeek_of_March_4.csv')\n",
            "<ipython-input-1-02ec788cbb8e>:13: DtypeWarning: Columns (1) have mixed types. Specify dtype option on import or set low_memory=False.\n",
            "  df9 = pd.read_csv('/content/drive/My Drive/ML_Dataset/ISOWeek_of_March_18.csv')\n",
            "<ipython-input-1-02ec788cbb8e>:14: DtypeWarning: Columns (1) have mixed types. Specify dtype option on import or set low_memory=False.\n",
            "  df10 = pd.read_csv('/content/drive/My Drive/ML_Dataset/ISOWeek_of_Mar_25.csv')\n",
            "<ipython-input-1-02ec788cbb8e>:15: DtypeWarning: Columns (1,48) have mixed types. Specify dtype option on import or set low_memory=False.\n",
            "  df11 = pd.read_csv('/content/drive/My Drive/ML_Dataset/ISOWeek_of_Mar_27.csv')\n",
            "<ipython-input-1-02ec788cbb8e>:16: DtypeWarning: Columns (1,48) have mixed types. Specify dtype option on import or set low_memory=False.\n",
            "  df12 = pd.read_csv('/content/drive/My Drive/ML_Dataset/ISOWeek_of_Apr_3.csv')\n",
            "<ipython-input-1-02ec788cbb8e>:17: DtypeWarning: Columns (1,48) have mixed types. Specify dtype option on import or set low_memory=False.\n",
            "  df13 = pd.read_csv('/content/drive/My Drive/ML_Dataset/ISOWeek_of_Apr_10.csv')\n",
            "<ipython-input-1-02ec788cbb8e>:18: DtypeWarning: Columns (1,48) have mixed types. Specify dtype option on import or set low_memory=False.\n",
            "  df14 = pd.read_csv('/content/drive/My Drive/ML_Dataset/ISOWeek_of_Apr_17.csv')\n",
            "<ipython-input-1-02ec788cbb8e>:19: DtypeWarning: Columns (1,48) have mixed types. Specify dtype option on import or set low_memory=False.\n",
            "  df15 = pd.read_csv('/content/drive/My Drive/ML_Dataset/ISOWeek_of_Apr_24.csv')\n",
            "<ipython-input-1-02ec788cbb8e>:20: DtypeWarning: Columns (1,48) have mixed types. Specify dtype option on import or set low_memory=False.\n",
            "  df16 = pd.read_csv('/content/drive/My Drive/ML_Dataset/ISOWeek_of_May_1.csv')\n",
            "<ipython-input-1-02ec788cbb8e>:21: DtypeWarning: Columns (1) have mixed types. Specify dtype option on import or set low_memory=False.\n",
            "  df17 = pd.read_csv('/content/drive/My Drive/ML_Dataset/ISOWeek_of_May_8.csv')\n",
            "<ipython-input-1-02ec788cbb8e>:22: DtypeWarning: Columns (1) have mixed types. Specify dtype option on import or set low_memory=False.\n",
            "  df18 = pd.read_csv('/content/drive/My Drive/ML_Dataset/ISOWeek_of_May_15.csv')\n",
            "<ipython-input-1-02ec788cbb8e>:23: DtypeWarning: Columns (1) have mixed types. Specify dtype option on import or set low_memory=False.\n",
            "  df19 = pd.read_csv('/content/drive/My Drive/ML_Dataset/ISOWeek_of_May_22.csv')\n",
            "<ipython-input-1-02ec788cbb8e>:24: DtypeWarning: Columns (1) have mixed types. Specify dtype option on import or set low_memory=False.\n",
            "  df20 = pd.read_csv('/content/drive/My Drive/ML_Dataset/ISOWeek_of_May_29.csv')\n",
            "<ipython-input-1-02ec788cbb8e>:25: DtypeWarning: Columns (1) have mixed types. Specify dtype option on import or set low_memory=False.\n",
            "  df21 = pd.read_csv('/content/drive/My Drive/ML_Dataset/ISOWeek_of_Jun_5.csv')\n",
            "<ipython-input-1-02ec788cbb8e>:26: DtypeWarning: Columns (1) have mixed types. Specify dtype option on import or set low_memory=False.\n",
            "  df22 = pd.read_csv('/content/drive/My Drive/ML_Dataset/ISOWeek_of_Jun_12.csv')\n",
            "<ipython-input-1-02ec788cbb8e>:27: DtypeWarning: Columns (1) have mixed types. Specify dtype option on import or set low_memory=False.\n",
            "  df23 = pd.read_csv('/content/drive/My Drive/ML_Dataset/ISOWeek_of_Jun_19.csv')\n",
            "<ipython-input-1-02ec788cbb8e>:28: DtypeWarning: Columns (1) have mixed types. Specify dtype option on import or set low_memory=False.\n",
            "  df24 = pd.read_csv('/content/drive/My Drive/ML_Dataset/ISOWeek_of_Jun_26.csv')\n",
            "<ipython-input-1-02ec788cbb8e>:29: DtypeWarning: Columns (1) have mixed types. Specify dtype option on import or set low_memory=False.\n",
            "  df25 = pd.read_csv('/content/drive/My Drive/ML_Dataset/ISOWeek_of_Jul_3.csv')\n",
            "<ipython-input-1-02ec788cbb8e>:30: DtypeWarning: Columns (1) have mixed types. Specify dtype option on import or set low_memory=False.\n",
            "  df26 = pd.read_csv('/content/drive/My Drive/ML_Dataset/ISOWeek_of_Jul_10.csv')\n",
            "<ipython-input-1-02ec788cbb8e>:31: DtypeWarning: Columns (1) have mixed types. Specify dtype option on import or set low_memory=False.\n",
            "  df27 = pd.read_csv('/content/drive/My Drive/ML_Dataset/ISOWeek_of_Jul_17.csv')\n",
            "<ipython-input-1-02ec788cbb8e>:32: DtypeWarning: Columns (1) have mixed types. Specify dtype option on import or set low_memory=False.\n",
            "  df28 = pd.read_csv('/content/drive/My Drive/ML_Dataset/ISOWeek_of_Jul_24.csv')\n",
            "<ipython-input-1-02ec788cbb8e>:33: DtypeWarning: Columns (1) have mixed types. Specify dtype option on import or set low_memory=False.\n",
            "  df29 = pd.read_csv('/content/drive/My Drive/ML_Dataset/ISOWeek_of_Jul_31.csv')\n",
            "<ipython-input-1-02ec788cbb8e>:34: DtypeWarning: Columns (1) have mixed types. Specify dtype option on import or set low_memory=False.\n",
            "  df30 = pd.read_csv('/content/drive/My Drive/ML_Dataset/ISOWeek_of_Aug_7.csv')\n",
            "<ipython-input-1-02ec788cbb8e>:35: DtypeWarning: Columns (1) have mixed types. Specify dtype option on import or set low_memory=False.\n",
            "  df31 = pd.read_csv('/content/drive/My Drive/ML_Dataset/ISOWeek_of_Aug_14.csv')\n",
            "<ipython-input-1-02ec788cbb8e>:36: DtypeWarning: Columns (1) have mixed types. Specify dtype option on import or set low_memory=False.\n",
            "  df32 = pd.read_csv('/content/drive/My Drive/ML_Dataset/ISOWeek_of_Aug_21.csv')\n",
            "<ipython-input-1-02ec788cbb8e>:37: DtypeWarning: Columns (1,16,17,21,23,24,31,41,46,48) have mixed types. Specify dtype option on import or set low_memory=False.\n",
            "  df33 = pd.read_csv('/content/drive/My Drive/ML_Dataset/ISOWeek_of_Aug_28.csv')\n",
            "<ipython-input-1-02ec788cbb8e>:38: DtypeWarning: Columns (1) have mixed types. Specify dtype option on import or set low_memory=False.\n",
            "  df34 = pd.read_csv('/content/drive/My Drive/ML_Dataset/ISOWeek_of_Sep_4.csv')\n",
            "<ipython-input-1-02ec788cbb8e>:39: DtypeWarning: Columns (1) have mixed types. Specify dtype option on import or set low_memory=False.\n",
            "  df35 = pd.read_csv('/content/drive/My Drive/ML_Dataset/ISOWeek_of_Sep_11.csv')\n",
            "<ipython-input-1-02ec788cbb8e>:40: DtypeWarning: Columns (1) have mixed types. Specify dtype option on import or set low_memory=False.\n",
            "  df36 = pd.read_csv('/content/drive/My Drive/ML_Dataset/ISOWeek_of_Sep_18.csv')\n",
            "<ipython-input-1-02ec788cbb8e>:41: DtypeWarning: Columns (1) have mixed types. Specify dtype option on import or set low_memory=False.\n",
            "  df37 = pd.read_csv('/content/drive/My Drive/ML_Dataset/ISOWeek_of_Sep_25.csv')\n"
          ]
        }
      ],
      "source": [
        "from google.colab import drive\n",
        "drive.mount('/content/drive')\n",
        "\n",
        "import pandas as pd\n",
        "df1 = pd.read_csv('/content/drive/My Drive/ML_Dataset/ISOWeek_of_Jan_15.csv')\n",
        "df2 = pd.read_csv('/content/drive/My Drive/ML_Dataset/ISOWeek_of_Jan_22.csv')\n",
        "df3 = pd.read_csv('/content/drive/My Drive/ML_Dataset/ISOWeek_of_Jan_29.csv')\n",
        "df4 = pd.read_csv('/content/drive/My Drive/ML_Dataset/ISOWeek_of_Feb_5.csv')\n",
        "df5 = pd.read_csv('/content/drive/My Drive/ML_Dataset/ISOWeek_of_Feb_12.csv')\n",
        "df6 = pd.read_csv('/content/drive/My Drive/ML_Dataset/ISOWeek_of_Feb_19.csv')\n",
        "df7 = pd.read_csv('/content/drive/My Drive/ML_Dataset/ISOWeek_of_Feb_26.csv')\n",
        "df8 = pd.read_csv('/content/drive/My Drive/ML_Dataset/ISOWeek_of_March_4.csv')\n",
        "df9 = pd.read_csv('/content/drive/My Drive/ML_Dataset/ISOWeek_of_March_18.csv')\n",
        "df10 = pd.read_csv('/content/drive/My Drive/ML_Dataset/ISOWeek_of_Mar_25.csv')\n",
        "df11 = pd.read_csv('/content/drive/My Drive/ML_Dataset/ISOWeek_of_Mar_27.csv')\n",
        "df12 = pd.read_csv('/content/drive/My Drive/ML_Dataset/ISOWeek_of_Apr_3.csv')\n",
        "df13 = pd.read_csv('/content/drive/My Drive/ML_Dataset/ISOWeek_of_Apr_10.csv')\n",
        "df14 = pd.read_csv('/content/drive/My Drive/ML_Dataset/ISOWeek_of_Apr_17.csv')\n",
        "df15 = pd.read_csv('/content/drive/My Drive/ML_Dataset/ISOWeek_of_Apr_24.csv')\n",
        "df16 = pd.read_csv('/content/drive/My Drive/ML_Dataset/ISOWeek_of_May_1.csv')\n",
        "df17 = pd.read_csv('/content/drive/My Drive/ML_Dataset/ISOWeek_of_May_8.csv')\n",
        "df18 = pd.read_csv('/content/drive/My Drive/ML_Dataset/ISOWeek_of_May_15.csv')\n",
        "df19 = pd.read_csv('/content/drive/My Drive/ML_Dataset/ISOWeek_of_May_22.csv')\n",
        "df20 = pd.read_csv('/content/drive/My Drive/ML_Dataset/ISOWeek_of_May_29.csv')\n",
        "df21 = pd.read_csv('/content/drive/My Drive/ML_Dataset/ISOWeek_of_Jun_5.csv')\n",
        "df22 = pd.read_csv('/content/drive/My Drive/ML_Dataset/ISOWeek_of_Jun_12.csv')\n",
        "df23 = pd.read_csv('/content/drive/My Drive/ML_Dataset/ISOWeek_of_Jun_19.csv')\n",
        "df24 = pd.read_csv('/content/drive/My Drive/ML_Dataset/ISOWeek_of_Jun_26.csv')\n",
        "df25 = pd.read_csv('/content/drive/My Drive/ML_Dataset/ISOWeek_of_Jul_3.csv')\n",
        "df26 = pd.read_csv('/content/drive/My Drive/ML_Dataset/ISOWeek_of_Jul_10.csv')\n",
        "df27 = pd.read_csv('/content/drive/My Drive/ML_Dataset/ISOWeek_of_Jul_17.csv')\n",
        "df28 = pd.read_csv('/content/drive/My Drive/ML_Dataset/ISOWeek_of_Jul_24.csv')\n",
        "df29 = pd.read_csv('/content/drive/My Drive/ML_Dataset/ISOWeek_of_Jul_31.csv')\n",
        "df30 = pd.read_csv('/content/drive/My Drive/ML_Dataset/ISOWeek_of_Aug_7.csv')\n",
        "df31 = pd.read_csv('/content/drive/My Drive/ML_Dataset/ISOWeek_of_Aug_14.csv')\n",
        "df32 = pd.read_csv('/content/drive/My Drive/ML_Dataset/ISOWeek_of_Aug_21.csv')\n",
        "df33 = pd.read_csv('/content/drive/My Drive/ML_Dataset/ISOWeek_of_Aug_28.csv')\n",
        "df34 = pd.read_csv('/content/drive/My Drive/ML_Dataset/ISOWeek_of_Sep_4.csv')\n",
        "df35 = pd.read_csv('/content/drive/My Drive/ML_Dataset/ISOWeek_of_Sep_11.csv')\n",
        "df36 = pd.read_csv('/content/drive/My Drive/ML_Dataset/ISOWeek_of_Sep_18.csv')\n",
        "df37 = pd.read_csv('/content/drive/My Drive/ML_Dataset/ISOWeek_of_Sep_25.csv')\n",
        "\n"
      ]
    },
    {
      "cell_type": "code",
      "execution_count": null,
      "metadata": {
        "colab": {
          "base_uri": "https://localhost:8080/"
        },
        "id": "5Rq2Rc21xMcE",
        "outputId": "99f68602-6cb1-406f-df18-0ab092b6173f"
      },
      "outputs": [
        {
          "output_type": "stream",
          "name": "stdout",
          "text": [
            "Collecting imblearn\n",
            "  Downloading imblearn-0.0-py2.py3-none-any.whl (1.9 kB)\n",
            "Requirement already satisfied: imbalanced-learn in /usr/local/lib/python3.10/dist-packages (from imblearn) (0.10.1)\n",
            "Requirement already satisfied: numpy>=1.17.3 in /usr/local/lib/python3.10/dist-packages (from imbalanced-learn->imblearn) (1.25.2)\n",
            "Requirement already satisfied: scipy>=1.3.2 in /usr/local/lib/python3.10/dist-packages (from imbalanced-learn->imblearn) (1.11.4)\n",
            "Requirement already satisfied: scikit-learn>=1.0.2 in /usr/local/lib/python3.10/dist-packages (from imbalanced-learn->imblearn) (1.2.2)\n",
            "Requirement already satisfied: joblib>=1.1.1 in /usr/local/lib/python3.10/dist-packages (from imbalanced-learn->imblearn) (1.4.0)\n",
            "Requirement already satisfied: threadpoolctl>=2.0.0 in /usr/local/lib/python3.10/dist-packages (from imbalanced-learn->imblearn) (3.4.0)\n",
            "Installing collected packages: imblearn\n",
            "Successfully installed imblearn-0.0\n"
          ]
        }
      ],
      "source": [
        "!pip install imblearn"
      ]
    },
    {
      "cell_type": "code",
      "source": [
        "!python --version"
      ],
      "metadata": {
        "colab": {
          "base_uri": "https://localhost:8080/"
        },
        "id": "iLywPBJW4yBa",
        "outputId": "18b91671-7441-4b1b-ee78-28161cc99fc0"
      },
      "execution_count": null,
      "outputs": [
        {
          "output_type": "stream",
          "name": "stdout",
          "text": [
            "Python 3.10.12\n"
          ]
        }
      ]
    },
    {
      "cell_type": "code",
      "source": [
        "!pip install streamlit"
      ],
      "metadata": {
        "colab": {
          "base_uri": "https://localhost:8080/"
        },
        "id": "D5vXoPomDoSz",
        "outputId": "cf85191b-36a0-4831-8cfb-19030924e0c2"
      },
      "execution_count": null,
      "outputs": [
        {
          "output_type": "stream",
          "name": "stdout",
          "text": [
            "Collecting streamlit\n",
            "  Downloading streamlit-1.33.0-py2.py3-none-any.whl (8.1 MB)\n",
            "\u001b[2K     \u001b[90m━━━━━━━━━━━━━━━━━━━━━━━━━━━━━━━━━━━━━━━━\u001b[0m \u001b[32m8.1/8.1 MB\u001b[0m \u001b[31m26.5 MB/s\u001b[0m eta \u001b[36m0:00:00\u001b[0m\n",
            "\u001b[?25hRequirement already satisfied: altair<6,>=4.0 in /usr/local/lib/python3.10/dist-packages (from streamlit) (4.2.2)\n",
            "Requirement already satisfied: blinker<2,>=1.0.0 in /usr/lib/python3/dist-packages (from streamlit) (1.4)\n",
            "Requirement already satisfied: cachetools<6,>=4.0 in /usr/local/lib/python3.10/dist-packages (from streamlit) (5.3.3)\n",
            "Requirement already satisfied: click<9,>=7.0 in /usr/local/lib/python3.10/dist-packages (from streamlit) (8.1.7)\n",
            "Requirement already satisfied: numpy<2,>=1.19.3 in /usr/local/lib/python3.10/dist-packages (from streamlit) (1.25.2)\n",
            "Requirement already satisfied: packaging<25,>=16.8 in /usr/local/lib/python3.10/dist-packages (from streamlit) (24.0)\n",
            "Requirement already satisfied: pandas<3,>=1.3.0 in /usr/local/lib/python3.10/dist-packages (from streamlit) (2.0.3)\n",
            "Requirement already satisfied: pillow<11,>=7.1.0 in /usr/local/lib/python3.10/dist-packages (from streamlit) (10.3.0)\n",
            "Requirement already satisfied: protobuf<5,>=3.20 in /usr/local/lib/python3.10/dist-packages (from streamlit) (3.20.3)\n",
            "Collecting pyarrow>=7.0 (from streamlit)\n",
            "  Downloading pyarrow-16.0.0-cp310-cp310-manylinux_2_28_x86_64.whl (40.8 MB)\n",
            "\u001b[2K     \u001b[90m━━━━━━━━━━━━━━━━━━━━━━━━━━━━━━━━━━━━━━━━\u001b[0m \u001b[32m40.8/40.8 MB\u001b[0m \u001b[31m23.3 MB/s\u001b[0m eta \u001b[36m0:00:00\u001b[0m\n",
            "\u001b[?25hRequirement already satisfied: requests<3,>=2.27 in /usr/local/lib/python3.10/dist-packages (from streamlit) (2.31.0)\n",
            "Requirement already satisfied: rich<14,>=10.14.0 in /usr/local/lib/python3.10/dist-packages (from streamlit) (13.7.1)\n",
            "Requirement already satisfied: tenacity<9,>=8.1.0 in /usr/local/lib/python3.10/dist-packages (from streamlit) (8.2.3)\n",
            "Requirement already satisfied: toml<2,>=0.10.1 in /usr/local/lib/python3.10/dist-packages (from streamlit) (0.10.2)\n",
            "Requirement already satisfied: typing-extensions<5,>=4.3.0 in /usr/local/lib/python3.10/dist-packages (from streamlit) (4.11.0)\n",
            "Collecting gitpython!=3.1.19,<4,>=3.0.7 (from streamlit)\n",
            "  Downloading GitPython-3.1.43-py3-none-any.whl (207 kB)\n",
            "\u001b[2K     \u001b[90m━━━━━━━━━━━━━━━━━━━━━━━━━━━━━━━━━━━━━━━━\u001b[0m \u001b[32m207.3/207.3 kB\u001b[0m \u001b[31m18.7 MB/s\u001b[0m eta \u001b[36m0:00:00\u001b[0m\n",
            "\u001b[?25hCollecting pydeck<1,>=0.8.0b4 (from streamlit)\n",
            "  Downloading pydeck-0.9.0b0-py2.py3-none-any.whl (6.9 MB)\n",
            "\u001b[2K     \u001b[90m━━━━━━━━━━━━━━━━━━━━━━━━━━━━━━━━━━━━━━━━\u001b[0m \u001b[32m6.9/6.9 MB\u001b[0m \u001b[31m61.8 MB/s\u001b[0m eta \u001b[36m0:00:00\u001b[0m\n",
            "\u001b[?25hRequirement already satisfied: tornado<7,>=6.0.3 in /usr/local/lib/python3.10/dist-packages (from streamlit) (6.3.3)\n",
            "Collecting watchdog>=2.1.5 (from streamlit)\n",
            "  Downloading watchdog-4.0.0-py3-none-manylinux2014_x86_64.whl (82 kB)\n",
            "\u001b[2K     \u001b[90m━━━━━━━━━━━━━━━━━━━━━━━━━━━━━━━━━━━━━━━━\u001b[0m \u001b[32m83.0/83.0 kB\u001b[0m \u001b[31m9.4 MB/s\u001b[0m eta \u001b[36m0:00:00\u001b[0m\n",
            "\u001b[?25hRequirement already satisfied: entrypoints in /usr/local/lib/python3.10/dist-packages (from altair<6,>=4.0->streamlit) (0.4)\n",
            "Requirement already satisfied: jinja2 in /usr/local/lib/python3.10/dist-packages (from altair<6,>=4.0->streamlit) (3.1.3)\n",
            "Requirement already satisfied: jsonschema>=3.0 in /usr/local/lib/python3.10/dist-packages (from altair<6,>=4.0->streamlit) (4.21.1)\n",
            "Requirement already satisfied: toolz in /usr/local/lib/python3.10/dist-packages (from altair<6,>=4.0->streamlit) (0.12.1)\n",
            "Collecting gitdb<5,>=4.0.1 (from gitpython!=3.1.19,<4,>=3.0.7->streamlit)\n",
            "  Downloading gitdb-4.0.11-py3-none-any.whl (62 kB)\n",
            "\u001b[2K     \u001b[90m━━━━━━━━━━━━━━━━━━━━━━━━━━━━━━━━━━━━━━━━\u001b[0m \u001b[32m62.7/62.7 kB\u001b[0m \u001b[31m6.4 MB/s\u001b[0m eta \u001b[36m0:00:00\u001b[0m\n",
            "\u001b[?25hRequirement already satisfied: python-dateutil>=2.8.2 in /usr/local/lib/python3.10/dist-packages (from pandas<3,>=1.3.0->streamlit) (2.9.0.post0)\n",
            "Requirement already satisfied: pytz>=2020.1 in /usr/local/lib/python3.10/dist-packages (from pandas<3,>=1.3.0->streamlit) (2024.1)\n",
            "Requirement already satisfied: tzdata>=2022.1 in /usr/local/lib/python3.10/dist-packages (from pandas<3,>=1.3.0->streamlit) (2024.1)\n",
            "Requirement already satisfied: charset-normalizer<4,>=2 in /usr/local/lib/python3.10/dist-packages (from requests<3,>=2.27->streamlit) (3.3.2)\n",
            "Requirement already satisfied: idna<4,>=2.5 in /usr/local/lib/python3.10/dist-packages (from requests<3,>=2.27->streamlit) (3.7)\n",
            "Requirement already satisfied: urllib3<3,>=1.21.1 in /usr/local/lib/python3.10/dist-packages (from requests<3,>=2.27->streamlit) (2.0.7)\n",
            "Requirement already satisfied: certifi>=2017.4.17 in /usr/local/lib/python3.10/dist-packages (from requests<3,>=2.27->streamlit) (2024.2.2)\n",
            "Requirement already satisfied: markdown-it-py>=2.2.0 in /usr/local/lib/python3.10/dist-packages (from rich<14,>=10.14.0->streamlit) (3.0.0)\n",
            "Requirement already satisfied: pygments<3.0.0,>=2.13.0 in /usr/local/lib/python3.10/dist-packages (from rich<14,>=10.14.0->streamlit) (2.17.2)\n",
            "Collecting smmap<6,>=3.0.1 (from gitdb<5,>=4.0.1->gitpython!=3.1.19,<4,>=3.0.7->streamlit)\n",
            "  Downloading smmap-5.0.1-py3-none-any.whl (24 kB)\n",
            "Requirement already satisfied: MarkupSafe>=2.0 in /usr/local/lib/python3.10/dist-packages (from jinja2->altair<6,>=4.0->streamlit) (2.1.5)\n",
            "Requirement already satisfied: attrs>=22.2.0 in /usr/local/lib/python3.10/dist-packages (from jsonschema>=3.0->altair<6,>=4.0->streamlit) (23.2.0)\n",
            "Requirement already satisfied: jsonschema-specifications>=2023.03.6 in /usr/local/lib/python3.10/dist-packages (from jsonschema>=3.0->altair<6,>=4.0->streamlit) (2023.12.1)\n",
            "Requirement already satisfied: referencing>=0.28.4 in /usr/local/lib/python3.10/dist-packages (from jsonschema>=3.0->altair<6,>=4.0->streamlit) (0.34.0)\n",
            "Requirement already satisfied: rpds-py>=0.7.1 in /usr/local/lib/python3.10/dist-packages (from jsonschema>=3.0->altair<6,>=4.0->streamlit) (0.18.0)\n",
            "Requirement already satisfied: mdurl~=0.1 in /usr/local/lib/python3.10/dist-packages (from markdown-it-py>=2.2.0->rich<14,>=10.14.0->streamlit) (0.1.2)\n",
            "Requirement already satisfied: six>=1.5 in /usr/local/lib/python3.10/dist-packages (from python-dateutil>=2.8.2->pandas<3,>=1.3.0->streamlit) (1.16.0)\n",
            "Installing collected packages: watchdog, smmap, pyarrow, pydeck, gitdb, gitpython, streamlit\n",
            "Successfully installed gitdb-4.0.11 gitpython-3.1.43 pyarrow-16.0.0 pydeck-0.9.0b0 smmap-5.0.1 streamlit-1.33.0 watchdog-4.0.0\n"
          ]
        }
      ]
    },
    {
      "cell_type": "code",
      "execution_count": null,
      "metadata": {
        "id": "6y7G92tB1rDd"
      },
      "outputs": [],
      "source": [
        "# Create an empty list to hold the dataframes\n",
        "dataframes = []\n",
        "\n",
        "# Loop through dataframe names and append them to the list\n",
        "for i in range(1, 38):  # Loop from 1 to 37 (inclusive)\n",
        "  dataframes.append(eval(f\"df{i}\"))\n",
        "\n",
        "# Concatenate the dataframes into a new dataframe (df4)\n",
        "df_unfiltered = pd.concat(dataframes)"
      ]
    },
    {
      "cell_type": "code",
      "execution_count": null,
      "metadata": {
        "colab": {
          "base_uri": "https://localhost:8080/"
        },
        "id": "oAi8CnbhF-sb",
        "outputId": "c8de6ec7-8433-428e-d3a3-f924892e18ef"
      },
      "outputs": [
        {
          "output_type": "execute_result",
          "data": {
            "text/plain": [
              "(1514591, 50)"
            ]
          },
          "metadata": {},
          "execution_count": 5
        }
      ],
      "source": [
        "df_unfiltered.shape"
      ]
    },
    {
      "cell_type": "code",
      "execution_count": null,
      "metadata": {
        "colab": {
          "base_uri": "https://localhost:8080/"
        },
        "id": "yjeSns6AZrwO",
        "outputId": "0365be40-de8f-4a8e-8ef9-546fefb88806"
      },
      "outputs": [
        {
          "output_type": "execute_result",
          "data": {
            "text/plain": [
              "(415110, 50)"
            ]
          },
          "metadata": {},
          "execution_count": 6
        }
      ],
      "source": [
        "# Keeping only records where total_due amount is greater than or equal to 1000 and DPD not greater than 90\n",
        "df_unsorted_1 = df_unfiltered[df_unfiltered['Total_due'] >= 1000]\n",
        "df_unsorted_2 = df_unsorted_1[df_unsorted_1['DaysInArrears_calc']< 90]\n",
        "\n",
        "#Sort records by ascending Due_day\n",
        "df = df_unsorted_2.sort_values(by='Due_Day', ascending=True)\n",
        "\n",
        "df.shape"
      ]
    },
    {
      "cell_type": "code",
      "execution_count": null,
      "metadata": {
        "colab": {
          "base_uri": "https://localhost:8080/"
        },
        "id": "8LkcL0Y4StvX",
        "outputId": "915a9eec-272a-43a2-8380-0a6f4820e91c"
      },
      "outputs": [
        {
          "output_type": "stream",
          "name": "stdout",
          "text": [
            "DataFrame successfully exported to CSV file: /content/drive/MyDrive/ML_Dataset/37Wks.csv\n"
          ]
        }
      ],
      "source": [
        "path_to_csv = '/content/drive/MyDrive/ML_Dataset/37Wks.csv'  # Replace with your desired path\n",
        "\n",
        "# Save the DataFrame to a CSV file\n",
        "df.to_csv(path_to_csv, index=False)  # Set index=False to avoid saving the index column\n",
        "\n",
        "print(f\"DataFrame successfully exported to CSV file: {path_to_csv}\")"
      ]
    },
    {
      "cell_type": "code",
      "execution_count": null,
      "metadata": {
        "colab": {
          "base_uri": "https://localhost:8080/",
          "height": 586
        },
        "id": "xy-AhmNcGfNr",
        "outputId": "46350958-cf75-4a5c-bbb4-c277c43f025b"
      },
      "outputs": [
        {
          "output_type": "execute_result",
          "data": {
            "text/plain": [
              "          Due_Day  SystemLoanID  SystemCustomerID        CustomerName  \\\n",
              "46215  2023-03-27  309560928359         831146931      Ozugha Uchenna   \n",
              "50702  2023-03-27  309590193247         495716091         Dorgu Flora   \n",
              "50703  2023-03-27  309590201658         468658104       Igodo Munachi   \n",
              "50706  2023-03-27  309590233187         674502012     Oguntolu Bukola   \n",
              "50710  2023-03-27  309590242943         996672160    Akindele Sekinat   \n",
              "50712  2023-03-27  309590248045         563224459       Igho Oghorodi   \n",
              "50714  2023-03-27  309590253808          88919663  Erinfolami Ezekiel   \n",
              "50701  2023-03-27  309590188415         197968200     Adesanya Sakiru   \n",
              "50715  2023-03-27  309590260767         194445923        Ekun Micheal   \n",
              "50717  2023-03-27  309590279506         278918079       Ayeni Oladele   \n",
              "\n",
              "             Product DaysinArrears_calcbucket  DaysInArrears_calc  Total_due  \\\n",
              "46215  Paylater Loan             3. 60-89days                  65   10646.67   \n",
              "50702  Paylater Loan             2. 30-59days                  58   28550.00   \n",
              "50703  Paylater Loan             2. 30-59days                  58   37289.51   \n",
              "50706  Paylater Loan              1. 1-29days                  27   47083.39   \n",
              "50710  Paylater Loan             2. 30-59days                  58   38463.34   \n",
              "50712  Paylater Loan             2. 30-59days                  58   83489.86   \n",
              "50714  Paylater Loan              1. 1-29days                  27    7191.10   \n",
              "50701  Paylater Loan             2. 30-59days                  58   37700.00   \n",
              "50715  Paylater Loan             2. 30-59days                  58    3900.00   \n",
              "50717  Paylater Loan             3. 60-89days                  72   39255.42   \n",
              "\n",
              "       LoanAmount Disburseddate  ...  peak_or_non_peak_week  \\\n",
              "46215    19000.00    2022-11-21  ...                   Peak   \n",
              "50702    20000.00    2022-12-28  ...                   Peak   \n",
              "50703    39000.00    2022-12-28  ...                   Peak   \n",
              "50706   285000.00    2022-12-28  ...                   Peak   \n",
              "50710    24500.00    2022-12-28  ...                   Peak   \n",
              "50712    58000.00    2022-12-28  ...                   Peak   \n",
              "50714    22500.00    2022-12-28  ...                   Peak   \n",
              "50701    29000.00    2022-12-28  ...                   Peak   \n",
              "50715     3000.00    2022-12-28  ...                   Peak   \n",
              "50717    55289.34    2022-12-28  ...                   Peak   \n",
              "\n",
              "       last_transaction_date  dayssincelasttransaction last_repayment_date  \\\n",
              "46215             2023-03-22                       5.0          2023-03-22   \n",
              "50702             2023-01-27                      59.0          2023-01-27   \n",
              "50703             2022-12-28                      89.0          2023-02-16   \n",
              "50706             2023-03-17                      10.0          2023-03-17   \n",
              "50710             2023-01-27                      59.0          2023-01-27   \n",
              "50712             2023-02-01                      54.0          2023-02-01   \n",
              "50714             2023-03-16                      11.0          2023-03-16   \n",
              "50701             2022-12-28                      89.0                 NaN   \n",
              "50715             2022-12-28                      89.0                 NaN   \n",
              "50717             2022-12-28                      89.0                 NaN   \n",
              "\n",
              "      dayssincelastrepayment tier_currentdate report_date_current  \\\n",
              "46215                    5.0                1          2023-03-27   \n",
              "50702                   59.0                1          2023-03-27   \n",
              "50703                   39.0                1          2023-03-27   \n",
              "50706                   10.0                2          2023-03-27   \n",
              "50710                   59.0                1          2023-03-27   \n",
              "50712                   54.0                1          2023-03-27   \n",
              "50714                   11.0                2          2023-03-27   \n",
              "50701                    NaN                1          2023-03-27   \n",
              "50715                    NaN                1          2023-03-27   \n",
              "50717                    NaN                1          2023-03-27   \n",
              "\n",
              "      tier_disburseddate  report_date_disbursed  tier_difference  \n",
              "46215                  3             2022-11-21               -2  \n",
              "50702                  3             2022-12-26               -2  \n",
              "50703                  1             2022-12-26                0  \n",
              "50706                  5             2022-12-26               -3  \n",
              "50710                  1             2022-12-26                0  \n",
              "50712                  3             2022-12-26               -2  \n",
              "50714                  2             2022-12-26                0  \n",
              "50701                  2             2022-12-26               -1  \n",
              "50715                  2             2022-12-26               -1  \n",
              "50717                  3             2022-12-26               -2  \n",
              "\n",
              "[10 rows x 50 columns]"
            ],
            "text/html": [
              "\n",
              "  <div id=\"df-e4a6305f-ad67-44fe-9f6d-4fdfa7604e35\" class=\"colab-df-container\">\n",
              "    <div>\n",
              "<style scoped>\n",
              "    .dataframe tbody tr th:only-of-type {\n",
              "        vertical-align: middle;\n",
              "    }\n",
              "\n",
              "    .dataframe tbody tr th {\n",
              "        vertical-align: top;\n",
              "    }\n",
              "\n",
              "    .dataframe thead th {\n",
              "        text-align: right;\n",
              "    }\n",
              "</style>\n",
              "<table border=\"1\" class=\"dataframe\">\n",
              "  <thead>\n",
              "    <tr style=\"text-align: right;\">\n",
              "      <th></th>\n",
              "      <th>Due_Day</th>\n",
              "      <th>SystemLoanID</th>\n",
              "      <th>SystemCustomerID</th>\n",
              "      <th>CustomerName</th>\n",
              "      <th>Product</th>\n",
              "      <th>DaysinArrears_calcbucket</th>\n",
              "      <th>DaysInArrears_calc</th>\n",
              "      <th>Total_due</th>\n",
              "      <th>LoanAmount</th>\n",
              "      <th>Disburseddate</th>\n",
              "      <th>...</th>\n",
              "      <th>peak_or_non_peak_week</th>\n",
              "      <th>last_transaction_date</th>\n",
              "      <th>dayssincelasttransaction</th>\n",
              "      <th>last_repayment_date</th>\n",
              "      <th>dayssincelastrepayment</th>\n",
              "      <th>tier_currentdate</th>\n",
              "      <th>report_date_current</th>\n",
              "      <th>tier_disburseddate</th>\n",
              "      <th>report_date_disbursed</th>\n",
              "      <th>tier_difference</th>\n",
              "    </tr>\n",
              "  </thead>\n",
              "  <tbody>\n",
              "    <tr>\n",
              "      <th>46215</th>\n",
              "      <td>2023-03-27</td>\n",
              "      <td>309560928359</td>\n",
              "      <td>831146931</td>\n",
              "      <td>Ozugha Uchenna</td>\n",
              "      <td>Paylater Loan</td>\n",
              "      <td>3. 60-89days</td>\n",
              "      <td>65</td>\n",
              "      <td>10646.67</td>\n",
              "      <td>19000.00</td>\n",
              "      <td>2022-11-21</td>\n",
              "      <td>...</td>\n",
              "      <td>Peak</td>\n",
              "      <td>2023-03-22</td>\n",
              "      <td>5.0</td>\n",
              "      <td>2023-03-22</td>\n",
              "      <td>5.0</td>\n",
              "      <td>1</td>\n",
              "      <td>2023-03-27</td>\n",
              "      <td>3</td>\n",
              "      <td>2022-11-21</td>\n",
              "      <td>-2</td>\n",
              "    </tr>\n",
              "    <tr>\n",
              "      <th>50702</th>\n",
              "      <td>2023-03-27</td>\n",
              "      <td>309590193247</td>\n",
              "      <td>495716091</td>\n",
              "      <td>Dorgu Flora</td>\n",
              "      <td>Paylater Loan</td>\n",
              "      <td>2. 30-59days</td>\n",
              "      <td>58</td>\n",
              "      <td>28550.00</td>\n",
              "      <td>20000.00</td>\n",
              "      <td>2022-12-28</td>\n",
              "      <td>...</td>\n",
              "      <td>Peak</td>\n",
              "      <td>2023-01-27</td>\n",
              "      <td>59.0</td>\n",
              "      <td>2023-01-27</td>\n",
              "      <td>59.0</td>\n",
              "      <td>1</td>\n",
              "      <td>2023-03-27</td>\n",
              "      <td>3</td>\n",
              "      <td>2022-12-26</td>\n",
              "      <td>-2</td>\n",
              "    </tr>\n",
              "    <tr>\n",
              "      <th>50703</th>\n",
              "      <td>2023-03-27</td>\n",
              "      <td>309590201658</td>\n",
              "      <td>468658104</td>\n",
              "      <td>Igodo Munachi</td>\n",
              "      <td>Paylater Loan</td>\n",
              "      <td>2. 30-59days</td>\n",
              "      <td>58</td>\n",
              "      <td>37289.51</td>\n",
              "      <td>39000.00</td>\n",
              "      <td>2022-12-28</td>\n",
              "      <td>...</td>\n",
              "      <td>Peak</td>\n",
              "      <td>2022-12-28</td>\n",
              "      <td>89.0</td>\n",
              "      <td>2023-02-16</td>\n",
              "      <td>39.0</td>\n",
              "      <td>1</td>\n",
              "      <td>2023-03-27</td>\n",
              "      <td>1</td>\n",
              "      <td>2022-12-26</td>\n",
              "      <td>0</td>\n",
              "    </tr>\n",
              "    <tr>\n",
              "      <th>50706</th>\n",
              "      <td>2023-03-27</td>\n",
              "      <td>309590233187</td>\n",
              "      <td>674502012</td>\n",
              "      <td>Oguntolu Bukola</td>\n",
              "      <td>Paylater Loan</td>\n",
              "      <td>1. 1-29days</td>\n",
              "      <td>27</td>\n",
              "      <td>47083.39</td>\n",
              "      <td>285000.00</td>\n",
              "      <td>2022-12-28</td>\n",
              "      <td>...</td>\n",
              "      <td>Peak</td>\n",
              "      <td>2023-03-17</td>\n",
              "      <td>10.0</td>\n",
              "      <td>2023-03-17</td>\n",
              "      <td>10.0</td>\n",
              "      <td>2</td>\n",
              "      <td>2023-03-27</td>\n",
              "      <td>5</td>\n",
              "      <td>2022-12-26</td>\n",
              "      <td>-3</td>\n",
              "    </tr>\n",
              "    <tr>\n",
              "      <th>50710</th>\n",
              "      <td>2023-03-27</td>\n",
              "      <td>309590242943</td>\n",
              "      <td>996672160</td>\n",
              "      <td>Akindele Sekinat</td>\n",
              "      <td>Paylater Loan</td>\n",
              "      <td>2. 30-59days</td>\n",
              "      <td>58</td>\n",
              "      <td>38463.34</td>\n",
              "      <td>24500.00</td>\n",
              "      <td>2022-12-28</td>\n",
              "      <td>...</td>\n",
              "      <td>Peak</td>\n",
              "      <td>2023-01-27</td>\n",
              "      <td>59.0</td>\n",
              "      <td>2023-01-27</td>\n",
              "      <td>59.0</td>\n",
              "      <td>1</td>\n",
              "      <td>2023-03-27</td>\n",
              "      <td>1</td>\n",
              "      <td>2022-12-26</td>\n",
              "      <td>0</td>\n",
              "    </tr>\n",
              "    <tr>\n",
              "      <th>50712</th>\n",
              "      <td>2023-03-27</td>\n",
              "      <td>309590248045</td>\n",
              "      <td>563224459</td>\n",
              "      <td>Igho Oghorodi</td>\n",
              "      <td>Paylater Loan</td>\n",
              "      <td>2. 30-59days</td>\n",
              "      <td>58</td>\n",
              "      <td>83489.86</td>\n",
              "      <td>58000.00</td>\n",
              "      <td>2022-12-28</td>\n",
              "      <td>...</td>\n",
              "      <td>Peak</td>\n",
              "      <td>2023-02-01</td>\n",
              "      <td>54.0</td>\n",
              "      <td>2023-02-01</td>\n",
              "      <td>54.0</td>\n",
              "      <td>1</td>\n",
              "      <td>2023-03-27</td>\n",
              "      <td>3</td>\n",
              "      <td>2022-12-26</td>\n",
              "      <td>-2</td>\n",
              "    </tr>\n",
              "    <tr>\n",
              "      <th>50714</th>\n",
              "      <td>2023-03-27</td>\n",
              "      <td>309590253808</td>\n",
              "      <td>88919663</td>\n",
              "      <td>Erinfolami Ezekiel</td>\n",
              "      <td>Paylater Loan</td>\n",
              "      <td>1. 1-29days</td>\n",
              "      <td>27</td>\n",
              "      <td>7191.10</td>\n",
              "      <td>22500.00</td>\n",
              "      <td>2022-12-28</td>\n",
              "      <td>...</td>\n",
              "      <td>Peak</td>\n",
              "      <td>2023-03-16</td>\n",
              "      <td>11.0</td>\n",
              "      <td>2023-03-16</td>\n",
              "      <td>11.0</td>\n",
              "      <td>2</td>\n",
              "      <td>2023-03-27</td>\n",
              "      <td>2</td>\n",
              "      <td>2022-12-26</td>\n",
              "      <td>0</td>\n",
              "    </tr>\n",
              "    <tr>\n",
              "      <th>50701</th>\n",
              "      <td>2023-03-27</td>\n",
              "      <td>309590188415</td>\n",
              "      <td>197968200</td>\n",
              "      <td>Adesanya Sakiru</td>\n",
              "      <td>Paylater Loan</td>\n",
              "      <td>2. 30-59days</td>\n",
              "      <td>58</td>\n",
              "      <td>37700.00</td>\n",
              "      <td>29000.00</td>\n",
              "      <td>2022-12-28</td>\n",
              "      <td>...</td>\n",
              "      <td>Peak</td>\n",
              "      <td>2022-12-28</td>\n",
              "      <td>89.0</td>\n",
              "      <td>NaN</td>\n",
              "      <td>NaN</td>\n",
              "      <td>1</td>\n",
              "      <td>2023-03-27</td>\n",
              "      <td>2</td>\n",
              "      <td>2022-12-26</td>\n",
              "      <td>-1</td>\n",
              "    </tr>\n",
              "    <tr>\n",
              "      <th>50715</th>\n",
              "      <td>2023-03-27</td>\n",
              "      <td>309590260767</td>\n",
              "      <td>194445923</td>\n",
              "      <td>Ekun Micheal</td>\n",
              "      <td>Paylater Loan</td>\n",
              "      <td>2. 30-59days</td>\n",
              "      <td>58</td>\n",
              "      <td>3900.00</td>\n",
              "      <td>3000.00</td>\n",
              "      <td>2022-12-28</td>\n",
              "      <td>...</td>\n",
              "      <td>Peak</td>\n",
              "      <td>2022-12-28</td>\n",
              "      <td>89.0</td>\n",
              "      <td>NaN</td>\n",
              "      <td>NaN</td>\n",
              "      <td>1</td>\n",
              "      <td>2023-03-27</td>\n",
              "      <td>2</td>\n",
              "      <td>2022-12-26</td>\n",
              "      <td>-1</td>\n",
              "    </tr>\n",
              "    <tr>\n",
              "      <th>50717</th>\n",
              "      <td>2023-03-27</td>\n",
              "      <td>309590279506</td>\n",
              "      <td>278918079</td>\n",
              "      <td>Ayeni Oladele</td>\n",
              "      <td>Paylater Loan</td>\n",
              "      <td>3. 60-89days</td>\n",
              "      <td>72</td>\n",
              "      <td>39255.42</td>\n",
              "      <td>55289.34</td>\n",
              "      <td>2022-12-28</td>\n",
              "      <td>...</td>\n",
              "      <td>Peak</td>\n",
              "      <td>2022-12-28</td>\n",
              "      <td>89.0</td>\n",
              "      <td>NaN</td>\n",
              "      <td>NaN</td>\n",
              "      <td>1</td>\n",
              "      <td>2023-03-27</td>\n",
              "      <td>3</td>\n",
              "      <td>2022-12-26</td>\n",
              "      <td>-2</td>\n",
              "    </tr>\n",
              "  </tbody>\n",
              "</table>\n",
              "<p>10 rows × 50 columns</p>\n",
              "</div>\n",
              "    <div class=\"colab-df-buttons\">\n",
              "\n",
              "  <div class=\"colab-df-container\">\n",
              "    <button class=\"colab-df-convert\" onclick=\"convertToInteractive('df-e4a6305f-ad67-44fe-9f6d-4fdfa7604e35')\"\n",
              "            title=\"Convert this dataframe to an interactive table.\"\n",
              "            style=\"display:none;\">\n",
              "\n",
              "  <svg xmlns=\"http://www.w3.org/2000/svg\" height=\"24px\" viewBox=\"0 -960 960 960\">\n",
              "    <path d=\"M120-120v-720h720v720H120Zm60-500h600v-160H180v160Zm220 220h160v-160H400v160Zm0 220h160v-160H400v160ZM180-400h160v-160H180v160Zm440 0h160v-160H620v160ZM180-180h160v-160H180v160Zm440 0h160v-160H620v160Z\"/>\n",
              "  </svg>\n",
              "    </button>\n",
              "\n",
              "  <style>\n",
              "    .colab-df-container {\n",
              "      display:flex;\n",
              "      gap: 12px;\n",
              "    }\n",
              "\n",
              "    .colab-df-convert {\n",
              "      background-color: #E8F0FE;\n",
              "      border: none;\n",
              "      border-radius: 50%;\n",
              "      cursor: pointer;\n",
              "      display: none;\n",
              "      fill: #1967D2;\n",
              "      height: 32px;\n",
              "      padding: 0 0 0 0;\n",
              "      width: 32px;\n",
              "    }\n",
              "\n",
              "    .colab-df-convert:hover {\n",
              "      background-color: #E2EBFA;\n",
              "      box-shadow: 0px 1px 2px rgba(60, 64, 67, 0.3), 0px 1px 3px 1px rgba(60, 64, 67, 0.15);\n",
              "      fill: #174EA6;\n",
              "    }\n",
              "\n",
              "    .colab-df-buttons div {\n",
              "      margin-bottom: 4px;\n",
              "    }\n",
              "\n",
              "    [theme=dark] .colab-df-convert {\n",
              "      background-color: #3B4455;\n",
              "      fill: #D2E3FC;\n",
              "    }\n",
              "\n",
              "    [theme=dark] .colab-df-convert:hover {\n",
              "      background-color: #434B5C;\n",
              "      box-shadow: 0px 1px 3px 1px rgba(0, 0, 0, 0.15);\n",
              "      filter: drop-shadow(0px 1px 2px rgba(0, 0, 0, 0.3));\n",
              "      fill: #FFFFFF;\n",
              "    }\n",
              "  </style>\n",
              "\n",
              "    <script>\n",
              "      const buttonEl =\n",
              "        document.querySelector('#df-e4a6305f-ad67-44fe-9f6d-4fdfa7604e35 button.colab-df-convert');\n",
              "      buttonEl.style.display =\n",
              "        google.colab.kernel.accessAllowed ? 'block' : 'none';\n",
              "\n",
              "      async function convertToInteractive(key) {\n",
              "        const element = document.querySelector('#df-e4a6305f-ad67-44fe-9f6d-4fdfa7604e35');\n",
              "        const dataTable =\n",
              "          await google.colab.kernel.invokeFunction('convertToInteractive',\n",
              "                                                    [key], {});\n",
              "        if (!dataTable) return;\n",
              "\n",
              "        const docLinkHtml = 'Like what you see? Visit the ' +\n",
              "          '<a target=\"_blank\" href=https://colab.research.google.com/notebooks/data_table.ipynb>data table notebook</a>'\n",
              "          + ' to learn more about interactive tables.';\n",
              "        element.innerHTML = '';\n",
              "        dataTable['output_type'] = 'display_data';\n",
              "        await google.colab.output.renderOutput(dataTable, element);\n",
              "        const docLink = document.createElement('div');\n",
              "        docLink.innerHTML = docLinkHtml;\n",
              "        element.appendChild(docLink);\n",
              "      }\n",
              "    </script>\n",
              "  </div>\n",
              "\n",
              "\n",
              "<div id=\"df-bc567585-77b9-4592-bf8d-49033914226d\">\n",
              "  <button class=\"colab-df-quickchart\" onclick=\"quickchart('df-bc567585-77b9-4592-bf8d-49033914226d')\"\n",
              "            title=\"Suggest charts\"\n",
              "            style=\"display:none;\">\n",
              "\n",
              "<svg xmlns=\"http://www.w3.org/2000/svg\" height=\"24px\"viewBox=\"0 0 24 24\"\n",
              "     width=\"24px\">\n",
              "    <g>\n",
              "        <path d=\"M19 3H5c-1.1 0-2 .9-2 2v14c0 1.1.9 2 2 2h14c1.1 0 2-.9 2-2V5c0-1.1-.9-2-2-2zM9 17H7v-7h2v7zm4 0h-2V7h2v10zm4 0h-2v-4h2v4z\"/>\n",
              "    </g>\n",
              "</svg>\n",
              "  </button>\n",
              "\n",
              "<style>\n",
              "  .colab-df-quickchart {\n",
              "      --bg-color: #E8F0FE;\n",
              "      --fill-color: #1967D2;\n",
              "      --hover-bg-color: #E2EBFA;\n",
              "      --hover-fill-color: #174EA6;\n",
              "      --disabled-fill-color: #AAA;\n",
              "      --disabled-bg-color: #DDD;\n",
              "  }\n",
              "\n",
              "  [theme=dark] .colab-df-quickchart {\n",
              "      --bg-color: #3B4455;\n",
              "      --fill-color: #D2E3FC;\n",
              "      --hover-bg-color: #434B5C;\n",
              "      --hover-fill-color: #FFFFFF;\n",
              "      --disabled-bg-color: #3B4455;\n",
              "      --disabled-fill-color: #666;\n",
              "  }\n",
              "\n",
              "  .colab-df-quickchart {\n",
              "    background-color: var(--bg-color);\n",
              "    border: none;\n",
              "    border-radius: 50%;\n",
              "    cursor: pointer;\n",
              "    display: none;\n",
              "    fill: var(--fill-color);\n",
              "    height: 32px;\n",
              "    padding: 0;\n",
              "    width: 32px;\n",
              "  }\n",
              "\n",
              "  .colab-df-quickchart:hover {\n",
              "    background-color: var(--hover-bg-color);\n",
              "    box-shadow: 0 1px 2px rgba(60, 64, 67, 0.3), 0 1px 3px 1px rgba(60, 64, 67, 0.15);\n",
              "    fill: var(--button-hover-fill-color);\n",
              "  }\n",
              "\n",
              "  .colab-df-quickchart-complete:disabled,\n",
              "  .colab-df-quickchart-complete:disabled:hover {\n",
              "    background-color: var(--disabled-bg-color);\n",
              "    fill: var(--disabled-fill-color);\n",
              "    box-shadow: none;\n",
              "  }\n",
              "\n",
              "  .colab-df-spinner {\n",
              "    border: 2px solid var(--fill-color);\n",
              "    border-color: transparent;\n",
              "    border-bottom-color: var(--fill-color);\n",
              "    animation:\n",
              "      spin 1s steps(1) infinite;\n",
              "  }\n",
              "\n",
              "  @keyframes spin {\n",
              "    0% {\n",
              "      border-color: transparent;\n",
              "      border-bottom-color: var(--fill-color);\n",
              "      border-left-color: var(--fill-color);\n",
              "    }\n",
              "    20% {\n",
              "      border-color: transparent;\n",
              "      border-left-color: var(--fill-color);\n",
              "      border-top-color: var(--fill-color);\n",
              "    }\n",
              "    30% {\n",
              "      border-color: transparent;\n",
              "      border-left-color: var(--fill-color);\n",
              "      border-top-color: var(--fill-color);\n",
              "      border-right-color: var(--fill-color);\n",
              "    }\n",
              "    40% {\n",
              "      border-color: transparent;\n",
              "      border-right-color: var(--fill-color);\n",
              "      border-top-color: var(--fill-color);\n",
              "    }\n",
              "    60% {\n",
              "      border-color: transparent;\n",
              "      border-right-color: var(--fill-color);\n",
              "    }\n",
              "    80% {\n",
              "      border-color: transparent;\n",
              "      border-right-color: var(--fill-color);\n",
              "      border-bottom-color: var(--fill-color);\n",
              "    }\n",
              "    90% {\n",
              "      border-color: transparent;\n",
              "      border-bottom-color: var(--fill-color);\n",
              "    }\n",
              "  }\n",
              "</style>\n",
              "\n",
              "  <script>\n",
              "    async function quickchart(key) {\n",
              "      const quickchartButtonEl =\n",
              "        document.querySelector('#' + key + ' button');\n",
              "      quickchartButtonEl.disabled = true;  // To prevent multiple clicks.\n",
              "      quickchartButtonEl.classList.add('colab-df-spinner');\n",
              "      try {\n",
              "        const charts = await google.colab.kernel.invokeFunction(\n",
              "            'suggestCharts', [key], {});\n",
              "      } catch (error) {\n",
              "        console.error('Error during call to suggestCharts:', error);\n",
              "      }\n",
              "      quickchartButtonEl.classList.remove('colab-df-spinner');\n",
              "      quickchartButtonEl.classList.add('colab-df-quickchart-complete');\n",
              "    }\n",
              "    (() => {\n",
              "      let quickchartButtonEl =\n",
              "        document.querySelector('#df-bc567585-77b9-4592-bf8d-49033914226d button');\n",
              "      quickchartButtonEl.style.display =\n",
              "        google.colab.kernel.accessAllowed ? 'block' : 'none';\n",
              "    })();\n",
              "  </script>\n",
              "</div>\n",
              "    </div>\n",
              "  </div>\n"
            ],
            "application/vnd.google.colaboratory.intrinsic+json": {
              "type": "dataframe",
              "variable_name": "df"
            }
          },
          "metadata": {},
          "execution_count": 8
        }
      ],
      "source": [
        "df.head(10)"
      ]
    },
    {
      "cell_type": "markdown",
      "metadata": {
        "id": "Jo2j-zqDqoKu"
      },
      "source": [
        "Let's check for missing values in the combined dataset"
      ]
    },
    {
      "cell_type": "code",
      "execution_count": null,
      "metadata": {
        "colab": {
          "base_uri": "https://localhost:8080/"
        },
        "id": "zokZk--9J_KH",
        "outputId": "fe0ceb20-512d-4b93-ce36-390c973dda12"
      },
      "outputs": [
        {
          "output_type": "execute_result",
          "data": {
            "text/plain": [
              "Due_Day                          0\n",
              "SystemLoanID                     0\n",
              "SystemCustomerID                 0\n",
              "CustomerName                     9\n",
              "Product                          0\n",
              "DaysinArrears_calcbucket         0\n",
              "DaysInArrears_calc               0\n",
              "Total_due                        0\n",
              "LoanAmount                       0\n",
              "Disburseddate                    0\n",
              "OSP                              3\n",
              "Totalrepaymentamount        317446\n",
              "repaymentcount                   0\n",
              "Loan_State                       0\n",
              "Due_Status                       0\n",
              "CustomerName_1                   9\n",
              "Gender                        3208\n",
              "Region                       21297\n",
              "CustomerAge                   3172\n",
              "CarbonAge                        0\n",
              "kyclevel                      3171\n",
              "maritalstatus                94662\n",
              "kids                        259804\n",
              "EducationLevel              149854\n",
              "EmploymentStatus              3606\n",
              "NetPay                       33614\n",
              "LTI_ratio                    33614\n",
              "DPD_Band                         0\n",
              "Due_Band                         0\n",
              "Tenor                           27\n",
              "interestrate                    27\n",
              "risk_level_used               7943\n",
              "OTP_at_disbursement          81887\n",
              "loans_taken                     15\n",
              "Loannumber_band                  0\n",
              "customer_type                   15\n",
              "Weekofyr                         0\n",
              "Weeknumber                       0\n",
              "DayofMonth                       0\n",
              "Monthofyear                      0\n",
              "peak_or_non_peak_week            0\n",
              "last_transaction_date         3223\n",
              "dayssincelasttransaction      3223\n",
              "last_repayment_date          57830\n",
              "dayssincelastrepayment       57830\n",
              "tier_currentdate                 0\n",
              "report_date_current           5268\n",
              "tier_disburseddate               0\n",
              "report_date_disbursed        36711\n",
              "tier_difference                  0\n",
              "dtype: int64"
            ]
          },
          "metadata": {},
          "execution_count": 9
        }
      ],
      "source": [
        "df.isnull().sum()"
      ]
    },
    {
      "cell_type": "code",
      "execution_count": null,
      "metadata": {
        "id": "YEvSR9JcODtZ"
      },
      "outputs": [],
      "source": [
        "df.rename(columns={'CustomerName_1': 'CustomerName'}, inplace=True)"
      ]
    },
    {
      "cell_type": "code",
      "execution_count": null,
      "metadata": {
        "colab": {
          "base_uri": "https://localhost:8080/"
        },
        "id": "dFZHXQ_8KmpI",
        "outputId": "b1b827af-471c-4954-9040-c2bc6bae0b0c"
      },
      "outputs": [
        {
          "output_type": "execute_result",
          "data": {
            "text/plain": [
              "Due_Day                      object\n",
              "SystemLoanID                 object\n",
              "SystemCustomerID              int64\n",
              "CustomerName                 object\n",
              "Product                      object\n",
              "DaysinArrears_calcbucket     object\n",
              "DaysInArrears_calc            int64\n",
              "Total_due                   float64\n",
              "LoanAmount                  float64\n",
              "Disburseddate                object\n",
              "OSP                         float64\n",
              "Totalrepaymentamount        float64\n",
              "repaymentcount                int64\n",
              "Loan_State                   object\n",
              "Due_Status                   object\n",
              "CustomerName                 object\n",
              "Gender                       object\n",
              "Region                       object\n",
              "CustomerAge                 float64\n",
              "CarbonAge                     int64\n",
              "kyclevel                    float64\n",
              "maritalstatus                object\n",
              "kids                        float64\n",
              "EducationLevel               object\n",
              "EmploymentStatus             object\n",
              "NetPay                      float64\n",
              "LTI_ratio                   float64\n",
              "DPD_Band                     object\n",
              "Due_Band                     object\n",
              "Tenor                       float64\n",
              "interestrate                float64\n",
              "risk_level_used              object\n",
              "OTP_at_disbursement         float64\n",
              "loans_taken                 float64\n",
              "Loannumber_band              object\n",
              "customer_type                object\n",
              "Weekofyr                     object\n",
              "Weeknumber                    int64\n",
              "DayofMonth                    int64\n",
              "Monthofyear                  object\n",
              "peak_or_non_peak_week        object\n",
              "last_transaction_date        object\n",
              "dayssincelasttransaction    float64\n",
              "last_repayment_date          object\n",
              "dayssincelastrepayment      float64\n",
              "tier_currentdate              int64\n",
              "report_date_current          object\n",
              "tier_disburseddate            int64\n",
              "report_date_disbursed        object\n",
              "tier_difference               int64\n",
              "dtype: object"
            ]
          },
          "metadata": {},
          "execution_count": 11
        }
      ],
      "source": [
        "df.dtypes"
      ]
    },
    {
      "cell_type": "code",
      "execution_count": null,
      "metadata": {
        "id": "nxCpxVs2WGx1"
      },
      "outputs": [],
      "source": [
        "# Drop high missing value features\n",
        "df = df.drop(['CustomerName','kids','report_date_current', 'report_date_disbursed', 'Weekofyr', 'Weeknumber', 'DayofMonth'], axis=1)"
      ]
    },
    {
      "cell_type": "code",
      "execution_count": null,
      "metadata": {
        "id": "WaxGCYSEgNNF"
      },
      "outputs": [],
      "source": [
        "# Drop redundant and irrelevant features\n",
        "df = df.drop(['SystemLoanID','SystemCustomerID','DaysinArrears_calcbucket','Totalrepaymentamount','Monthofyear', 'repaymentcount','LTI_ratio','last_transaction_date','last_repayment_date'], axis=1)"
      ]
    },
    {
      "cell_type": "code",
      "execution_count": null,
      "metadata": {
        "id": "nzRx2zWgX5bO"
      },
      "outputs": [],
      "source": [
        "# Impute missing values with median for numerical features\n",
        "numerical_features_with_missing = ['kyclevel', 'CustomerAge', 'NetPay', 'OTP_at_disbursement', 'dayssincelasttransaction', 'dayssincelastrepayment']\n",
        "for feature in numerical_features_with_missing:\n",
        "    df[feature] = df[feature].fillna(df[feature].median())"
      ]
    },
    {
      "cell_type": "code",
      "execution_count": null,
      "metadata": {
        "id": "cAErGL3rb9l7"
      },
      "outputs": [],
      "source": [
        "# Impute missing values with mode for categorical features\n",
        "categorical_features = ['Due_Status', 'customer_type']\n",
        "for feature in categorical_features:\n",
        "    df[feature] = df[feature].fillna(df[feature].mode()[0])"
      ]
    },
    {
      "cell_type": "code",
      "execution_count": null,
      "metadata": {
        "id": "jaNT9pqBdDxD"
      },
      "outputs": [],
      "source": [
        "# Impute missing values with median for numerical features\n",
        "numerical_features_with_missing = ['Tenor', 'interestrate', 'loans_taken','Total_due', 'OSP']\n",
        "for feature in numerical_features_with_missing:\n",
        "    df[feature] = df[feature].fillna(df[feature].median())"
      ]
    },
    {
      "cell_type": "code",
      "execution_count": null,
      "metadata": {
        "id": "D3ACbA2cfCrn"
      },
      "outputs": [],
      "source": [
        "# Create a separate category for missing values in categorical features\n",
        "categorical_features_with_missing = ['maritalstatus', 'EducationLevel','Gender','Region', 'EmploymentStatus', 'risk_level_used']\n",
        "for feature in categorical_features_with_missing:\n",
        "    df[feature] = df[feature].fillna('Unknown')"
      ]
    },
    {
      "cell_type": "code",
      "execution_count": null,
      "metadata": {
        "id": "g6V_0VUJb1g-"
      },
      "outputs": [],
      "source": [
        "# Replacing 0 values in tier columns with the median of the respective tiers\n",
        "\n",
        "# Calculate median for each feature (ignoring 0 values)\n",
        "tier_currentdate_median = df['tier_currentdate'].replace(0, pd.NA).median()\n",
        "tier_disburseddate_median = df['tier_disburseddate'].replace(0, pd.NA).median()\n",
        "\n",
        "# Replace 0 values with medians\n",
        "df['tier_currentdate'].replace(0, tier_currentdate_median, inplace=True)\n",
        "df['tier_disburseddate'].replace(0, tier_disburseddate_median, inplace=True)"
      ]
    },
    {
      "cell_type": "code",
      "execution_count": null,
      "metadata": {
        "id": "C4tzTPvmdZGT"
      },
      "outputs": [],
      "source": [
        "# Dropping existing tier_difference column and replacing with new column for tier_difference which uses the newly revised tiers\n",
        "df = df.drop(['tier_difference'], axis=1)\n",
        "\n",
        "df['tier_difference'] = df['tier_currentdate'] - df['tier_disburseddate']"
      ]
    },
    {
      "cell_type": "code",
      "execution_count": null,
      "metadata": {
        "id": "fHY_Rv1eYBcc"
      },
      "outputs": [],
      "source": [
        "# Creating new column for calculating LTI_ratio subsequent to fill null values of NetPay with median of values in the field\n",
        "df['LTI_ratio'] = df['LoanAmount']/df['NetPay']"
      ]
    },
    {
      "cell_type": "code",
      "execution_count": null,
      "metadata": {
        "id": "WlD1o81mjj9l"
      },
      "outputs": [],
      "source": [
        "# Creating a new numerical feature to capture the days since loan disbursement\n",
        "import pandas as pd\n",
        "from datetime import date\n",
        "\n",
        "# Convert the columns to datetime format\n",
        "df['Due_Day'] = pd.to_datetime(df['Due_Day'])\n",
        "df['Disburseddate'] = pd.to_datetime(df['Disburseddate'])\n",
        "\n",
        "# Calculate the days since loan disbursement\n",
        "df['dayssinceloandisbursement'] = (df['Due_Day'] - df['Disburseddate']).dt.days\n",
        "df['dayssinceloandisbursement'] = df['dayssinceloandisbursement'].clip(lower=0)"
      ]
    },
    {
      "cell_type": "code",
      "execution_count": null,
      "metadata": {
        "id": "Ir3-11aRlWUH"
      },
      "outputs": [],
      "source": [
        "# Extract Day, Month & Year from Due_Day\n",
        "df['Day_Due'] = df['Due_Day'].dt.day\n",
        "df['Month_Due'] = df['Due_Day'].dt.month\n",
        "df['Year_Due'] = df['Due_Day'].dt.year\n",
        "\n"
      ]
    },
    {
      "cell_type": "code",
      "execution_count": null,
      "metadata": {
        "id": "giemBneQ8NJA"
      },
      "outputs": [],
      "source": [
        "# Drop the original Due_Day and Disburseddate features as these redundant\n",
        "df = df.drop(['Due_Day', 'Disburseddate'], axis=1)"
      ]
    },
    {
      "cell_type": "code",
      "execution_count": null,
      "metadata": {
        "colab": {
          "base_uri": "https://localhost:8080/"
        },
        "id": "nLL2ov15dwfT",
        "outputId": "93de3ccd-2d88-4a48-db2e-339fbb20378d"
      },
      "outputs": [
        {
          "output_type": "execute_result",
          "data": {
            "text/plain": [
              "Product                      0\n",
              "DaysInArrears_calc           0\n",
              "Total_due                    0\n",
              "LoanAmount                   0\n",
              "OSP                          0\n",
              "Loan_State                   0\n",
              "Due_Status                   0\n",
              "Gender                       0\n",
              "Region                       0\n",
              "CustomerAge                  0\n",
              "CarbonAge                    0\n",
              "kyclevel                     0\n",
              "maritalstatus                0\n",
              "EducationLevel               0\n",
              "EmploymentStatus             0\n",
              "NetPay                       0\n",
              "DPD_Band                     0\n",
              "Due_Band                     0\n",
              "Tenor                        0\n",
              "interestrate                 0\n",
              "risk_level_used              0\n",
              "OTP_at_disbursement          0\n",
              "loans_taken                  0\n",
              "Loannumber_band              0\n",
              "customer_type                0\n",
              "peak_or_non_peak_week        0\n",
              "dayssincelasttransaction     0\n",
              "dayssincelastrepayment       0\n",
              "tier_currentdate             0\n",
              "tier_disburseddate           0\n",
              "tier_difference              0\n",
              "LTI_ratio                    0\n",
              "dayssinceloandisbursement    0\n",
              "Day_Due                      0\n",
              "Month_Due                    0\n",
              "Year_Due                     0\n",
              "dtype: int64"
            ]
          },
          "metadata": {},
          "execution_count": 24
        }
      ],
      "source": [
        "df.isnull().sum()"
      ]
    },
    {
      "cell_type": "markdown",
      "metadata": {
        "id": "RU5EBRCnSqOu"
      },
      "source": [
        "## DATA CLEANING: Handling data errors"
      ]
    },
    {
      "cell_type": "code",
      "execution_count": null,
      "metadata": {
        "colab": {
          "base_uri": "https://localhost:8080/"
        },
        "id": "dfMcSjNVHSiM",
        "outputId": "95708024-3289-46c9-bc34-8f246836c997"
      },
      "outputs": [
        {
          "output_type": "stream",
          "name": "stdout",
          "text": [
            "EmploymentStatus\n",
            "Employed         227560\n",
            "Self-Employed    145592\n",
            "Self-employed     26161\n",
            "Student            9737\n",
            "Unknown            3606\n",
            "Unemployed         1799\n",
            "Retired             374\n",
            "Permanent           246\n",
            "Please select        24\n",
            "Self Employed        10\n",
            "Contract              1\n",
            "Name: count, dtype: int64\n"
          ]
        }
      ],
      "source": [
        "Employment_status_counts = df['EmploymentStatus'].value_counts().sort_values(ascending=False)\n",
        "print(Employment_status_counts)"
      ]
    },
    {
      "cell_type": "code",
      "execution_count": null,
      "metadata": {
        "id": "imMOTrTFKEvZ"
      },
      "outputs": [],
      "source": [
        "# Replacement dictionary to handle category errors\n",
        "replace_dict = {'Please select': 'Unknown',\n",
        "                 'Self Employed': 'Self-Employed',\n",
        "                 'Self-employed': 'Self-Employed'}\n",
        "\n",
        "# Rename categories using replace function\n",
        "df['EmploymentStatus'] = df['EmploymentStatus'].replace(replace_dict)"
      ]
    },
    {
      "cell_type": "code",
      "execution_count": null,
      "metadata": {
        "colab": {
          "base_uri": "https://localhost:8080/"
        },
        "id": "tqf3eOVSKOnl",
        "outputId": "e1255d69-3d1b-4878-e38a-4c34ef04e951"
      },
      "outputs": [
        {
          "output_type": "stream",
          "name": "stdout",
          "text": [
            "EmploymentStatus\n",
            "Employed         227560\n",
            "Self-Employed    171763\n",
            "Student            9737\n",
            "Unknown            3630\n",
            "Unemployed         1799\n",
            "Retired             374\n",
            "Permanent           246\n",
            "Contract              1\n",
            "Name: count, dtype: int64\n"
          ]
        }
      ],
      "source": [
        "Employment_status_counts = df['EmploymentStatus'].value_counts().sort_values(ascending=False)\n",
        "print(Employment_status_counts)"
      ]
    },
    {
      "cell_type": "code",
      "execution_count": null,
      "metadata": {
        "colab": {
          "base_uri": "https://localhost:8080/"
        },
        "id": "ZapHjc--K1PD",
        "outputId": "167712d7-d110-41c5-e414-49a91fe3d3b0"
      },
      "outputs": [
        {
          "output_type": "stream",
          "name": "stdout",
          "text": [
            "maritalstatus\n",
            "single       151784\n",
            "married      147094\n",
            "Unknown       94662\n",
            "Single        11140\n",
            "Married        5378\n",
            "separated      2878\n",
            "widowed        1795\n",
            "OTHERS          219\n",
            "Divorced         99\n",
            "divorced         31\n",
            "others           30\n",
            "Name: count, dtype: int64\n"
          ]
        }
      ],
      "source": [
        "Marital_status_counts = df['maritalstatus'].value_counts().sort_values(ascending=False)\n",
        "print(Marital_status_counts)"
      ]
    },
    {
      "cell_type": "code",
      "execution_count": null,
      "metadata": {
        "id": "bzvoT1ZOLMvv"
      },
      "outputs": [],
      "source": [
        "# Replacement dictionary to handle category errors\n",
        "replace_dict = {'married': 'Married',\n",
        "                 'single': 'Single',\n",
        "                 'separated': 'Separated',\n",
        "                 'divorced': 'Divorced',\n",
        "                'others': 'Others',\n",
        "                'OTHERS': 'Others',\n",
        "                'widowed': 'Widowed'}\n",
        "\n",
        "# Rename categories using replace function\n",
        "df['maritalstatus'] = df['maritalstatus'].replace(replace_dict)"
      ]
    },
    {
      "cell_type": "code",
      "execution_count": null,
      "metadata": {
        "colab": {
          "base_uri": "https://localhost:8080/"
        },
        "id": "pVcfupvrMYHS",
        "outputId": "718a4793-2212-42ea-eed8-8ee80560c0a5"
      },
      "outputs": [
        {
          "output_type": "stream",
          "name": "stdout",
          "text": [
            "maritalstatus\n",
            "Single       162924\n",
            "Married      152472\n",
            "Unknown       94662\n",
            "Separated      2878\n",
            "Widowed        1795\n",
            "Others          249\n",
            "Divorced        130\n",
            "Name: count, dtype: int64\n"
          ]
        }
      ],
      "source": [
        "Marital_status_counts = df['maritalstatus'].value_counts().sort_values(ascending=False)\n",
        "print(Marital_status_counts)"
      ]
    },
    {
      "cell_type": "code",
      "execution_count": null,
      "metadata": {
        "colab": {
          "base_uri": "https://localhost:8080/"
        },
        "id": "EEo1YWYbMnMA",
        "outputId": "77d7195a-5b6a-4bdc-e559-e3f580a86504"
      },
      "outputs": [
        {
          "output_type": "stream",
          "name": "stdout",
          "text": [
            "EducationLevel\n",
            "Graduate         189987\n",
            "Unknown          149854\n",
            "Post-Graduate     40828\n",
            "Secondary         33875\n",
            "Primary             566\n",
            "Name: count, dtype: int64\n"
          ]
        }
      ],
      "source": [
        "Education_Level_counts = df['EducationLevel'].value_counts().sort_values(ascending=False)\n",
        "print(Education_Level_counts)"
      ]
    },
    {
      "cell_type": "code",
      "execution_count": null,
      "metadata": {
        "colab": {
          "base_uri": "https://localhost:8080/"
        },
        "id": "C6L72AAxNHLu",
        "outputId": "9af30b79-a6af-4ae7-86f8-c4126ba06ba0"
      },
      "outputs": [
        {
          "output_type": "stream",
          "name": "stdout",
          "text": [
            "Gender\n",
            "Male       183167\n",
            "male        97841\n",
            "Female      81923\n",
            "female      48971\n",
            "Unknown      3208\n",
            "Name: count, dtype: int64\n"
          ]
        }
      ],
      "source": [
        "Gender_counts = df['Gender'].value_counts().sort_values(ascending=False)\n",
        "print(Gender_counts)"
      ]
    },
    {
      "cell_type": "code",
      "execution_count": null,
      "metadata": {
        "id": "_oNpjBNINQHu"
      },
      "outputs": [],
      "source": [
        "# Replacement dictionary to handle category errors\n",
        "replace_dict = {'male': 'Male',\n",
        "                 'female': 'Female'}\n",
        "\n",
        "# Rename categories using replace function\n",
        "df['Gender'] = df['Gender'].replace(replace_dict)"
      ]
    },
    {
      "cell_type": "code",
      "execution_count": null,
      "metadata": {
        "colab": {
          "base_uri": "https://localhost:8080/"
        },
        "id": "AJkz9oTjNlwI",
        "outputId": "ca0dfc90-2984-4ad3-97a3-fe9d111056cb"
      },
      "outputs": [
        {
          "output_type": "stream",
          "name": "stdout",
          "text": [
            "Gender\n",
            "Male       281008\n",
            "Female     130894\n",
            "Unknown      3208\n",
            "Name: count, dtype: int64\n"
          ]
        }
      ],
      "source": [
        "Gender_counts = df['Gender'].value_counts().sort_values(ascending=False)\n",
        "print(Gender_counts)"
      ]
    },
    {
      "cell_type": "code",
      "execution_count": null,
      "metadata": {
        "colab": {
          "base_uri": "https://localhost:8080/"
        },
        "id": "l1XID5PHNpoM",
        "outputId": "ef8cded2-af7f-4694-af07-23bc8046e958"
      },
      "outputs": [
        {
          "output_type": "stream",
          "name": "stdout",
          "text": [
            "Region\n",
            "LAGOS          160578\n",
            "OGUN            41629\n",
            "OYO             31390\n",
            "RIVERS          25478\n",
            "Unknown         21297\n",
            "ABUJA           20502\n",
            "DELTA           17554\n",
            "ONDO            10526\n",
            "EDO              9996\n",
            "OSUN             7521\n",
            "AKWA IBOM        7296\n",
            "KWARA            6957\n",
            "KADUNA           5596\n",
            "IMO              5519\n",
            "ANAMBRA          5275\n",
            "CROSS RIVER      4885\n",
            "EKITI            4283\n",
            "BAYELSA          4105\n",
            "ENUGU            3646\n",
            "ABIA             3428\n",
            "BENUE            2793\n",
            "PLATEAU          2564\n",
            "NASARAWA         2061\n",
            "KOGI             1825\n",
            "KANO             1653\n",
            "EBONYI           1614\n",
            "NIGER            1388\n",
            "ADAMAWA           690\n",
            "BAUCHI            543\n",
            "SOKOTO            448\n",
            "BORNO             379\n",
            "TARABA            371\n",
            "KATSINA           364\n",
            "GOMBE             240\n",
            "KEBBI             221\n",
            "ZAMFARA           191\n",
            "JIGAWA            166\n",
            "YOBE              119\n",
            "Rivers             17\n",
            "Ogun                1\n",
            "Lagos               1\n",
            "Name: count, dtype: int64\n"
          ]
        }
      ],
      "source": [
        "Region_counts = df['Region'].value_counts().sort_values(ascending=False)\n",
        "print(Region_counts)"
      ]
    },
    {
      "cell_type": "code",
      "execution_count": null,
      "metadata": {
        "id": "JoCHuMJFN8Qs"
      },
      "outputs": [],
      "source": [
        "# Replacement dictionary to handle category errors\n",
        "replace_dict = {'564C5DB56EA80F6F0297DEED': 'Unknown',\n",
        "                'FCT': 'ABUJA',\n",
        "                 '564C5DB56EA80F6F0297DF07': 'Unknown',\n",
        "                 '564C5DB56EA80F6F0297DEEE': 'Unknown',\n",
        "                 '564C5DB56EA80F6F0297DF0C': 'Unknown',\n",
        "                'Rivers': 'RIVERS',\n",
        "                '564C5DB56EA80F6F0297DEF9': 'Unknown',\n",
        "                '564C5DB56EA80F6F0297DEFB': 'Unknown',\n",
        "                '564C5DB56EA80F6F0297DF0A': 'Unknown',\n",
        "                '564C5DB56EA80F6F0297DF08': 'Unknown',\n",
        "                 '564C5DB56EA80F6F0297DEFF': 'Unknown',\n",
        "                 '564C5DB56EA80F6F0297DEF2': 'Unknown',\n",
        "                 '564C5DB56EA80F6F0297DEFD': 'Unknown',\n",
        "                '564C5DB56EA80F6F0297DF11': 'Unknown',\n",
        "                '564C5DB56EA80F6F0297DEFA': 'Unknown',\n",
        "                '564C5DB56EA80F6F0297DF04': 'Unknown',\n",
        "                'Lagos': 'LAGOS',\n",
        "                'Oyo': 'OYO',\n",
        "                'Ogun': 'OGUN'}\n",
        "\n",
        "# Rename categories using replace function\n",
        "df['Region'] = df['Region'].replace(replace_dict)"
      ]
    },
    {
      "cell_type": "code",
      "execution_count": null,
      "metadata": {
        "colab": {
          "base_uri": "https://localhost:8080/"
        },
        "id": "sSUjZQdRQlHN",
        "outputId": "de9905c8-e75e-47fd-aed7-02edb4612636"
      },
      "outputs": [
        {
          "output_type": "stream",
          "name": "stdout",
          "text": [
            "Region\n",
            "LAGOS          160579\n",
            "OGUN            41630\n",
            "OYO             31390\n",
            "RIVERS          25495\n",
            "Unknown         21297\n",
            "ABUJA           20502\n",
            "DELTA           17554\n",
            "ONDO            10526\n",
            "EDO              9996\n",
            "OSUN             7521\n",
            "AKWA IBOM        7296\n",
            "KWARA            6957\n",
            "KADUNA           5596\n",
            "IMO              5519\n",
            "ANAMBRA          5275\n",
            "CROSS RIVER      4885\n",
            "EKITI            4283\n",
            "BAYELSA          4105\n",
            "ENUGU            3646\n",
            "ABIA             3428\n",
            "BENUE            2793\n",
            "PLATEAU          2564\n",
            "NASARAWA         2061\n",
            "KOGI             1825\n",
            "KANO             1653\n",
            "EBONYI           1614\n",
            "NIGER            1388\n",
            "ADAMAWA           690\n",
            "BAUCHI            543\n",
            "SOKOTO            448\n",
            "BORNO             379\n",
            "TARABA            371\n",
            "KATSINA           364\n",
            "GOMBE             240\n",
            "KEBBI             221\n",
            "ZAMFARA           191\n",
            "JIGAWA            166\n",
            "YOBE              119\n",
            "Name: count, dtype: int64\n"
          ]
        }
      ],
      "source": [
        "Region_counts = df['Region'].value_counts().sort_values(ascending=False)\n",
        "print(Region_counts)"
      ]
    },
    {
      "cell_type": "code",
      "execution_count": null,
      "metadata": {
        "colab": {
          "base_uri": "https://localhost:8080/"
        },
        "id": "lWaxBxULRgYH",
        "outputId": "e5c6b2d3-16f6-4e12-8ba7-04b47faf21d9"
      },
      "outputs": [
        {
          "output_type": "stream",
          "name": "stdout",
          "text": [
            "risk_level_used\n",
            "6.VL       155712\n",
            "4.M        106791\n",
            "5.L         75013\n",
            "3.H         68488\n",
            "Unknown      7943\n",
            "2.VH         1153\n",
            "1.D            10\n",
            "Name: count, dtype: int64\n"
          ]
        }
      ],
      "source": [
        "risk_level_used_counts = df['risk_level_used'].value_counts().sort_values(ascending=False)\n",
        "print(risk_level_used_counts)"
      ]
    },
    {
      "cell_type": "code",
      "execution_count": null,
      "metadata": {
        "colab": {
          "base_uri": "https://localhost:8080/"
        },
        "id": "tm8rFpXyR8hs",
        "outputId": "96252e4e-e4d4-4323-a112-3d632d080728"
      },
      "outputs": [
        {
          "output_type": "stream",
          "name": "stdout",
          "text": [
            "Loan_State\n",
            "Active      414799\n",
            "Complete       311\n",
            "Name: count, dtype: int64\n"
          ]
        }
      ],
      "source": [
        "Loan_State_counts = df['Loan_State'].value_counts().sort_values(ascending=False)\n",
        "print(Loan_State_counts)"
      ]
    },
    {
      "cell_type": "code",
      "execution_count": null,
      "metadata": {
        "id": "k0dbIdT7GTt4"
      },
      "outputs": [],
      "source": [
        "# Replacement dictionary to reduce number of classes in Target Variable\n",
        "replace_dict = {'Closed -Next due part payment made': 1,\n",
        "                'Active - Part repayment': 1,\n",
        "                'Closed': 1,\n",
        "                'Active - No repayment': 0\n",
        "                 }\n",
        "\n",
        "# Rename categories using replace function\n",
        "df['Due_Status'] = df['Due_Status'].replace(replace_dict)"
      ]
    },
    {
      "cell_type": "code",
      "execution_count": null,
      "metadata": {
        "colab": {
          "base_uri": "https://localhost:8080/"
        },
        "id": "LOk1bPy-HEeh",
        "outputId": "92165bd1-7e81-4798-b38f-4bf0bfdfb0d4"
      },
      "outputs": [
        {
          "output_type": "stream",
          "name": "stdout",
          "text": [
            "Due_Status\n",
            "0    317677\n",
            "1     97433\n",
            "Name: count, dtype: int64\n"
          ]
        }
      ],
      "source": [
        "Due_Status_counts = df['Due_Status'].value_counts().sort_values(ascending=False)\n",
        "print(Due_Status_counts)"
      ]
    },
    {
      "cell_type": "markdown",
      "metadata": {
        "id": "CqWQFbzWS_Ig"
      },
      "source": [
        "## DATA PREPROCESSING: Let's understand the distribution of each selected feature"
      ]
    },
    {
      "cell_type": "code",
      "execution_count": null,
      "metadata": {
        "id": "Ps7mZEExgY8k"
      },
      "outputs": [],
      "source": [
        "import matplotlib.pyplot as plt"
      ]
    },
    {
      "cell_type": "code",
      "execution_count": null,
      "metadata": {
        "colab": {
          "base_uri": "https://localhost:8080/",
          "height": 468
        },
        "id": "bY1RiUFtgagX",
        "outputId": "4e8634c2-3649-4c73-c897-b25c48c4382c"
      },
      "outputs": [
        {
          "output_type": "display_data",
          "data": {
            "text/plain": [
              "<Figure size 800x500 with 1 Axes>"
            ],
            "image/png": "[encoded data removed]"
          },
          "metadata": {}
        }
      ],
      "source": [
        "# Boxplot for NetPay\n",
        "plt.figure(figsize=(8, 5))\n",
        "plt.boxplot(df['NetPay'])\n",
        "plt.title(\"Boxplot of NetPay\")\n",
        "plt.ylabel(\"NetPay\")\n",
        "plt.show()"
      ]
    },
    {
      "cell_type": "code",
      "execution_count": null,
      "metadata": {
        "id": "r5CeJUCvgv3R"
      },
      "outputs": [],
      "source": [
        "#Winsorisation technique fo capping outliers to the nearest non-outlier value within a specified number of STD from the mean\n",
        "from scipy.stats import iqr\n",
        "\n",
        "# Identify IQR for NetPay\n",
        "Q1 = df['NetPay'].quantile(0.25)\n",
        "Q3 = df['NetPay'].quantile(0.75)\n",
        "iqr = Q3 - Q1\n",
        "\n",
        "# Lower and upper bounds for winsorization (1.5 IQRs from quartiles)\n",
        "lower_bound = Q1 - (1.5 * iqr)\n",
        "upper_bound = Q3 + (1.5 * iqr)\n",
        "\n",
        "# Winsorize NetPay (replace with capping or trimming as needed)\n",
        "df['NetPay'] = df['NetPay'].clip(lower=lower_bound, upper=upper_bound)"
      ]
    },
    {
      "cell_type": "code",
      "execution_count": null,
      "metadata": {
        "colab": {
          "base_uri": "https://localhost:8080/",
          "height": 468
        },
        "id": "hUyjn8MshBky",
        "outputId": "b14b452a-7b2e-4cc8-a8ca-31d525556917"
      },
      "outputs": [
        {
          "output_type": "display_data",
          "data": {
            "text/plain": [
              "<Figure size 800x500 with 1 Axes>"
            ],
            "image/png": "[encoded data removed]"
          },
          "metadata": {}
        }
      ],
      "source": [
        "# Boxplot for NetPay post winsorisation\n",
        "plt.figure(figsize=(8, 5))\n",
        "plt.boxplot(df['NetPay'])\n",
        "plt.title(\"Boxplot of NetPay\")\n",
        "plt.ylabel(\"NetPay\")\n",
        "plt.show()"
      ]
    },
    {
      "cell_type": "code",
      "execution_count": null,
      "metadata": {
        "colab": {
          "base_uri": "https://localhost:8080/",
          "height": 468
        },
        "id": "wzwvxl-ahxn6",
        "outputId": "a9404f76-df71-498d-8843-61380290a5c5"
      },
      "outputs": [
        {
          "output_type": "display_data",
          "data": {
            "text/plain": [
              "<Figure size 800x500 with 1 Axes>"
            ],
            "image/png": "[encoded data removed]"
          },
          "metadata": {}
        }
      ],
      "source": [
        "# Boxplot for LTI_ratio\n",
        "plt.figure(figsize=(8, 5))\n",
        "plt.boxplot(df['LTI_ratio'])\n",
        "plt.title(\"Boxplot of LTI_ratio\")\n",
        "plt.ylabel(\"LTI_ratio\")\n",
        "plt.show()"
      ]
    },
    {
      "cell_type": "code",
      "execution_count": null,
      "metadata": {
        "id": "ulyGgOdciFfj"
      },
      "outputs": [],
      "source": [
        "#Winsorisation technique for capping outliers to the nearest non-outlier value within a specified number of STD from the mean\n",
        "from scipy.stats import iqr\n",
        "\n",
        "# Identify IQR for LTI_ratio\n",
        "Q1 = df['LTI_ratio'].quantile(0.25)\n",
        "Q3 = df['LTI_ratio'].quantile(0.75)\n",
        "iqr = Q3 - Q1\n",
        "\n",
        "# Lower and upper bounds for winsorization (1.5 IQRs from quartiles)\n",
        "lower_bound = Q1 - (1.5 * iqr)\n",
        "upper_bound = Q3 + (1.5 * iqr)\n",
        "\n",
        "# Winsorize LTI_ratio (replace with capping or trimming as needed)\n",
        "df['LTI_ratio'] = df['LTI_ratio'].clip(lower=lower_bound, upper=upper_bound)"
      ]
    },
    {
      "cell_type": "code",
      "execution_count": null,
      "metadata": {
        "colab": {
          "base_uri": "https://localhost:8080/",
          "height": 468
        },
        "id": "bPkoClg4iXto",
        "outputId": "a6ee5d9d-efac-4407-c8fb-ca5f8cad5b4f"
      },
      "outputs": [
        {
          "output_type": "display_data",
          "data": {
            "text/plain": [
              "<Figure size 800x500 with 1 Axes>"
            ],
            "image/png": "[encoded data removed]"
          },
          "metadata": {}
        }
      ],
      "source": [
        "# Boxplot for LTI_ratio post winsorisation\n",
        "plt.figure(figsize=(8, 5))\n",
        "plt.boxplot(df['LTI_ratio'])\n",
        "plt.title(\"Boxplot of LTI_ratio\")\n",
        "plt.ylabel(\"LTI_ratio\")\n",
        "plt.show()"
      ]
    },
    {
      "cell_type": "code",
      "execution_count": null,
      "metadata": {
        "colab": {
          "base_uri": "https://localhost:8080/",
          "height": 907
        },
        "id": "jGZFYppvnwpy",
        "outputId": "6c110581-4451-425a-df9a-006c02bc075c"
      },
      "outputs": [
        {
          "output_type": "display_data",
          "data": {
            "text/plain": [
              "<Figure size 1000x900 with 3 Axes>"
            ],
            "image/png": "[encoded data removed]"
          },
          "metadata": {}
        }
      ],
      "source": [
        "import seaborn as sns\n",
        "\n",
        "# 'numeric_features' is a list containing the selected numerical features\n",
        "\n",
        "numeric_features= ['Total_due', 'LoanAmount', 'OSP']\n",
        "\n",
        "\n",
        "fig, axes = plt.subplots(nrows=len(numeric_features), ncols=1, figsize=(10, len(numeric_features) * 3))  # Adjust figsize as needed\n",
        "\n",
        "# Create box plots for each feature\n",
        "for idx, feature in enumerate(numeric_features):\n",
        "  sns.boxplot(ax=axes[idx], x=feature, y=None, showmeans=True, data=df)\n",
        "  axes[idx].set_title(feature)\n",
        "\n",
        "# Adjust layout (optional)\n",
        "fig.tight_layout()\n",
        "plt.show()"
      ]
    },
    {
      "cell_type": "code",
      "execution_count": null,
      "metadata": {
        "colab": {
          "base_uri": "https://localhost:8080/",
          "height": 1000
        },
        "id": "Mjqdnl-_2bEV",
        "outputId": "246b3bba-2bde-43af-fca5-f936d0b23f8b"
      },
      "outputs": [
        {
          "output_type": "display_data",
          "data": {
            "text/plain": [
              "<Figure size 1000x4800 with 16 Axes>"
            ],
            "image/png": "[encoded data removed]"
          },
          "metadata": {}
        }
      ],
      "source": [
        "import seaborn as sns\n",
        "\n",
        "# 'numeric_features' is a list containing the selected numerical features\n",
        "\n",
        "numeric_features= ['DaysInArrears_calc', 'CustomerAge', 'CarbonAge', 'kyclevel', 'NetPay', 'LTI_ratio', 'Tenor', 'interestrate', 'OTP_at_disbursement', 'loans_taken','dayssinceloandisbursement', 'dayssincelasttransaction', 'dayssincelastrepayment', 'tier_currentdate', 'tier_disburseddate', 'tier_difference']\n",
        "\n",
        "\n",
        "fig, axes = plt.subplots(nrows=len(numeric_features), ncols=1, figsize=(10, len(numeric_features) * 3))  # Adjust figsize as needed\n",
        "\n",
        "# Create box plots for each feature\n",
        "for idx, feature in enumerate(numeric_features):\n",
        "  sns.boxplot(ax=axes[idx], x=feature, y=None, showmeans=True, data=df)\n",
        "  axes[idx].set_title(feature)\n",
        "\n",
        "# Adjust layout (optional)\n",
        "fig.tight_layout()\n",
        "plt.show()"
      ]
    },
    {
      "cell_type": "code",
      "execution_count": null,
      "metadata": {
        "id": "gQg9ZQoCtAzu"
      },
      "outputs": [],
      "source": [
        "# Sequel to analysis of Box plots above, we will need to apply Winsorization to the following features\n",
        "import numpy as np\n",
        "from scipy.stats import scoreatpercentile\n",
        "\n",
        "# Select numerical features\n",
        "numerical_features = ['CustomerAge', 'OTP_at_disbursement', 'loans_taken','dayssinceloandisbursement', 'dayssincelasttransaction', 'dayssincelastrepayment']\n",
        "\n",
        "# Winsorize numerical features\n",
        "def winsorize_iqr(data):\n",
        "  q1 = np.percentile(data, 25)\n",
        "  q3 = np.percentile(data, 75)\n",
        "  iqr = q3 - q1\n",
        "  lower_limit = q1 - 1.5 * iqr\n",
        "  upper_limit = q3 + 1.5 * iqr\n",
        "  return np.clip(data, lower_limit, upper_limit)\n",
        "\n",
        "for feature in numerical_features:\n",
        "  df[feature] = winsorize_iqr(df[feature])"
      ]
    },
    {
      "cell_type": "code",
      "execution_count": null,
      "metadata": {
        "colab": {
          "base_uri": "https://localhost:8080/",
          "height": 1000
        },
        "id": "WYYNCCMNAH_f",
        "outputId": "e8133d5e-b860-4aa9-a99d-51b0307ec8cd"
      },
      "outputs": [
        {
          "output_type": "display_data",
          "data": {
            "text/plain": [
              "<Figure size 1000x1800 with 6 Axes>"
            ],
            "image/png": "[encoded data removed]"
          },
          "metadata": {}
        }
      ],
      "source": [
        "# Box Plots post winsorization\n",
        "numeric_features= ['CustomerAge', 'OTP_at_disbursement', 'loans_taken','dayssinceloandisbursement', 'dayssincelasttransaction', 'dayssincelastrepayment']\n",
        "\n",
        "\n",
        "fig, axes = plt.subplots(nrows=len(numeric_features), ncols=1, figsize=(10, len(numeric_features) * 3))  # Adjust figsize as needed\n",
        "\n",
        "# Create box plots for each feature\n",
        "for idx, feature in enumerate(numeric_features):\n",
        "  sns.boxplot(ax=axes[idx], x=feature, y=None, showmeans=True, data=df)\n",
        "  axes[idx].set_title(feature)\n",
        "\n",
        "# Adjust layout (optional)\n",
        "fig.tight_layout()\n",
        "plt.show()"
      ]
    },
    {
      "cell_type": "code",
      "execution_count": null,
      "metadata": {
        "colab": {
          "base_uri": "https://localhost:8080/",
          "height": 472
        },
        "id": "cKfZks-EWPnZ",
        "outputId": "d84a1e85-6257-4dd9-dae4-643a9b209844"
      },
      "outputs": [
        {
          "output_type": "display_data",
          "data": {
            "text/plain": [
              "<Figure size 640x480 with 1 Axes>"
            ],
            "image/png": "[encoded data removed]"
          },
          "metadata": {}
        }
      ],
      "source": [
        "# Understanding the relationship between Monthofdisbursement and Repayment Behaviour\n",
        "due_status_by_month = df.groupby('Month_Due')['Due_Status'].value_counts().unstack(fill_value=0)\n",
        "due_status_by_month.plot(kind='bar', stacked=True)\n",
        "plt.xlabel('Due Month')\n",
        "plt.ylabel('Number of Customers')\n",
        "plt.title('Due Status by Due Month')\n",
        "plt.xticks(rotation=0)  # Rotate x-axis labels for better readability if many months\n",
        "plt.show()"
      ]
    },
    {
      "cell_type": "markdown",
      "metadata": {
        "id": "DUlQsiwMdWtT"
      },
      "source": [
        "## DATA PREPROCESSING: Let's standardize the selected features (excluding loan data representing amounts and counts)"
      ]
    },
    {
      "cell_type": "code",
      "execution_count": null,
      "metadata": {
        "id": "gpcFqh5lbuKY"
      },
      "outputs": [],
      "source": [
        "from sklearn.preprocessing import StandardScaler\n",
        "\n",
        "# Select features to standardize (only continuous variables)\n",
        "features_to_standardize = ['DaysInArrears_calc', 'CustomerAge', 'CarbonAge', 'NetPay', 'LTI_ratio', 'Tenor', 'interestrate', 'OTP_at_disbursement', 'loans_taken', 'dayssinceloandisbursement', 'dayssincelasttransaction', 'dayssincelastrepayment'] #,'Total_due', 'OSP'\n",
        "\n",
        "# Standardize features\n",
        "scaler = StandardScaler()\n",
        "df[features_to_standardize] = scaler.fit_transform(df[features_to_standardize])"
      ]
    },
    {
      "cell_type": "code",
      "execution_count": null,
      "metadata": {
        "colab": {
          "base_uri": "https://localhost:8080/",
          "height": 342
        },
        "id": "78ux8a70dr6J",
        "outputId": "16e4b0d0-d3f7-4178-9e2c-2e7033b48176"
      },
      "outputs": [
        {
          "output_type": "execute_result",
          "data": {
            "text/plain": [
              "             Product  DaysInArrears_calc  Total_due  LoanAmount        OSP  \\\n",
              "46215  Paylater Loan            1.153613   10646.67     19000.0    6656.67   \n",
              "50702  Paylater Loan            0.900945   28550.00     20000.0   20000.00   \n",
              "50703  Paylater Loan            0.900945   37289.51     39000.0   39000.00   \n",
              "50706  Paylater Loan           -0.218011   47083.39    285000.0  142083.39   \n",
              "50710  Paylater Loan            0.900945   38463.34     24500.0   24500.00   \n",
              "\n",
              "      Loan_State  Due_Status  Gender   Region  CustomerAge  ...  \\\n",
              "46215     Active           0  Female    LAGOS    -0.580330  ...   \n",
              "50702     Active           0  Female  BAYELSA     1.432423  ...   \n",
              "50703     Active           0  Female   RIVERS    -0.356690  ...   \n",
              "50706     Active           1  Female    DELTA    -0.803969  ...   \n",
              "50710     Active           0  Female    LAGOS    -1.363067  ...   \n",
              "\n",
              "       dayssincelasttransaction  dayssincelastrepayment tier_currentdate  \\\n",
              "46215                 -0.938734               -0.895204                1   \n",
              "50702                  0.688333                1.263992                1   \n",
              "50703                  1.592259                0.464290                1   \n",
              "50706                 -0.788079               -0.695278                2   \n",
              "50710                  0.688333                1.263992                1   \n",
              "\n",
              "      tier_disburseddate tier_difference  LTI_ratio dayssinceloandisbursement  \\\n",
              "46215                  3              -2  -0.436694                  0.309212   \n",
              "50702                  3              -2  -0.606474                 -0.270348   \n",
              "50703                  1               0  -0.722936                 -0.270348   \n",
              "50706                  5              -3  -0.313413                 -0.270348   \n",
              "50710                  1               0  -0.603454                 -0.270348   \n",
              "\n",
              "      Day_Due  Month_Due  Year_Due  \n",
              "46215      27          3      2023  \n",
              "50702      27          3      2023  \n",
              "50703      27          3      2023  \n",
              "50706      27          3      2023  \n",
              "50710      27          3      2023  \n",
              "\n",
              "[5 rows x 36 columns]"
            ],
            "text/html": [
              "\n",
              "  <div id=\"df-c0f729bf-53fb-4935-bd6d-efd8b81848d4\" class=\"colab-df-container\">\n",
              "    <div>\n",
              "<style scoped>\n",
              "    .dataframe tbody tr th:only-of-type {\n",
              "        vertical-align: middle;\n",
              "    }\n",
              "\n",
              "    .dataframe tbody tr th {\n",
              "        vertical-align: top;\n",
              "    }\n",
              "\n",
              "    .dataframe thead th {\n",
              "        text-align: right;\n",
              "    }\n",
              "</style>\n",
              "<table border=\"1\" class=\"dataframe\">\n",
              "  <thead>\n",
              "    <tr style=\"text-align: right;\">\n",
              "      <th></th>\n",
              "      <th>Product</th>\n",
              "      <th>DaysInArrears_calc</th>\n",
              "      <th>Total_due</th>\n",
              "      <th>LoanAmount</th>\n",
              "      <th>OSP</th>\n",
              "      <th>Loan_State</th>\n",
              "      <th>Due_Status</th>\n",
              "      <th>Gender</th>\n",
              "      <th>Region</th>\n",
              "      <th>CustomerAge</th>\n",
              "      <th>...</th>\n",
              "      <th>dayssincelasttransaction</th>\n",
              "      <th>dayssincelastrepayment</th>\n",
              "      <th>tier_currentdate</th>\n",
              "      <th>tier_disburseddate</th>\n",
              "      <th>tier_difference</th>\n",
              "      <th>LTI_ratio</th>\n",
              "      <th>dayssinceloandisbursement</th>\n",
              "      <th>Day_Due</th>\n",
              "      <th>Month_Due</th>\n",
              "      <th>Year_Due</th>\n",
              "    </tr>\n",
              "  </thead>\n",
              "  <tbody>\n",
              "    <tr>\n",
              "      <th>46215</th>\n",
              "      <td>Paylater Loan</td>\n",
              "      <td>1.153613</td>\n",
              "      <td>10646.67</td>\n",
              "      <td>19000.0</td>\n",
              "      <td>6656.67</td>\n",
              "      <td>Active</td>\n",
              "      <td>0</td>\n",
              "      <td>Female</td>\n",
              "      <td>LAGOS</td>\n",
              "      <td>-0.580330</td>\n",
              "      <td>...</td>\n",
              "      <td>-0.938734</td>\n",
              "      <td>-0.895204</td>\n",
              "      <td>1</td>\n",
              "      <td>3</td>\n",
              "      <td>-2</td>\n",
              "      <td>-0.436694</td>\n",
              "      <td>0.309212</td>\n",
              "      <td>27</td>\n",
              "      <td>3</td>\n",
              "      <td>2023</td>\n",
              "    </tr>\n",
              "    <tr>\n",
              "      <th>50702</th>\n",
              "      <td>Paylater Loan</td>\n",
              "      <td>0.900945</td>\n",
              "      <td>28550.00</td>\n",
              "      <td>20000.0</td>\n",
              "      <td>20000.00</td>\n",
              "      <td>Active</td>\n",
              "      <td>0</td>\n",
              "      <td>Female</td>\n",
              "      <td>BAYELSA</td>\n",
              "      <td>1.432423</td>\n",
              "      <td>...</td>\n",
              "      <td>0.688333</td>\n",
              "      <td>1.263992</td>\n",
              "      <td>1</td>\n",
              "      <td>3</td>\n",
              "      <td>-2</td>\n",
              "      <td>-0.606474</td>\n",
              "      <td>-0.270348</td>\n",
              "      <td>27</td>\n",
              "      <td>3</td>\n",
              "      <td>2023</td>\n",
              "    </tr>\n",
              "    <tr>\n",
              "      <th>50703</th>\n",
              "      <td>Paylater Loan</td>\n",
              "      <td>0.900945</td>\n",
              "      <td>37289.51</td>\n",
              "      <td>39000.0</td>\n",
              "      <td>39000.00</td>\n",
              "      <td>Active</td>\n",
              "      <td>0</td>\n",
              "      <td>Female</td>\n",
              "      <td>RIVERS</td>\n",
              "      <td>-0.356690</td>\n",
              "      <td>...</td>\n",
              "      <td>1.592259</td>\n",
              "      <td>0.464290</td>\n",
              "      <td>1</td>\n",
              "      <td>1</td>\n",
              "      <td>0</td>\n",
              "      <td>-0.722936</td>\n",
              "      <td>-0.270348</td>\n",
              "      <td>27</td>\n",
              "      <td>3</td>\n",
              "      <td>2023</td>\n",
              "    </tr>\n",
              "    <tr>\n",
              "      <th>50706</th>\n",
              "      <td>Paylater Loan</td>\n",
              "      <td>-0.218011</td>\n",
              "      <td>47083.39</td>\n",
              "      <td>285000.0</td>\n",
              "      <td>142083.39</td>\n",
              "      <td>Active</td>\n",
              "      <td>1</td>\n",
              "      <td>Female</td>\n",
              "      <td>DELTA</td>\n",
              "      <td>-0.803969</td>\n",
              "      <td>...</td>\n",
              "      <td>-0.788079</td>\n",
              "      <td>-0.695278</td>\n",
              "      <td>2</td>\n",
              "      <td>5</td>\n",
              "      <td>-3</td>\n",
              "      <td>-0.313413</td>\n",
              "      <td>-0.270348</td>\n",
              "      <td>27</td>\n",
              "      <td>3</td>\n",
              "      <td>2023</td>\n",
              "    </tr>\n",
              "    <tr>\n",
              "      <th>50710</th>\n",
              "      <td>Paylater Loan</td>\n",
              "      <td>0.900945</td>\n",
              "      <td>38463.34</td>\n",
              "      <td>24500.0</td>\n",
              "      <td>24500.00</td>\n",
              "      <td>Active</td>\n",
              "      <td>0</td>\n",
              "      <td>Female</td>\n",
              "      <td>LAGOS</td>\n",
              "      <td>-1.363067</td>\n",
              "      <td>...</td>\n",
              "      <td>0.688333</td>\n",
              "      <td>1.263992</td>\n",
              "      <td>1</td>\n",
              "      <td>1</td>\n",
              "      <td>0</td>\n",
              "      <td>-0.603454</td>\n",
              "      <td>-0.270348</td>\n",
              "      <td>27</td>\n",
              "      <td>3</td>\n",
              "      <td>2023</td>\n",
              "    </tr>\n",
              "  </tbody>\n",
              "</table>\n",
              "<p>5 rows × 36 columns</p>\n",
              "</div>\n",
              "    <div class=\"colab-df-buttons\">\n",
              "\n",
              "  <div class=\"colab-df-container\">\n",
              "    <button class=\"colab-df-convert\" onclick=\"convertToInteractive('df-c0f729bf-53fb-4935-bd6d-efd8b81848d4')\"\n",
              "            title=\"Convert this dataframe to an interactive table.\"\n",
              "            style=\"display:none;\">\n",
              "\n",
              "  <svg xmlns=\"http://www.w3.org/2000/svg\" height=\"24px\" viewBox=\"0 -960 960 960\">\n",
              "    <path d=\"M120-120v-720h720v720H120Zm60-500h600v-160H180v160Zm220 220h160v-160H400v160Zm0 220h160v-160H400v160ZM180-400h160v-160H180v160Zm440 0h160v-160H620v160ZM180-180h160v-160H180v160Zm440 0h160v-160H620v160Z\"/>\n",
              "  </svg>\n",
              "    </button>\n",
              "\n",
              "  <style>\n",
              "    .colab-df-container {\n",
              "      display:flex;\n",
              "      gap: 12px;\n",
              "    }\n",
              "\n",
              "    .colab-df-convert {\n",
              "      background-color: #E8F0FE;\n",
              "      border: none;\n",
              "      border-radius: 50%;\n",
              "      cursor: pointer;\n",
              "      display: none;\n",
              "      fill: #1967D2;\n",
              "      height: 32px;\n",
              "      padding: 0 0 0 0;\n",
              "      width: 32px;\n",
              "    }\n",
              "\n",
              "    .colab-df-convert:hover {\n",
              "      background-color: #E2EBFA;\n",
              "      box-shadow: 0px 1px 2px rgba(60, 64, 67, 0.3), 0px 1px 3px 1px rgba(60, 64, 67, 0.15);\n",
              "      fill: #174EA6;\n",
              "    }\n",
              "\n",
              "    .colab-df-buttons div {\n",
              "      margin-bottom: 4px;\n",
              "    }\n",
              "\n",
              "    [theme=dark] .colab-df-convert {\n",
              "      background-color: #3B4455;\n",
              "      fill: #D2E3FC;\n",
              "    }\n",
              "\n",
              "    [theme=dark] .colab-df-convert:hover {\n",
              "      background-color: #434B5C;\n",
              "      box-shadow: 0px 1px 3px 1px rgba(0, 0, 0, 0.15);\n",
              "      filter: drop-shadow(0px 1px 2px rgba(0, 0, 0, 0.3));\n",
              "      fill: #FFFFFF;\n",
              "    }\n",
              "  </style>\n",
              "\n",
              "    <script>\n",
              "      const buttonEl =\n",
              "        document.querySelector('#df-c0f729bf-53fb-4935-bd6d-efd8b81848d4 button.colab-df-convert');\n",
              "      buttonEl.style.display =\n",
              "        google.colab.kernel.accessAllowed ? 'block' : 'none';\n",
              "\n",
              "      async function convertToInteractive(key) {\n",
              "        const element = document.querySelector('#df-c0f729bf-53fb-4935-bd6d-efd8b81848d4');\n",
              "        const dataTable =\n",
              "          await google.colab.kernel.invokeFunction('convertToInteractive',\n",
              "                                                    [key], {});\n",
              "        if (!dataTable) return;\n",
              "\n",
              "        const docLinkHtml = 'Like what you see? Visit the ' +\n",
              "          '<a target=\"_blank\" href=https://colab.research.google.com/notebooks/data_table.ipynb>data table notebook</a>'\n",
              "          + ' to learn more about interactive tables.';\n",
              "        element.innerHTML = '';\n",
              "        dataTable['output_type'] = 'display_data';\n",
              "        await google.colab.output.renderOutput(dataTable, element);\n",
              "        const docLink = document.createElement('div');\n",
              "        docLink.innerHTML = docLinkHtml;\n",
              "        element.appendChild(docLink);\n",
              "      }\n",
              "    </script>\n",
              "  </div>\n",
              "\n",
              "\n",
              "<div id=\"df-a385854d-079f-4038-b531-432e189c808f\">\n",
              "  <button class=\"colab-df-quickchart\" onclick=\"quickchart('df-a385854d-079f-4038-b531-432e189c808f')\"\n",
              "            title=\"Suggest charts\"\n",
              "            style=\"display:none;\">\n",
              "\n",
              "<svg xmlns=\"http://www.w3.org/2000/svg\" height=\"24px\"viewBox=\"0 0 24 24\"\n",
              "     width=\"24px\">\n",
              "    <g>\n",
              "        <path d=\"M19 3H5c-1.1 0-2 .9-2 2v14c0 1.1.9 2 2 2h14c1.1 0 2-.9 2-2V5c0-1.1-.9-2-2-2zM9 17H7v-7h2v7zm4 0h-2V7h2v10zm4 0h-2v-4h2v4z\"/>\n",
              "    </g>\n",
              "</svg>\n",
              "  </button>\n",
              "\n",
              "<style>\n",
              "  .colab-df-quickchart {\n",
              "      --bg-color: #E8F0FE;\n",
              "      --fill-color: #1967D2;\n",
              "      --hover-bg-color: #E2EBFA;\n",
              "      --hover-fill-color: #174EA6;\n",
              "      --disabled-fill-color: #AAA;\n",
              "      --disabled-bg-color: #DDD;\n",
              "  }\n",
              "\n",
              "  [theme=dark] .colab-df-quickchart {\n",
              "      --bg-color: #3B4455;\n",
              "      --fill-color: #D2E3FC;\n",
              "      --hover-bg-color: #434B5C;\n",
              "      --hover-fill-color: #FFFFFF;\n",
              "      --disabled-bg-color: #3B4455;\n",
              "      --disabled-fill-color: #666;\n",
              "  }\n",
              "\n",
              "  .colab-df-quickchart {\n",
              "    background-color: var(--bg-color);\n",
              "    border: none;\n",
              "    border-radius: 50%;\n",
              "    cursor: pointer;\n",
              "    display: none;\n",
              "    fill: var(--fill-color);\n",
              "    height: 32px;\n",
              "    padding: 0;\n",
              "    width: 32px;\n",
              "  }\n",
              "\n",
              "  .colab-df-quickchart:hover {\n",
              "    background-color: var(--hover-bg-color);\n",
              "    box-shadow: 0 1px 2px rgba(60, 64, 67, 0.3), 0 1px 3px 1px rgba(60, 64, 67, 0.15);\n",
              "    fill: var(--button-hover-fill-color);\n",
              "  }\n",
              "\n",
              "  .colab-df-quickchart-complete:disabled,\n",
              "  .colab-df-quickchart-complete:disabled:hover {\n",
              "    background-color: var(--disabled-bg-color);\n",
              "    fill: var(--disabled-fill-color);\n",
              "    box-shadow: none;\n",
              "  }\n",
              "\n",
              "  .colab-df-spinner {\n",
              "    border: 2px solid var(--fill-color);\n",
              "    border-color: transparent;\n",
              "    border-bottom-color: var(--fill-color);\n",
              "    animation:\n",
              "      spin 1s steps(1) infinite;\n",
              "  }\n",
              "\n",
              "  @keyframes spin {\n",
              "    0% {\n",
              "      border-color: transparent;\n",
              "      border-bottom-color: var(--fill-color);\n",
              "      border-left-color: var(--fill-color);\n",
              "    }\n",
              "    20% {\n",
              "      border-color: transparent;\n",
              "      border-left-color: var(--fill-color);\n",
              "      border-top-color: var(--fill-color);\n",
              "    }\n",
              "    30% {\n",
              "      border-color: transparent;\n",
              "      border-left-color: var(--fill-color);\n",
              "      border-top-color: var(--fill-color);\n",
              "      border-right-color: var(--fill-color);\n",
              "    }\n",
              "    40% {\n",
              "      border-color: transparent;\n",
              "      border-right-color: var(--fill-color);\n",
              "      border-top-color: var(--fill-color);\n",
              "    }\n",
              "    60% {\n",
              "      border-color: transparent;\n",
              "      border-right-color: var(--fill-color);\n",
              "    }\n",
              "    80% {\n",
              "      border-color: transparent;\n",
              "      border-right-color: var(--fill-color);\n",
              "      border-bottom-color: var(--fill-color);\n",
              "    }\n",
              "    90% {\n",
              "      border-color: transparent;\n",
              "      border-bottom-color: var(--fill-color);\n",
              "    }\n",
              "  }\n",
              "</style>\n",
              "\n",
              "  <script>\n",
              "    async function quickchart(key) {\n",
              "      const quickchartButtonEl =\n",
              "        document.querySelector('#' + key + ' button');\n",
              "      quickchartButtonEl.disabled = true;  // To prevent multiple clicks.\n",
              "      quickchartButtonEl.classList.add('colab-df-spinner');\n",
              "      try {\n",
              "        const charts = await google.colab.kernel.invokeFunction(\n",
              "            'suggestCharts', [key], {});\n",
              "      } catch (error) {\n",
              "        console.error('Error during call to suggestCharts:', error);\n",
              "      }\n",
              "      quickchartButtonEl.classList.remove('colab-df-spinner');\n",
              "      quickchartButtonEl.classList.add('colab-df-quickchart-complete');\n",
              "    }\n",
              "    (() => {\n",
              "      let quickchartButtonEl =\n",
              "        document.querySelector('#df-a385854d-079f-4038-b531-432e189c808f button');\n",
              "      quickchartButtonEl.style.display =\n",
              "        google.colab.kernel.accessAllowed ? 'block' : 'none';\n",
              "    })();\n",
              "  </script>\n",
              "</div>\n",
              "    </div>\n",
              "  </div>\n"
            ],
            "application/vnd.google.colaboratory.intrinsic+json": {
              "type": "dataframe",
              "variable_name": "df"
            }
          },
          "metadata": {},
          "execution_count": 55
        }
      ],
      "source": [
        "df.head(5)"
      ]
    },
    {
      "cell_type": "code",
      "execution_count": null,
      "metadata": {
        "colab": {
          "base_uri": "https://localhost:8080/"
        },
        "id": "ZpmHFqvCesP_",
        "outputId": "53c5a2f3-0e22-4abc-a5b4-cef7c4d7448e"
      },
      "outputs": [
        {
          "output_type": "execute_result",
          "data": {
            "text/plain": [
              "Product                       object\n",
              "DaysInArrears_calc           float64\n",
              "Total_due                    float64\n",
              "LoanAmount                   float64\n",
              "OSP                          float64\n",
              "Loan_State                    object\n",
              "Due_Status                     int64\n",
              "Gender                        object\n",
              "Region                        object\n",
              "CustomerAge                  float64\n",
              "CarbonAge                    float64\n",
              "kyclevel                     float64\n",
              "maritalstatus                 object\n",
              "EducationLevel                object\n",
              "EmploymentStatus              object\n",
              "NetPay                       float64\n",
              "DPD_Band                      object\n",
              "Due_Band                      object\n",
              "Tenor                        float64\n",
              "interestrate                 float64\n",
              "risk_level_used               object\n",
              "OTP_at_disbursement          float64\n",
              "loans_taken                  float64\n",
              "Loannumber_band               object\n",
              "customer_type                 object\n",
              "peak_or_non_peak_week         object\n",
              "dayssincelasttransaction     float64\n",
              "dayssincelastrepayment       float64\n",
              "tier_currentdate               int64\n",
              "tier_disburseddate             int64\n",
              "tier_difference                int64\n",
              "LTI_ratio                    float64\n",
              "dayssinceloandisbursement    float64\n",
              "Day_Due                        int32\n",
              "Month_Due                      int32\n",
              "Year_Due                       int32\n",
              "dtype: object"
            ]
          },
          "metadata": {},
          "execution_count": 56
        }
      ],
      "source": [
        "df.dtypes"
      ]
    },
    {
      "cell_type": "markdown",
      "metadata": {
        "id": "tn-yz8wsUIug"
      },
      "source": [
        "# Train-Test Split\n"
      ]
    },
    {
      "cell_type": "markdown",
      "metadata": {
        "id": "9tNL2m-jmM5P"
      },
      "source": [
        "#### Handling Imbalanced Target Variable for Training dataset: Oversampling of  minority classes while Undersampling the majority class using Resample"
      ]
    },
    {
      "cell_type": "code",
      "execution_count": null,
      "metadata": {
        "colab": {
          "base_uri": "https://localhost:8080/",
          "height": 497
        },
        "id": "V88V96rikj69",
        "outputId": "348e0614-5a51-4153-f089-76fcdee9f057"
      },
      "outputs": [
        {
          "output_type": "display_data",
          "data": {
            "text/plain": [
              "<Figure size 640x480 with 1 Axes>"
            ],
            "image/png": "[encoded data removed]"
          },
          "metadata": {}
        }
      ],
      "source": [
        "# 'Due_Status' is the column containing repayment status\n",
        "due_status_counts = df['Due_Status'].value_counts().sort_values(ascending=False)\n",
        "\n",
        "# Create a bar chart\n",
        "plt.bar(due_status_counts.index, due_status_counts.values)\n",
        "plt.xlabel('Due Status')\n",
        "plt.ylabel('Number of Customers')\n",
        "plt.title('Distribution of Due Status')\n",
        "plt.xticks(rotation=45, ha='right')  # Rotate x-axis labels for better readability\n",
        "plt.show()"
      ]
    },
    {
      "cell_type": "code",
      "execution_count": null,
      "metadata": {
        "colab": {
          "base_uri": "https://localhost:8080/"
        },
        "id": "K_erwiX3kkcR",
        "outputId": "7aa29b60-ab32-4570-8c99-a70aa10fa712"
      },
      "outputs": [
        {
          "output_type": "stream",
          "name": "stdout",
          "text": [
            "Due_Status\n",
            "0    317677\n",
            "1     97433\n",
            "Name: count, dtype: int64\n"
          ]
        }
      ],
      "source": [
        "print(due_status_counts)"
      ]
    },
    {
      "cell_type": "markdown",
      "metadata": {
        "id": "YcwOvZnxXOmD"
      },
      "source": [
        "Here we shall go ahead and split the dataset into training data (80%) and test data (20%) and then apply target encoding to the training data before finally undersampling/ removing some data points from the majority class of the training dataset while replicating existing instances (oversampling) of the minority classes  to balance the class distribution using RandomOversampler. This helps to reduce memory consumption.\n",
        "\n"
      ]
    },
    {
      "cell_type": "code",
      "execution_count": null,
      "metadata": {
        "id": "VayoD2F9Uy0r"
      },
      "outputs": [],
      "source": [
        "from sklearn.model_selection import train_test_split, GridSearchCV\n",
        "from imblearn.under_sampling import RandomUnderSampler\n",
        "from imblearn.over_sampling import RandomOverSampler\n",
        "from imblearn.pipeline import Pipeline\n",
        "from imblearn.pipeline import Pipeline\n",
        "#from category_encoders import TargetEncoder\n",
        "from sklearn_pandas import DataFrameMapper, gen_features\n",
        "\n",
        "# Separate features and target\n",
        "X = df.drop('Due_Status', axis=1)\n",
        "y = df['Due_Status']\n",
        "\n",
        "# Split data into train and test sets\n",
        "X_train, X_test, y_train, y_test = train_test_split(X, y, test_size=0.2, random_state=42)\n"
      ]
    },
    {
      "cell_type": "code",
      "execution_count": null,
      "metadata": {
        "id": "GjWhXIv29ZIz"
      },
      "outputs": [],
      "source": [
        "X_train = X_train.drop(['tier_disburseddate', 'Day_Due',\n",
        "       'Month_Due', 'Year_Due','DPD_Band', 'Due_Band', 'Loannumber_band','Product',\n",
        "                       'peak_or_non_peak_week', 'maritalstatus', 'EducationLevel',\n",
        "                       'Gender', 'risk_level_used','EmploymentStatus','Region','customer_type', 'Loan_State',\n",
        "                        'kyclevel','Tenor', 'CarbonAge', 'interestrate', 'NetPay', 'tier_difference'\n",
        "\n",
        "       ], axis=1) #'tier_currentdate', 'LTI_ratio',\n"
      ]
    },
    {
      "cell_type": "code",
      "execution_count": null,
      "metadata": {
        "id": "pfNg3520CGJQ"
      },
      "outputs": [],
      "source": [
        "X_test = X_test.drop(['tier_disburseddate', 'Day_Due',\n",
        "       'Month_Due', 'Year_Due','DPD_Band', 'Due_Band', 'Loannumber_band','Product',\n",
        "                       'peak_or_non_peak_week', 'maritalstatus', 'EducationLevel',\n",
        "                       'Gender', 'risk_level_used','EmploymentStatus','Region','customer_type', 'Loan_State',\n",
        "                        'kyclevel','Tenor', 'CarbonAge', 'interestrate', 'NetPay', 'tier_difference'\n",
        "\n",
        "       ], axis=1)"
      ]
    },
    {
      "cell_type": "code",
      "execution_count": null,
      "metadata": {
        "id": "nYExwoqQq1YZ"
      },
      "outputs": [],
      "source": [
        "\n",
        "# Create a pipeline to undersample majority class and oversample minority classes\n",
        "over = RandomOverSampler(sampling_strategy=0.999)\n",
        "#under = RandomUnderSampler(sampling_strategy='auto')\n",
        "steps = [('over', over)]\n",
        "pipeline = Pipeline(steps=steps)\n",
        "\n",
        "# Apply the pipeline to the training data\n",
        "X_train_resampled, y_train_resampled = pipeline.fit_resample(X_train, y_train)"
      ]
    },
    {
      "cell_type": "code",
      "execution_count": null,
      "metadata": {
        "colab": {
          "base_uri": "https://localhost:8080/"
        },
        "id": "YSWYDUnRnJ1i",
        "outputId": "7f7a05b9-be0e-4793-9b1b-14fca7c4e4b8"
      },
      "outputs": [
        {
          "output_type": "stream",
          "name": "stdout",
          "text": [
            "Due_Status\n",
            "0    254019\n",
            "1    253764\n",
            "Name: count, dtype: int64\n"
          ]
        }
      ],
      "source": [
        "due_status_counts = y_train_resampled.value_counts().sort_values(ascending=False)\n",
        "print(due_status_counts)"
      ]
    },
    {
      "cell_type": "code",
      "execution_count": null,
      "metadata": {
        "colab": {
          "base_uri": "https://localhost:8080/",
          "height": 383
        },
        "id": "ZHMULNsr7oxN",
        "outputId": "bb6358f3-22e1-4b24-e484-21a7c85c8b11"
      },
      "outputs": [
        {
          "output_type": "execute_result",
          "data": {
            "text/plain": [
              "   DaysInArrears_calc  Total_due  LoanAmount       OSP  CustomerAge  \\\n",
              "0           -0.254106   12429.17     47500.0  39583.33     0.537866   \n",
              "1            1.225804   13832.03     20000.0  16666.67    -1.139428   \n",
              "2            1.658948   28700.00     20000.0  20000.00     0.649686   \n",
              "3            1.550662   28223.95     19500.0  19500.00     0.314227   \n",
              "4            0.251229   13750.01     50000.0  10500.01     1.320603   \n",
              "5           -0.831632    5562.58     18500.0  18500.00    -0.356690   \n",
              "6           -0.506774    4833.33     10000.0  10000.00    -1.251247   \n",
              "7            0.720469   12867.67     25000.0   8333.34     0.090588   \n",
              "8           -1.156490    7706.38     50000.0  38888.88     0.314227   \n",
              "9            1.983806   38799.24     80000.0  35555.55    -1.139428   \n",
              "\n",
              "   OTP_at_disbursement  loans_taken  dayssincelasttransaction  \\\n",
              "0             0.321075     0.382569                  0.658202   \n",
              "1             1.019790    -0.944242                  0.959511   \n",
              "2             0.225173    -1.076923                  1.321081   \n",
              "3             0.225173    -1.076923                  1.230689   \n",
              "4             0.386579     0.117207                 -0.818210   \n",
              "5             1.019790    -0.678880                 -0.757948   \n",
              "6             0.225173    -1.076923                  0.447286   \n",
              "7             1.019790    -0.546199                 -0.155331   \n",
              "8             0.845111     0.780612                 -0.426509   \n",
              "9             0.513221     0.382569                  1.592259   \n",
              "\n",
              "   dayssincelastrepayment  tier_currentdate  LTI_ratio  \\\n",
              "0                0.704201                 4  -0.289705   \n",
              "1                1.623858                 1  -0.251024   \n",
              "2                2.103679                 1  -0.936236   \n",
              "3                1.983724                 1  -0.279308   \n",
              "4               -0.735263                 5   0.080531   \n",
              "5               -0.655293                 6  -0.070511   \n",
              "6               -0.295427                 3  -0.869925   \n",
              "7                0.144409                 2  -0.637837   \n",
              "8               -0.215457                 5   0.909417   \n",
              "9                2.463545                 3   0.213152   \n",
              "\n",
              "   dayssinceloandisbursement  \n",
              "0                  -0.286012  \n",
              "1                   0.340540  \n",
              "2                   0.058591  \n",
              "3                   0.011600  \n",
              "4                   1.374350  \n",
              "5                  -1.022210  \n",
              "6                  -0.865572  \n",
              "7                   0.606824  \n",
              "8                  -0.192029  \n",
              "9                   2.392496  "
            ],
            "text/html": [
              "\n",
              "  <div id=\"df-4907492b-dee3-46fc-b366-2c1cddab3bb3\" class=\"colab-df-container\">\n",
              "    <div>\n",
              "<style scoped>\n",
              "    .dataframe tbody tr th:only-of-type {\n",
              "        vertical-align: middle;\n",
              "    }\n",
              "\n",
              "    .dataframe tbody tr th {\n",
              "        vertical-align: top;\n",
              "    }\n",
              "\n",
              "    .dataframe thead th {\n",
              "        text-align: right;\n",
              "    }\n",
              "</style>\n",
              "<table border=\"1\" class=\"dataframe\">\n",
              "  <thead>\n",
              "    <tr style=\"text-align: right;\">\n",
              "      <th></th>\n",
              "      <th>DaysInArrears_calc</th>\n",
              "      <th>Total_due</th>\n",
              "      <th>LoanAmount</th>\n",
              "      <th>OSP</th>\n",
              "      <th>CustomerAge</th>\n",
              "      <th>OTP_at_disbursement</th>\n",
              "      <th>loans_taken</th>\n",
              "      <th>dayssincelasttransaction</th>\n",
              "      <th>dayssincelastrepayment</th>\n",
              "      <th>tier_currentdate</th>\n",
              "      <th>LTI_ratio</th>\n",
              "      <th>dayssinceloandisbursement</th>\n",
              "    </tr>\n",
              "  </thead>\n",
              "  <tbody>\n",
              "    <tr>\n",
              "      <th>0</th>\n",
              "      <td>-0.254106</td>\n",
              "      <td>12429.17</td>\n",
              "      <td>47500.0</td>\n",
              "      <td>39583.33</td>\n",
              "      <td>0.537866</td>\n",
              "      <td>0.321075</td>\n",
              "      <td>0.382569</td>\n",
              "      <td>0.658202</td>\n",
              "      <td>0.704201</td>\n",
              "      <td>4</td>\n",
              "      <td>-0.289705</td>\n",
              "      <td>-0.286012</td>\n",
              "    </tr>\n",
              "    <tr>\n",
              "      <th>1</th>\n",
              "      <td>1.225804</td>\n",
              "      <td>13832.03</td>\n",
              "      <td>20000.0</td>\n",
              "      <td>16666.67</td>\n",
              "      <td>-1.139428</td>\n",
              "      <td>1.019790</td>\n",
              "      <td>-0.944242</td>\n",
              "      <td>0.959511</td>\n",
              "      <td>1.623858</td>\n",
              "      <td>1</td>\n",
              "      <td>-0.251024</td>\n",
              "      <td>0.340540</td>\n",
              "    </tr>\n",
              "    <tr>\n",
              "      <th>2</th>\n",
              "      <td>1.658948</td>\n",
              "      <td>28700.00</td>\n",
              "      <td>20000.0</td>\n",
              "      <td>20000.00</td>\n",
              "      <td>0.649686</td>\n",
              "      <td>0.225173</td>\n",
              "      <td>-1.076923</td>\n",
              "      <td>1.321081</td>\n",
              "      <td>2.103679</td>\n",
              "      <td>1</td>\n",
              "      <td>-0.936236</td>\n",
              "      <td>0.058591</td>\n",
              "    </tr>\n",
              "    <tr>\n",
              "      <th>3</th>\n",
              "      <td>1.550662</td>\n",
              "      <td>28223.95</td>\n",
              "      <td>19500.0</td>\n",
              "      <td>19500.00</td>\n",
              "      <td>0.314227</td>\n",
              "      <td>0.225173</td>\n",
              "      <td>-1.076923</td>\n",
              "      <td>1.230689</td>\n",
              "      <td>1.983724</td>\n",
              "      <td>1</td>\n",
              "      <td>-0.279308</td>\n",
              "      <td>0.011600</td>\n",
              "    </tr>\n",
              "    <tr>\n",
              "      <th>4</th>\n",
              "      <td>0.251229</td>\n",
              "      <td>13750.01</td>\n",
              "      <td>50000.0</td>\n",
              "      <td>10500.01</td>\n",
              "      <td>1.320603</td>\n",
              "      <td>0.386579</td>\n",
              "      <td>0.117207</td>\n",
              "      <td>-0.818210</td>\n",
              "      <td>-0.735263</td>\n",
              "      <td>5</td>\n",
              "      <td>0.080531</td>\n",
              "      <td>1.374350</td>\n",
              "    </tr>\n",
              "    <tr>\n",
              "      <th>5</th>\n",
              "      <td>-0.831632</td>\n",
              "      <td>5562.58</td>\n",
              "      <td>18500.0</td>\n",
              "      <td>18500.00</td>\n",
              "      <td>-0.356690</td>\n",
              "      <td>1.019790</td>\n",
              "      <td>-0.678880</td>\n",
              "      <td>-0.757948</td>\n",
              "      <td>-0.655293</td>\n",
              "      <td>6</td>\n",
              "      <td>-0.070511</td>\n",
              "      <td>-1.022210</td>\n",
              "    </tr>\n",
              "    <tr>\n",
              "      <th>6</th>\n",
              "      <td>-0.506774</td>\n",
              "      <td>4833.33</td>\n",
              "      <td>10000.0</td>\n",
              "      <td>10000.00</td>\n",
              "      <td>-1.251247</td>\n",
              "      <td>0.225173</td>\n",
              "      <td>-1.076923</td>\n",
              "      <td>0.447286</td>\n",
              "      <td>-0.295427</td>\n",
              "      <td>3</td>\n",
              "      <td>-0.869925</td>\n",
              "      <td>-0.865572</td>\n",
              "    </tr>\n",
              "    <tr>\n",
              "      <th>7</th>\n",
              "      <td>0.720469</td>\n",
              "      <td>12867.67</td>\n",
              "      <td>25000.0</td>\n",
              "      <td>8333.34</td>\n",
              "      <td>0.090588</td>\n",
              "      <td>1.019790</td>\n",
              "      <td>-0.546199</td>\n",
              "      <td>-0.155331</td>\n",
              "      <td>0.144409</td>\n",
              "      <td>2</td>\n",
              "      <td>-0.637837</td>\n",
              "      <td>0.606824</td>\n",
              "    </tr>\n",
              "    <tr>\n",
              "      <th>8</th>\n",
              "      <td>-1.156490</td>\n",
              "      <td>7706.38</td>\n",
              "      <td>50000.0</td>\n",
              "      <td>38888.88</td>\n",
              "      <td>0.314227</td>\n",
              "      <td>0.845111</td>\n",
              "      <td>0.780612</td>\n",
              "      <td>-0.426509</td>\n",
              "      <td>-0.215457</td>\n",
              "      <td>5</td>\n",
              "      <td>0.909417</td>\n",
              "      <td>-0.192029</td>\n",
              "    </tr>\n",
              "    <tr>\n",
              "      <th>9</th>\n",
              "      <td>1.983806</td>\n",
              "      <td>38799.24</td>\n",
              "      <td>80000.0</td>\n",
              "      <td>35555.55</td>\n",
              "      <td>-1.139428</td>\n",
              "      <td>0.513221</td>\n",
              "      <td>0.382569</td>\n",
              "      <td>1.592259</td>\n",
              "      <td>2.463545</td>\n",
              "      <td>3</td>\n",
              "      <td>0.213152</td>\n",
              "      <td>2.392496</td>\n",
              "    </tr>\n",
              "  </tbody>\n",
              "</table>\n",
              "</div>\n",
              "    <div class=\"colab-df-buttons\">\n",
              "\n",
              "  <div class=\"colab-df-container\">\n",
              "    <button class=\"colab-df-convert\" onclick=\"convertToInteractive('df-4907492b-dee3-46fc-b366-2c1cddab3bb3')\"\n",
              "            title=\"Convert this dataframe to an interactive table.\"\n",
              "            style=\"display:none;\">\n",
              "\n",
              "  <svg xmlns=\"http://www.w3.org/2000/svg\" height=\"24px\" viewBox=\"0 -960 960 960\">\n",
              "    <path d=\"M120-120v-720h720v720H120Zm60-500h600v-160H180v160Zm220 220h160v-160H400v160Zm0 220h160v-160H400v160ZM180-400h160v-160H180v160Zm440 0h160v-160H620v160ZM180-180h160v-160H180v160Zm440 0h160v-160H620v160Z\"/>\n",
              "  </svg>\n",
              "    </button>\n",
              "\n",
              "  <style>\n",
              "    .colab-df-container {\n",
              "      display:flex;\n",
              "      gap: 12px;\n",
              "    }\n",
              "\n",
              "    .colab-df-convert {\n",
              "      background-color: #E8F0FE;\n",
              "      border: none;\n",
              "      border-radius: 50%;\n",
              "      cursor: pointer;\n",
              "      display: none;\n",
              "      fill: #1967D2;\n",
              "      height: 32px;\n",
              "      padding: 0 0 0 0;\n",
              "      width: 32px;\n",
              "    }\n",
              "\n",
              "    .colab-df-convert:hover {\n",
              "      background-color: #E2EBFA;\n",
              "      box-shadow: 0px 1px 2px rgba(60, 64, 67, 0.3), 0px 1px 3px 1px rgba(60, 64, 67, 0.15);\n",
              "      fill: #174EA6;\n",
              "    }\n",
              "\n",
              "    .colab-df-buttons div {\n",
              "      margin-bottom: 4px;\n",
              "    }\n",
              "\n",
              "    [theme=dark] .colab-df-convert {\n",
              "      background-color: #3B4455;\n",
              "      fill: #D2E3FC;\n",
              "    }\n",
              "\n",
              "    [theme=dark] .colab-df-convert:hover {\n",
              "      background-color: #434B5C;\n",
              "      box-shadow: 0px 1px 3px 1px rgba(0, 0, 0, 0.15);\n",
              "      filter: drop-shadow(0px 1px 2px rgba(0, 0, 0, 0.3));\n",
              "      fill: #FFFFFF;\n",
              "    }\n",
              "  </style>\n",
              "\n",
              "    <script>\n",
              "      const buttonEl =\n",
              "        document.querySelector('#df-4907492b-dee3-46fc-b366-2c1cddab3bb3 button.colab-df-convert');\n",
              "      buttonEl.style.display =\n",
              "        google.colab.kernel.accessAllowed ? 'block' : 'none';\n",
              "\n",
              "      async function convertToInteractive(key) {\n",
              "        const element = document.querySelector('#df-4907492b-dee3-46fc-b366-2c1cddab3bb3');\n",
              "        const dataTable =\n",
              "          await google.colab.kernel.invokeFunction('convertToInteractive',\n",
              "                                                    [key], {});\n",
              "        if (!dataTable) return;\n",
              "\n",
              "        const docLinkHtml = 'Like what you see? Visit the ' +\n",
              "          '<a target=\"_blank\" href=https://colab.research.google.com/notebooks/data_table.ipynb>data table notebook</a>'\n",
              "          + ' to learn more about interactive tables.';\n",
              "        element.innerHTML = '';\n",
              "        dataTable['output_type'] = 'display_data';\n",
              "        await google.colab.output.renderOutput(dataTable, element);\n",
              "        const docLink = document.createElement('div');\n",
              "        docLink.innerHTML = docLinkHtml;\n",
              "        element.appendChild(docLink);\n",
              "      }\n",
              "    </script>\n",
              "  </div>\n",
              "\n",
              "\n",
              "<div id=\"df-0686f094-a49d-4732-996f-7f404ef19805\">\n",
              "  <button class=\"colab-df-quickchart\" onclick=\"quickchart('df-0686f094-a49d-4732-996f-7f404ef19805')\"\n",
              "            title=\"Suggest charts\"\n",
              "            style=\"display:none;\">\n",
              "\n",
              "<svg xmlns=\"http://www.w3.org/2000/svg\" height=\"24px\"viewBox=\"0 0 24 24\"\n",
              "     width=\"24px\">\n",
              "    <g>\n",
              "        <path d=\"M19 3H5c-1.1 0-2 .9-2 2v14c0 1.1.9 2 2 2h14c1.1 0 2-.9 2-2V5c0-1.1-.9-2-2-2zM9 17H7v-7h2v7zm4 0h-2V7h2v10zm4 0h-2v-4h2v4z\"/>\n",
              "    </g>\n",
              "</svg>\n",
              "  </button>\n",
              "\n",
              "<style>\n",
              "  .colab-df-quickchart {\n",
              "      --bg-color: #E8F0FE;\n",
              "      --fill-color: #1967D2;\n",
              "      --hover-bg-color: #E2EBFA;\n",
              "      --hover-fill-color: #174EA6;\n",
              "      --disabled-fill-color: #AAA;\n",
              "      --disabled-bg-color: #DDD;\n",
              "  }\n",
              "\n",
              "  [theme=dark] .colab-df-quickchart {\n",
              "      --bg-color: #3B4455;\n",
              "      --fill-color: #D2E3FC;\n",
              "      --hover-bg-color: #434B5C;\n",
              "      --hover-fill-color: #FFFFFF;\n",
              "      --disabled-bg-color: #3B4455;\n",
              "      --disabled-fill-color: #666;\n",
              "  }\n",
              "\n",
              "  .colab-df-quickchart {\n",
              "    background-color: var(--bg-color);\n",
              "    border: none;\n",
              "    border-radius: 50%;\n",
              "    cursor: pointer;\n",
              "    display: none;\n",
              "    fill: var(--fill-color);\n",
              "    height: 32px;\n",
              "    padding: 0;\n",
              "    width: 32px;\n",
              "  }\n",
              "\n",
              "  .colab-df-quickchart:hover {\n",
              "    background-color: var(--hover-bg-color);\n",
              "    box-shadow: 0 1px 2px rgba(60, 64, 67, 0.3), 0 1px 3px 1px rgba(60, 64, 67, 0.15);\n",
              "    fill: var(--button-hover-fill-color);\n",
              "  }\n",
              "\n",
              "  .colab-df-quickchart-complete:disabled,\n",
              "  .colab-df-quickchart-complete:disabled:hover {\n",
              "    background-color: var(--disabled-bg-color);\n",
              "    fill: var(--disabled-fill-color);\n",
              "    box-shadow: none;\n",
              "  }\n",
              "\n",
              "  .colab-df-spinner {\n",
              "    border: 2px solid var(--fill-color);\n",
              "    border-color: transparent;\n",
              "    border-bottom-color: var(--fill-color);\n",
              "    animation:\n",
              "      spin 1s steps(1) infinite;\n",
              "  }\n",
              "\n",
              "  @keyframes spin {\n",
              "    0% {\n",
              "      border-color: transparent;\n",
              "      border-bottom-color: var(--fill-color);\n",
              "      border-left-color: var(--fill-color);\n",
              "    }\n",
              "    20% {\n",
              "      border-color: transparent;\n",
              "      border-left-color: var(--fill-color);\n",
              "      border-top-color: var(--fill-color);\n",
              "    }\n",
              "    30% {\n",
              "      border-color: transparent;\n",
              "      border-left-color: var(--fill-color);\n",
              "      border-top-color: var(--fill-color);\n",
              "      border-right-color: var(--fill-color);\n",
              "    }\n",
              "    40% {\n",
              "      border-color: transparent;\n",
              "      border-right-color: var(--fill-color);\n",
              "      border-top-color: var(--fill-color);\n",
              "    }\n",
              "    60% {\n",
              "      border-color: transparent;\n",
              "      border-right-color: var(--fill-color);\n",
              "    }\n",
              "    80% {\n",
              "      border-color: transparent;\n",
              "      border-right-color: var(--fill-color);\n",
              "      border-bottom-color: var(--fill-color);\n",
              "    }\n",
              "    90% {\n",
              "      border-color: transparent;\n",
              "      border-bottom-color: var(--fill-color);\n",
              "    }\n",
              "  }\n",
              "</style>\n",
              "\n",
              "  <script>\n",
              "    async function quickchart(key) {\n",
              "      const quickchartButtonEl =\n",
              "        document.querySelector('#' + key + ' button');\n",
              "      quickchartButtonEl.disabled = true;  // To prevent multiple clicks.\n",
              "      quickchartButtonEl.classList.add('colab-df-spinner');\n",
              "      try {\n",
              "        const charts = await google.colab.kernel.invokeFunction(\n",
              "            'suggestCharts', [key], {});\n",
              "      } catch (error) {\n",
              "        console.error('Error during call to suggestCharts:', error);\n",
              "      }\n",
              "      quickchartButtonEl.classList.remove('colab-df-spinner');\n",
              "      quickchartButtonEl.classList.add('colab-df-quickchart-complete');\n",
              "    }\n",
              "    (() => {\n",
              "      let quickchartButtonEl =\n",
              "        document.querySelector('#df-0686f094-a49d-4732-996f-7f404ef19805 button');\n",
              "      quickchartButtonEl.style.display =\n",
              "        google.colab.kernel.accessAllowed ? 'block' : 'none';\n",
              "    })();\n",
              "  </script>\n",
              "</div>\n",
              "    </div>\n",
              "  </div>\n"
            ],
            "application/vnd.google.colaboratory.intrinsic+json": {
              "type": "dataframe",
              "variable_name": "X_train_resampled"
            }
          },
          "metadata": {},
          "execution_count": 64
        }
      ],
      "source": [
        "X_train_resampled.head(10)"
      ]
    },
    {
      "cell_type": "code",
      "execution_count": null,
      "metadata": {
        "colab": {
          "base_uri": "https://localhost:8080/"
        },
        "id": "8Q_acHxJB-2t",
        "outputId": "81290931-9958-46a2-dda1-6c802abb1b8f"
      },
      "outputs": [
        {
          "output_type": "execute_result",
          "data": {
            "text/plain": [
              "Index(['DaysInArrears_calc', 'Total_due', 'LoanAmount', 'OSP', 'CustomerAge',\n",
              "       'OTP_at_disbursement', 'loans_taken', 'dayssincelasttransaction',\n",
              "       'dayssincelastrepayment', 'tier_currentdate', 'LTI_ratio',\n",
              "       'dayssinceloandisbursement'],\n",
              "      dtype='object')"
            ]
          },
          "metadata": {},
          "execution_count": 65
        }
      ],
      "source": [
        "X_test.head(10).columns"
      ]
    },
    {
      "cell_type": "code",
      "execution_count": null,
      "metadata": {
        "colab": {
          "base_uri": "https://localhost:8080/"
        },
        "id": "soxmIWYOHaIt",
        "outputId": "d0ee4586-31a2-49fe-9996-8ca9959cddd6"
      },
      "outputs": [
        {
          "output_type": "execute_result",
          "data": {
            "text/plain": [
              "Index(['DaysInArrears_calc', 'Total_due', 'LoanAmount', 'OSP', 'CustomerAge',\n",
              "       'OTP_at_disbursement', 'loans_taken', 'dayssincelasttransaction',\n",
              "       'dayssincelastrepayment', 'tier_currentdate', 'LTI_ratio',\n",
              "       'dayssinceloandisbursement'],\n",
              "      dtype='object')"
            ]
          },
          "metadata": {},
          "execution_count": 66
        }
      ],
      "source": [
        "X_train_resampled.head(10).columns"
      ]
    },
    {
      "cell_type": "markdown",
      "metadata": {
        "id": "bstql3pQjnI9"
      },
      "source": [
        "# Model Training and Performance Evaluation"
      ]
    },
    {
      "cell_type": "markdown",
      "metadata": {
        "id": "xRinfaIpi0wl"
      },
      "source": [
        "For this use case of predicting customer repayment behavior, we shall proceed to train two appropriate classification models, Random Forest Classifier & Gradient Boosting Classifier and compare the performance of each. Our choice of model will be a result of this evaluation alongside domain knowledge.\n",
        "\n",
        "Gradient Boosting is an ensemble technique that combines multiple weak learners (decision trees) to create a strong predictive model. It is particularly well-suited for handling complex relationships and non-linear patterns in the data, which is often the case in financial and customer behavior datasets."
      ]
    },
    {
      "cell_type": "code",
      "execution_count": null,
      "metadata": {
        "colab": {
          "base_uri": "https://localhost:8080/",
          "height": 74
        },
        "id": "DYoyb2001Z7A",
        "outputId": "a6cdc1fb-5c24-46b3-c3f3-702d20251611"
      },
      "outputs": [
        {
          "output_type": "execute_result",
          "data": {
            "text/plain": [
              "RandomForestClassifier(class_weight={0: 1.4, 1: 1}, random_state=42)"
            ],
            "text/html": [
              "<style>#sk-container-id-1 {color: black;background-color: white;}#sk-container-id-1 pre{padding: 0;}#sk-container-id-1 div.sk-toggleable {background-color: white;}#sk-container-id-1 label.sk-toggleable__label {cursor: pointer;display: block;width: 100%;margin-bottom: 0;padding: 0.3em;box-sizing: border-box;text-align: center;}#sk-container-id-1 label.sk-toggleable__label-arrow:before {content: \"▸\";float: left;margin-right: 0.25em;color: #696969;}#sk-container-id-1 label.sk-toggleable__label-arrow:hover:before {color: black;}#sk-container-id-1 div.sk-estimator:hover label.sk-toggleable__label-arrow:before {color: black;}#sk-container-id-1 div.sk-toggleable__content {max-height: 0;max-width: 0;overflow: hidden;text-align: left;background-color: #f0f8ff;}#sk-container-id-1 div.sk-toggleable__content pre {margin: 0.2em;color: black;border-radius: 0.25em;background-color: #f0f8ff;}#sk-container-id-1 input.sk-toggleable__control:checked~div.sk-toggleable__content {max-height: 200px;max-width: 100%;overflow: auto;}#sk-container-id-1 input.sk-toggleable__control:checked~label.sk-toggleable__label-arrow:before {content: \"▾\";}#sk-container-id-1 div.sk-estimator input.sk-toggleable__control:checked~label.sk-toggleable__label {background-color: #d4ebff;}#sk-container-id-1 div.sk-label input.sk-toggleable__control:checked~label.sk-toggleable__label {background-color: #d4ebff;}#sk-container-id-1 input.sk-hidden--visually {border: 0;clip: rect(1px 1px 1px 1px);clip: rect(1px, 1px, 1px, 1px);height: 1px;margin: -1px;overflow: hidden;padding: 0;position: absolute;width: 1px;}#sk-container-id-1 div.sk-estimator {font-family: monospace;background-color: #f0f8ff;border: 1px dotted black;border-radius: 0.25em;box-sizing: border-box;margin-bottom: 0.5em;}#sk-container-id-1 div.sk-estimator:hover {background-color: #d4ebff;}#sk-container-id-1 div.sk-parallel-item::after {content: \"\";width: 100%;border-bottom: 1px solid gray;flex-grow: 1;}#sk-container-id-1 div.sk-label:hover label.sk-toggleable__label {background-color: #d4ebff;}#sk-container-id-1 div.sk-serial::before {content: \"\";position: absolute;border-left: 1px solid gray;box-sizing: border-box;top: 0;bottom: 0;left: 50%;z-index: 0;}#sk-container-id-1 div.sk-serial {display: flex;flex-direction: column;align-items: center;background-color: white;padding-right: 0.2em;padding-left: 0.2em;position: relative;}#sk-container-id-1 div.sk-item {position: relative;z-index: 1;}#sk-container-id-1 div.sk-parallel {display: flex;align-items: stretch;justify-content: center;background-color: white;position: relative;}#sk-container-id-1 div.sk-item::before, #sk-container-id-1 div.sk-parallel-item::before {content: \"\";position: absolute;border-left: 1px solid gray;box-sizing: border-box;top: 0;bottom: 0;left: 50%;z-index: -1;}#sk-container-id-1 div.sk-parallel-item {display: flex;flex-direction: column;z-index: 1;position: relative;background-color: white;}#sk-container-id-1 div.sk-parallel-item:first-child::after {align-self: flex-end;width: 50%;}#sk-container-id-1 div.sk-parallel-item:last-child::after {align-self: flex-start;width: 50%;}#sk-container-id-1 div.sk-parallel-item:only-child::after {width: 0;}#sk-container-id-1 div.sk-dashed-wrapped {border: 1px dashed gray;margin: 0 0.4em 0.5em 0.4em;box-sizing: border-box;padding-bottom: 0.4em;background-color: white;}#sk-container-id-1 div.sk-label label {font-family: monospace;font-weight: bold;display: inline-block;line-height: 1.2em;}#sk-container-id-1 div.sk-label-container {text-align: center;}#sk-container-id-1 div.sk-container {/* jupyter's `normalize.less` sets `[hidden] { display: none; }` but bootstrap.min.css set `[hidden] { display: none !important; }` so we also need the `!important` here to be able to override the default hidden behavior on the sphinx rendered scikit-learn.org. See: https://github.com/scikit-learn/scikit-learn/issues/21755 */display: inline-block !important;position: relative;}#sk-container-id-1 div.sk-text-repr-fallback {display: none;}</style><div id=\"sk-container-id-1\" class=\"sk-top-container\"><div class=\"sk-text-repr-fallback\"><pre>RandomForestClassifier(class_weight={0: 1.4, 1: 1}, random_state=42)</pre><b>In a Jupyter environment, please rerun this cell to show the HTML representation or trust the notebook. <br />On GitHub, the HTML representation is unable to render, please try loading this page with nbviewer.org.</b></div><div class=\"sk-container\" hidden><div class=\"sk-item\"><div class=\"sk-estimator sk-toggleable\"><input class=\"sk-toggleable__control sk-hidden--visually\" id=\"sk-estimator-id-1\" type=\"checkbox\" checked><label for=\"sk-estimator-id-1\" class=\"sk-toggleable__label sk-toggleable__label-arrow\">RandomForestClassifier</label><div class=\"sk-toggleable__content\"><pre>RandomForestClassifier(class_weight={0: 1.4, 1: 1}, random_state=42)</pre></div></div></div></div></div>"
            ]
          },
          "metadata": {},
          "execution_count": 67
        }
      ],
      "source": [
        "from sklearn.ensemble import RandomForestClassifier\n",
        "#from sklearn.tree import DecisionTreeClassifier\n",
        "from sklearn.metrics import precision_score, recall_score, f1_score, confusion_matrix, classification_report\n",
        "\n",
        "# Train Random Forest Classifier\n",
        "rf_clf = RandomForestClassifier(random_state=42,class_weight={0:1.4,1:1})\n",
        "rf_clf.fit(X_train_resampled, y_train_resampled)\n",
        "\n"
      ]
    },
    {
      "cell_type": "code",
      "execution_count": null,
      "metadata": {
        "colab": {
          "base_uri": "https://localhost:8080/"
        },
        "id": "8rj22o3fr-Ts",
        "outputId": "a38306a1-1eac-4872-faad-ca7d32a8598d"
      },
      "outputs": [
        {
          "output_type": "stream",
          "name": "stdout",
          "text": [
            "Random Forest Precision: 0.750\n",
            "Random Forest Recall: 0.712\n",
            "Random Forest F1-score: 0.727\n"
          ]
        }
      ],
      "source": [
        "# Evaluate Random Forest Classifier on test data\n",
        "y_pred = rf_clf.predict(X_test)\n",
        "rf_precision = precision_score(y_test, y_pred, average='macro')\n",
        "rf_recall = recall_score(y_test, y_pred, average='macro')\n",
        "rf_f1 = f1_score(y_test, y_pred, average='macro')\n",
        "\n",
        "print(f\"Random Forest Precision: {rf_precision:.3f}\")\n",
        "print(f\"Random Forest Recall: {rf_recall:.3f}\")\n",
        "print(f\"Random Forest F1-score: {rf_f1:.3f}\")"
      ]
    },
    {
      "cell_type": "code",
      "execution_count": null,
      "metadata": {
        "colab": {
          "base_uri": "https://localhost:8080/"
        },
        "id": "wZfxQHMHMDn0",
        "outputId": "6f8f4811-1927-4151-b4d7-bf2550770c4c"
      },
      "outputs": [
        {
          "output_type": "stream",
          "name": "stdout",
          "text": [
            "\n",
            "\n",
            "TESTING SET RESULTS: \n",
            "the confusion matrix: \n",
            " [[58100  5558]\n",
            " [ 9454  9910]]\n",
            "Hit rate equals 0.8191804581918046\n"
          ]
        }
      ],
      "source": [
        "conf1 = confusion_matrix(y_test, y_pred)\n",
        "conf_sum = np.sum(np.sum(conf1, axis= 1))\n",
        "hit_rate = (conf1[0,0] + conf1[1,1])/ conf_sum # % of correct predictions\n",
        "print(\"\\n\\nTESTING SET RESULTS: \")\n",
        "print('the confusion matrix: \\n {}' .format(conf1))\n",
        "print('Hit rate equals {}'.format(hit_rate))"
      ]
    },
    {
      "cell_type": "code",
      "execution_count": null,
      "metadata": {
        "colab": {
          "base_uri": "https://localhost:8080/"
        },
        "id": "ZFa3fE9HpYGX",
        "outputId": "cad57b1f-dd9c-46a7-9fd8-a7c0c5ea57b2"
      },
      "outputs": [
        {
          "output_type": "stream",
          "name": "stdout",
          "text": [
            "              precision    recall  f1-score   support\n",
            "\n",
            "           0       0.86      0.91      0.89     63658\n",
            "           1       0.64      0.51      0.57     19364\n",
            "\n",
            "    accuracy                           0.82     83022\n",
            "   macro avg       0.75      0.71      0.73     83022\n",
            "weighted avg       0.81      0.82      0.81     83022\n",
            "\n",
            "0.8191804581918046\n"
          ]
        }
      ],
      "source": [
        "from sklearn.metrics import accuracy_score, classification_report\n",
        "print(classification_report(y_test, y_pred))\n",
        "print(accuracy_score(y_test, y_pred))"
      ]
    },
    {
      "cell_type": "code",
      "execution_count": null,
      "metadata": {
        "colab": {
          "base_uri": "https://localhost:8080/",
          "height": 607
        },
        "id": "c6O894sA3GO8",
        "outputId": "bd7815c2-88f1-45c1-9b40-76f49f423c28"
      },
      "outputs": [
        {
          "output_type": "display_data",
          "data": {
            "text/plain": [
              "<Figure size 1000x600 with 1 Axes>"
            ],
            "image/png": "[encoded data removed]"
          },
          "metadata": {}
        }
      ],
      "source": [
        "import matplotlib.pyplot as plt\n",
        "import numpy as np\n",
        "\n",
        "# Get feature importances from the model\n",
        "feature_importances = rf_clf.feature_importances_\n",
        "\n",
        "# Get feature names (assuming they are stored in a list)\n",
        "feature_names = ['DaysInArrears_calc', 'Total_due', 'LoanAmount', 'OSP', 'CustomerAge',\n",
        "       'OTP_at_disbursement', 'loans_taken', 'dayssincelasttransaction',\n",
        "       'dayssincelastrepayment', 'tier_currentdate', 'LTI_ratio',\n",
        "       'dayssinceloandisbursement']\n",
        "\n",
        "# Sort the feature importances in descending order and get the corresponding indices\n",
        "sorted_indices = np.argsort(feature_importances)[::-1]\n",
        "\n",
        "# Reorder the feature names and feature importances based on the sorted indices\n",
        "sorted_feature_names = [feature_names[i] for i in sorted_indices]\n",
        "sorted_feature_importances = [feature_importances[i] for i in sorted_indices]\n",
        "\n",
        "# Create a bar chart to visualize feature importance\n",
        "plt.figure(figsize=(10, 6))\n",
        "plt.barh(sorted_feature_names, sorted_feature_importances, color='skyblue')\n",
        "plt.xlabel('Feature Importance (Higher is more important)')\n",
        "plt.ylabel('Feature Name')\n",
        "plt.title('Feature Importance for Random Forest Classifier')\n",
        "plt.tight_layout()\n",
        "plt.show()"
      ]
    },
    {
      "cell_type": "code",
      "execution_count": null,
      "metadata": {
        "colab": {
          "base_uri": "https://localhost:8080/"
        },
        "id": "Ea99JTNXfirz",
        "outputId": "dc04f40c-acf1-4383-f277-c39dad45246f"
      },
      "outputs": [
        {
          "output_type": "stream",
          "name": "stdout",
          "text": [
            "Results:\n",
            "       Actual  Prediction  No Payment Made Probability  \\\n",
            "33841       0           1                         0.37   \n",
            "16704       0           0                         0.68   \n",
            "36434       0           0                         0.91   \n",
            "38335       0           0                         0.98   \n",
            "48570       0           1                         0.43   \n",
            "27207       0           0                         0.74   \n",
            "74          0           0                         0.99   \n",
            "46516       1           0                         0.66   \n",
            "36112       0           0                         1.00   \n",
            "52          0           0                         0.75   \n",
            "42675       0           0                         0.95   \n",
            "28232       0           0                         0.96   \n",
            "40178       0           0                         0.73   \n",
            "26321       0           0                         0.73   \n",
            "27461       0           1                         0.49   \n",
            "\n",
            "       Payment Made Probability  \n",
            "33841                      0.63  \n",
            "16704                      0.32  \n",
            "36434                      0.09  \n",
            "38335                      0.02  \n",
            "48570                      0.57  \n",
            "27207                      0.26  \n",
            "74                         0.01  \n",
            "46516                      0.34  \n",
            "36112                      0.00  \n",
            "52                         0.25  \n",
            "42675                      0.05  \n",
            "28232                      0.04  \n",
            "40178                      0.27  \n",
            "26321                      0.27  \n",
            "27461                      0.51  \n"
          ]
        }
      ],
      "source": [
        "y_pred_proba = rf_clf.predict_proba(X_test)\n",
        "\n",
        "# Create a DataFrame with the actual labels, predictions, and probabilities\n",
        "results_df1 = pd.DataFrame({\n",
        "    'Actual': y_test,\n",
        "    'Prediction': y_pred,\n",
        "    'No Payment Made Probability': y_pred_proba[:, 0],\n",
        "    'Payment Made Probability': y_pred_proba[:, 1]\n",
        "})\n",
        "\n",
        "# Display the head of the results DataFrame\n",
        "print(\"Results:\")\n",
        "print(results_df1.head(15))"
      ]
    },
    {
      "cell_type": "code",
      "execution_count": null,
      "metadata": {
        "colab": {
          "base_uri": "https://localhost:8080/"
        },
        "id": "w4lxqkk-hlNK",
        "outputId": "597824b7-01a8-436d-96b8-a7908751a63b"
      },
      "outputs": [
        {
          "output_type": "stream",
          "name": "stdout",
          "text": [
            "Predictions where Prediction is 'No Payment Made':\n",
            "       Actual  Prediction  No Payment Made Probability  \\\n",
            "16704       0           0                         0.68   \n",
            "36434       0           0                         0.91   \n",
            "38335       0           0                         0.98   \n",
            "27207       0           0                         0.74   \n",
            "74          0           0                         0.99   \n",
            "46516       1           0                         0.66   \n",
            "36112       0           0                         1.00   \n",
            "52          0           0                         0.75   \n",
            "42675       0           0                         0.95   \n",
            "28232       0           0                         0.96   \n",
            "\n",
            "       Payment Made Probability  \n",
            "16704                      0.32  \n",
            "36434                      0.09  \n",
            "38335                      0.02  \n",
            "27207                      0.26  \n",
            "74                         0.01  \n",
            "46516                      0.34  \n",
            "36112                      0.00  \n",
            "52                         0.25  \n",
            "42675                      0.05  \n",
            "28232                      0.04  \n"
          ]
        }
      ],
      "source": [
        "# Filter the DataFrame to show only the predictions where the prediction is 0 (No Payment Made)\n",
        "no_payment_made_predictions1 = results_df1[results_df1['Prediction'] == 0]\n",
        "\n",
        "# Display the head of the filtered DataFrame\n",
        "print(\"Predictions where Prediction is 'No Payment Made':\")\n",
        "print(no_payment_made_predictions1.head(10))"
      ]
    },
    {
      "cell_type": "code",
      "execution_count": null,
      "metadata": {
        "colab": {
          "base_uri": "https://localhost:8080/"
        },
        "id": "F2sq4jskOp0B",
        "outputId": "79b4cc27-1521-413f-dd69-dba03cdd07db"
      },
      "outputs": [
        {
          "output_type": "stream",
          "name": "stdout",
          "text": [
            "The number of customers we may decide not to call at 0.79 minimum no repayment probability treshold \n",
            "equals 38952  out of 83022 customers which is 46.92% of the total number of customers in arrears \n",
            "while 2569 out of 19364 potential paying customers which is 13.27% of \n",
            "the total number of actual potential paying customers may not be called.\n",
            "\n",
            "\n",
            "86.73% of the Actual Positive will be called from the selected call list\n",
            "\n",
            "Out of the total number of customers selected for a call i.e 44070, 38.11% have been truly \n",
            "predicted to make part or full repayment\n"
          ]
        }
      ],
      "source": [
        "Actual1_1 = no_payment_made_predictions1[no_payment_made_predictions1['Actual']==1]\n",
        "Actual1_0 = no_payment_made_predictions1[no_payment_made_predictions1['Actual']==0]\n",
        "\n",
        "# Setting the allowable No Payment Made Probability threshold of customers who we'll decide not to call\n",
        "prob1_max_treshhold = 0.79\n",
        "\n",
        "high1_True_neg_probability_df = Actual1_0[Actual1_0['No Payment Made Probability'] > prob1_max_treshhold]\n",
        "# Sort by No Payment Made Probability in Descending Order with value counts\n",
        "sorted1_by_TN_probability = high1_True_neg_probability_df.groupby('No Payment Made Probability').size().to_frame(name='Count').sort_values(by='No Payment Made Probability', ascending=False)\n",
        "\n",
        "# Ultimately, the threshold of paying customers who we'll decide not to call will also be set at > 0.9 No Payment Made Probability\n",
        "high1_False_neg_probability_df = Actual1_1[Actual1_1['No Payment Made Probability'] > prob1_min_treshhold]\n",
        "\n",
        "# Sort by No Payment Made Probability in Descending Order with value counts\n",
        "sorted1_by_FN_probability = high1_False_neg_probability_df.groupby('No Payment Made Probability').size().to_frame(name='Count').sort_values(by='No Payment Made Probability', ascending=False)\n",
        "\n",
        "# Print the result with both probability and count\n",
        "#print(sorted_by_probability01)\n",
        "\n",
        "Actual1_Positive = conf1[1,1]+conf1[1,0]\n",
        "Total1_Customer_Count = conf1[1,1]+conf1[1,0]+conf1[0,1]+conf1[0,0]\n",
        "\n",
        "total1_TN_count = sorted1_by_TN_probability['Count'].sum()  # Calculate total count first\n",
        "percentage1_TN_count = (sorted1_by_TN_probability['Count'].sum())/Total1_Customer_Count*100\n",
        "\n",
        "\n",
        "total1_FN_count = sorted1_by_FN_probability['Count'].sum()  # Calculate total count first\n",
        "percentage1_FN_count = (sorted1_by_FN_probability['Count'].sum())/Actual1_Positive*100\n",
        "\n",
        "True1_Positive_called = Actual1_Positive - total1_FN_count\n",
        "Total1_count_selectedforacall = Total1_Customer_Count - total1_TN_count\n",
        "percentof1_True_Positive_in_called = True1_Positive_called/(Total1_count_selectedforacall)*100\n",
        "percentof1_Actual_Positive_called = (True1_Positive_called)/ Actual1_Positive *100\n",
        "\n",
        "print(f'The number of customers we may decide not to call at {prob1_max_treshhold} minimum no repayment probability treshold \\nequals {total1_TN_count}  out of {Total1_Customer_Count} customers which is {round(percentage1_TN_count,2)}% of the total number of customers in arrears \\nwhile {total1_FN_count} out of {Actual1_Positive} potential paying customers which is {round(percentage1_FN_count,2)}% of \\nthe total number of actual potential paying customers may not be called.')\n",
        "print(f'\\n\\n{round(percentof1_Actual_Positive_called,2)}% of the Actual Positive will be called from the selected call list')\n",
        "print(f'\\nOut of the total number of customers selected for a call i.e {Total1_count_selectedforacall}, {round(percentof1_True_Positive_in_called,2)}% have been truly \\npredicted to make part or full repayment')"
      ]
    },
    {
      "cell_type": "code",
      "execution_count": null,
      "metadata": {
        "id": "0czaWzmBgtq0"
      },
      "outputs": [],
      "source": [
        "import pickle\n",
        "\n",
        "# Assuming rf_clf is your trained random forest model\n",
        "\n",
        "# Save the model with protocol specification\n",
        "pickle.dump(rf_clf, open('main_model.pkl', 'wb'), protocol=pickle.HIGHEST_PROTOCOL)"
      ]
    },
    {
      "cell_type": "markdown",
      "metadata": {
        "id": "KlQnMwg0TBxS"
      },
      "source": [
        "##Testing the Model on an Out Of Sample Dataset to evaluate it's accuracy"
      ]
    },
    {
      "cell_type": "code",
      "execution_count": null,
      "metadata": {
        "id": "HrRISySMMIbm"
      },
      "outputs": [],
      "source": [
        "x_val1 = pd.read_csv('/content/drive/My Drive/ML_Dataset/Validation_Set/Top12_VS11_WKApr1_X.csv')\n",
        "y_val1 = pd.read_csv('/content/drive/My Drive/ML_Dataset/Validation_Set/Top10_VS2_WKApr1_Y.csv')"
      ]
    },
    {
      "cell_type": "code",
      "source": [
        "x_val2 = pd.read_csv('/content/drive/My Drive/ML_Dataset/Validation_Set/Top12_VS11_WKApr15_X.csv')\n",
        "y_val2 = pd.read_csv('/content/drive/My Drive/ML_Dataset/Validation_Set/VS1_WKApr15_Y.csv')"
      ],
      "metadata": {
        "id": "-ZjPgA-sk0J2"
      },
      "execution_count": null,
      "outputs": []
    },
    {
      "cell_type": "code",
      "execution_count": null,
      "metadata": {
        "id": "F0y4p57uSSmV"
      },
      "outputs": [],
      "source": [
        "#Define the data cleaning function\n",
        "def clean_data(data):\n",
        "    # Impute missing values with median for numerical features\n",
        "    numerical_features_with_missing = ['DaysInArrears_calc', 'Total_due', 'LoanAmount', 'OSP', 'CustomerAge',\n",
        "       'OTP_at_disbursement', 'loans_taken', 'dayssincelasttransaction',\n",
        "       'dayssincelastrepayment', 'tier_currentdate', 'LTI_ratio',\n",
        "       'dayssinceloandisbursement']\n",
        "    for feature in numerical_features_with_missing:\n",
        "        data[feature] = data[feature].fillna(data[feature].median())\n",
        "\n",
        "    # Winsorize numerical features (do not include DaysInArrears_calc)\n",
        "    def winsorize_iqr(data):\n",
        "        q1 = np.percentile(data, 25)\n",
        "        q3 = np.percentile(data, 75)\n",
        "        iqr = q3 - q1\n",
        "        lower_limit = q1 - 1.5 * iqr\n",
        "        upper_limit = q3 + 1.5 * iqr\n",
        "        return np.clip(data, lower_limit, upper_limit)\n",
        "\n",
        "    numerical_features = ['loans_taken', 'dayssinceloandisbursement', 'dayssincelasttransaction', 'dayssincelastrepayment','CustomerAge', 'LTI_ratio', 'OTP_at_disbursement']\n",
        "    for feature in numerical_features:\n",
        "      data[feature] = winsorize_iqr(data[feature])\n",
        "\n",
        "    # Standardize features\n",
        "    features_to_standardize = ['DaysInArrears_calc', 'CustomerAge',\n",
        "      'loans_taken', 'dayssincelasttransaction',\n",
        "       'dayssincelastrepayment', 'dayssinceloandisbursement', 'LTI_ratio', 'OTP_at_disbursement']\n",
        "    scaler = StandardScaler()\n",
        "    data[features_to_standardize] = scaler.fit_transform(data[features_to_standardize])\n",
        "    return data"
      ]
    },
    {
      "cell_type": "code",
      "execution_count": null,
      "metadata": {
        "id": "o8oZwQB-St9s"
      },
      "outputs": [],
      "source": [
        "# Validation data 1 (Week of Apr 1)\n",
        "x_val = clean_data(x_val1)\n",
        "y_val = y_val1"
      ]
    },
    {
      "cell_type": "code",
      "source": [
        "#Validation data 2 (Week of Apr 15)\n",
        "x_val_b = clean_data(x_val2)\n",
        "y_val_b = y_val2"
      ],
      "metadata": {
        "id": "F7ghKs7PzQi9"
      },
      "execution_count": null,
      "outputs": []
    },
    {
      "cell_type": "code",
      "execution_count": null,
      "metadata": {
        "colab": {
          "base_uri": "https://localhost:8080/"
        },
        "id": "xqtvg7iRS-Re",
        "outputId": "f3fe25db-17fd-4ab4-c06c-d484dc8940e2"
      },
      "outputs": [
        {
          "output_type": "stream",
          "name": "stdout",
          "text": [
            "Random Forest Precision: 0.750\n",
            "Random Forest Recall: 0.712\n",
            "Random Forest F1-score: 0.727\n"
          ]
        }
      ],
      "source": [
        "# Evaluate Random Forest Classifier on Validation data 1 (Week of Apr 1)\n",
        "y_pred1 = rf_clf.predict(x_val)\n",
        "rf1_precision = precision_score(y_val, y_pred1, average='macro')\n",
        "rf1_recall = recall_score(y_val, y_pred1, average='macro')\n",
        "rf1_f1 = f1_score(y_val, y_pred1, average='macro')\n",
        "\n",
        "print(f\"Random Forest Precision: {rf_precision:.3f}\")\n",
        "print(f\"Random Forest Recall: {rf_recall:.3f}\")\n",
        "print(f\"Random Forest F1-score: {rf_f1:.3f}\")"
      ]
    },
    {
      "cell_type": "code",
      "source": [
        "# Evaluate Random Forest Classifier on Validation data 2 (Week of Apr 15)\n",
        "y_pred_b = rf_clf.predict(x_val_b)\n",
        "rf1_precision = precision_score(y_val_b, y_pred_b, average='macro')\n",
        "rf1_recall = recall_score(y_val_b, y_pred_b, average='macro')\n",
        "rf1_f1 = f1_score(y_val_b, y_pred_b, average='macro')\n",
        "\n",
        "print(f\"Random Forest Precision: {rf_precision:.3f}\")\n",
        "print(f\"Random Forest Recall: {rf_recall:.3f}\")\n",
        "print(f\"Random Forest F1-score: {rf_f1:.3f}\")"
      ],
      "metadata": {
        "colab": {
          "base_uri": "https://localhost:8080/"
        },
        "id": "T1g0WadbzZx6",
        "outputId": "463b0f47-b542-40c2-e1a8-be934596d38e"
      },
      "execution_count": null,
      "outputs": [
        {
          "output_type": "stream",
          "name": "stdout",
          "text": [
            "Random Forest Precision: 0.750\n",
            "Random Forest Recall: 0.712\n",
            "Random Forest F1-score: 0.727\n"
          ]
        }
      ]
    },
    {
      "cell_type": "code",
      "execution_count": null,
      "metadata": {
        "colab": {
          "base_uri": "https://localhost:8080/"
        },
        "id": "7dCR5hF7UB5C",
        "outputId": "acd9fb4d-867f-4650-c959-0df209715dcc"
      },
      "outputs": [
        {
          "output_type": "stream",
          "name": "stdout",
          "text": [
            "\n",
            "\n",
            "TESTING SET RESULTS: \n",
            "the confusion matrix: \n",
            " [[5296  273]\n",
            " [1352  639]]\n",
            "Hit rate equals 0.78505291005291\n"
          ]
        }
      ],
      "source": [
        "# Validation data 1 (Week of Apr 1)\n",
        "conf = confusion_matrix(y_val, y_pred1)\n",
        "conf_sum = np.sum(np.sum(conf, axis= 1))\n",
        "hit_rate = (conf[0,0] + conf[1,1])/ conf_sum # % of correct predictions\n",
        "print(\"\\n\\nTESTING SET RESULTS: \")\n",
        "print('the confusion matrix: \\n {}' .format(conf))\n",
        "print('Hit rate equals {}'.format(hit_rate))"
      ]
    },
    {
      "cell_type": "code",
      "source": [
        "#Validation data 2 (Week of Apr 15)\n",
        "conf_b = confusion_matrix(y_val_b, y_pred_b)\n",
        "conf_sum = np.sum(np.sum(conf_b, axis= 1))\n",
        "hit_rate = (conf_b[0,0] + conf_b[1,1])/ conf_sum # % of correct predictions\n",
        "print(\"\\n\\nTESTING SET RESULTS: \")\n",
        "print('the confusion matrix: \\n {}' .format(conf))\n",
        "print('Hit rate equals {}'.format(hit_rate))"
      ],
      "metadata": {
        "colab": {
          "base_uri": "https://localhost:8080/"
        },
        "id": "P-Zog6DHz_1u",
        "outputId": "fd35f6dd-8297-4b03-e99a-0ba2d9265450"
      },
      "execution_count": null,
      "outputs": [
        {
          "output_type": "stream",
          "name": "stdout",
          "text": [
            "\n",
            "\n",
            "TESTING SET RESULTS: \n",
            "the confusion matrix: \n",
            " [[5296  273]\n",
            " [1352  639]]\n",
            "Hit rate equals 0.7480333450745568\n"
          ]
        }
      ]
    },
    {
      "cell_type": "code",
      "execution_count": null,
      "metadata": {
        "colab": {
          "base_uri": "https://localhost:8080/"
        },
        "id": "smmp_z9RUb7R",
        "outputId": "ff4aed17-a82f-4113-c604-521f67b187ae"
      },
      "outputs": [
        {
          "name": "stdout",
          "output_type": "stream",
          "text": [
            "              precision    recall  f1-score   support\n",
            "\n",
            "           0       0.80      0.95      0.87      5569\n",
            "           1       0.71      0.33      0.45      1991\n",
            "\n",
            "    accuracy                           0.79      7560\n",
            "   macro avg       0.75      0.64      0.66      7560\n",
            "weighted avg       0.77      0.79      0.76      7560\n",
            "\n",
            "0.7871693121693122\n"
          ]
        }
      ],
      "source": [
        "#Validation data 1 (Week of Apr 1)\n",
        "from sklearn.metrics import accuracy_score, classification_report\n",
        "print(classification_report(y_val, y_pred1))\n",
        "print(accuracy_score(y_val, y_pred1))"
      ]
    },
    {
      "cell_type": "code",
      "source": [
        "#Validation data 2 (Week of Apr 15)\n",
        "from sklearn.metrics import accuracy_score, classification_report\n",
        "print(classification_report(y_val_b, y_pred_b))\n",
        "print(accuracy_score(y_val_b, y_pred_b))"
      ],
      "metadata": {
        "colab": {
          "base_uri": "https://localhost:8080/"
        },
        "id": "LwPQXRE400oe",
        "outputId": "6cf5f915-2fbe-4301-afb4-0636754decf1"
      },
      "execution_count": null,
      "outputs": [
        {
          "output_type": "stream",
          "name": "stdout",
          "text": [
            "              precision    recall  f1-score   support\n",
            "\n",
            "           0       0.76      0.94      0.84      5971\n",
            "           1       0.67      0.31      0.42      2546\n",
            "\n",
            "    accuracy                           0.75      8517\n",
            "   macro avg       0.72      0.62      0.63      8517\n",
            "weighted avg       0.73      0.75      0.71      8517\n",
            "\n",
            "0.7480333450745568\n"
          ]
        }
      ]
    },
    {
      "cell_type": "code",
      "execution_count": null,
      "metadata": {
        "id": "7e7xn5PGRvOF"
      },
      "outputs": [],
      "source": [
        "#Access the values of the y_val and y_val_b DataFrame and convert them to a 1D numpy array for Val Set 1 and 2\n",
        "y_val_1d = y_val.values.ravel()\n",
        "y_val_b_1d = y_val_b.values.ravel()"
      ]
    },
    {
      "cell_type": "code",
      "execution_count": null,
      "metadata": {
        "id": "NeJFI_YmGY8S"
      },
      "outputs": [],
      "source": [
        "#Validation data 1 (Week of Apr 1)\n",
        "y_pred_proba = rf_clf.predict_proba(x_val)\n",
        "\n",
        "# Create a DataFrame with the actual labels, predictions, and probabilities\n",
        "results_df = pd.DataFrame({\n",
        "    'Actual': y_val_1d,\n",
        "    'Prediction': y_pred1,\n",
        "    'No Payment Made Probability': y_pred_proba[:, 0],\n",
        "    'Payment Made Probability': y_pred_proba[:, 1]\n",
        "})\n"
      ]
    },
    {
      "cell_type": "code",
      "source": [
        "#Validation data 2 (Week of Apr 15)\n",
        "y_pred_b_proba = rf_clf.predict_proba(x_val_b)\n",
        "\n",
        "# Create a DataFrame with the actual labels, predictions, and probabilities\n",
        "results_df_b = pd.DataFrame({\n",
        "    'Actual': y_val_b_1d,\n",
        "    'Prediction': y_pred_b,\n",
        "    'No Payment Made Probability': y_pred_b_proba[:, 0],\n",
        "    'Payment Made Probability': y_pred_b_proba[:, 1]\n",
        "})"
      ],
      "metadata": {
        "id": "nZM0gTUF2qna"
      },
      "execution_count": null,
      "outputs": []
    },
    {
      "cell_type": "code",
      "execution_count": null,
      "metadata": {
        "id": "YggUDp9dR9hc"
      },
      "outputs": [],
      "source": [
        "# Filter the DataFrame to show only the predictions where the prediction is 0 (No Payment Made)\n",
        "no_payment_made_predictions = results_df[results_df['Prediction'] == 0]\n",
        "no_payment_made_predictions_b = results_df_b[results_df_b['Prediction'] == 0]\n",
        "# Display the head of the filtered DataFrame\n",
        "#print(\"Predictions where Prediction is 'No Payment Made':\")\n",
        "#print(no_payment_made_predictions.tail(20))"
      ]
    },
    {
      "cell_type": "code",
      "execution_count": null,
      "metadata": {
        "id": "R9Tmd_3fQagD"
      },
      "outputs": [],
      "source": [
        "\n",
        "Actual_1 = no_payment_made_predictions[no_payment_made_predictions['Actual']==1]\n",
        "\n",
        "# Sort by No Payment Made Probability in Descending Order with value counts\n",
        "sorted_by_probability = Actual_1.groupby('No Payment Made Probability').size().to_frame(name='Count').sort_values(by='No Payment Made Probability', ascending=False)\n",
        "\n",
        "Actual_1_b = no_payment_made_predictions_b[no_payment_made_predictions_b['Actual']==1]\n",
        "\n",
        "# Sort by No Payment Made Probability in Descending Order with value counts\n",
        "sorted_by_probability_b = Actual_1_b.groupby('No Payment Made Probability').size().to_frame(name='Count').sort_values(by='No Payment Made Probability', ascending=False)\n",
        "\n",
        "\n",
        "\n",
        "# Print the result with both probability and count\n",
        "#print(sorted_by_probability)\n",
        "#print(no_payment_made_predictions['Prediction'].value_counts())\n",
        "#print(Actual_1['No Payment Made Probability'].value_counts().sort_values(by='No Payment Made Probability', ascending=False))"
      ]
    },
    {
      "cell_type": "code",
      "execution_count": null,
      "metadata": {
        "id": "RI7L3yDha4QG"
      },
      "outputs": [],
      "source": [
        "Actual_0 = no_payment_made_predictions[no_payment_made_predictions['Actual']==0]\n",
        "\n",
        "# Sort by No Payment Made Probability in Descending Order with value counts\n",
        "sorted_by_probability0 = Actual_0.groupby('No Payment Made Probability').size().to_frame(name='Count').sort_values(by='No Payment Made Probability', ascending=False)\n",
        "\n",
        "Actual_0_b = no_payment_made_predictions_b[no_payment_made_predictions_b['Actual']==0]\n",
        "\n",
        "# Sort by No Payment Made Probability in Descending Order with value counts\n",
        "sorted_by_probability0_b = Actual_0_b.groupby('No Payment Made Probability').size().to_frame(name='Count').sort_values(by='No Payment Made Probability', ascending=False)\n",
        "\n",
        "# Print the result with both probability and count\n",
        "#print(sorted_by_probability0)"
      ]
    },
    {
      "cell_type": "code",
      "execution_count": null,
      "metadata": {
        "colab": {
          "base_uri": "https://localhost:8080/"
        },
        "id": "GhAOp3lchuGx",
        "outputId": "b41143a0-3728-4c66-95e8-d51b9027967c"
      },
      "outputs": [
        {
          "output_type": "stream",
          "name": "stdout",
          "text": [
            "The number of customers we may decide not to call at 0.79 minimum no repayment probability treshold \n",
            "equals 3580  out of 7560 customers which is 47.35% of the total number of customers in arrears \n",
            "while 175 out of 1991 potential paying customers which is 8.79% of \n",
            "the total number of actual potential paying customers may not be called.\n",
            "\n",
            "\n",
            "91.21% of the Actual Positive will be called from the selected call list\n",
            "\n",
            "Out of the total number of customers selected for a call i.e 3980, 45.63% have been truly \n",
            "predicted to make part or full repayment\n"
          ]
        }
      ],
      "source": [
        "#Validation data 1 (Week of Apr 1)\n",
        "# Setting the allowable No Payment Made Probability threshold of customers who we'll decide not to call\n",
        "\n",
        "prob_max_treshhold = 0.79\n",
        "\n",
        "high_True_neg_probability_df = Actual_0[Actual_0['No Payment Made Probability'] > prob_max_treshhold]\n",
        "# Sort by No Payment Made Probability in Descending Order with value counts\n",
        "sorted_by_TN_probability = high_True_neg_probability_df.groupby('No Payment Made Probability').size().to_frame(name='Count').sort_values(by='No Payment Made Probability', ascending=False)\n",
        "\n",
        "# Ultimately, the threshold of paying customers who we'll decide not to call will also be set at > 0.9 No Payment Made Probability\n",
        "high_False_neg_probability_df = Actual_1[Actual_1['No Payment Made Probability'] > prob_min_treshhold]\n",
        "\n",
        "# Sort by No Payment Made Probability in Descending Order with value counts\n",
        "sorted_by_FN_probability = high_False_neg_probability_df.groupby('No Payment Made Probability').size().to_frame(name='Count').sort_values(by='No Payment Made Probability', ascending=False)\n",
        "\n",
        "# Print the result with both probability and count\n",
        "#print(sorted_by_probability01)\n",
        "\n",
        "Actual_Positive = conf[1,1]+conf[1,0]\n",
        "Total_Customer_Count = conf[1,1]+conf[1,0]+conf[0,1]+conf[0,0]\n",
        "\n",
        "total_TN_count = sorted_by_TN_probability['Count'].sum()  # Calculate total count first\n",
        "percentage_TN_count = (sorted_by_TN_probability['Count'].sum())/Total_Customer_Count*100\n",
        "\n",
        "\n",
        "total_FN_count = sorted_by_FN_probability['Count'].sum()  # Calculate total count first\n",
        "percentage_FN_count = (sorted_by_FN_probability['Count'].sum())/Actual_Positive*100\n",
        "\n",
        "True_Positive_called = Actual_Positive - total_FN_count\n",
        "Total_count_selectedforacall = Total_Customer_Count - total_TN_count\n",
        "percentof_True_Positive_in_called = True_Positive_called/(Total_count_selectedforacall)*100\n",
        "percentof_Actual_Positive_called = (True_Positive_called)/ Actual_Positive *100\n",
        "\n",
        "print(f'The number of customers we may decide not to call at {prob_max_treshhold} minimum no repayment probability treshold \\nequals {total_TN_count}  out of {Total_Customer_Count} customers which is {round(percentage_TN_count,2)}% of the total number of customers in arrears \\nwhile {total_FN_count} out of {Actual_Positive} potential paying customers which is {round(percentage_FN_count,2)}% of \\nthe total number of actual potential paying customers may not be called.')\n",
        "print(f'\\n\\n{round(percentof_Actual_Positive_called,2)}% of the Actual Positive will be called from the selected call list')\n",
        "print(f'\\nOut of the total number of customers selected for a call i.e {Total_count_selectedforacall}, {round(percentof_True_Positive_in_called,2)}% have been truly \\npredicted to make part or full repayment')"
      ]
    },
    {
      "cell_type": "code",
      "source": [
        "#Validation data 2 (Week of Apr 15)\n",
        "# Setting the allowable No Payment Made Probability threshold of customers who we'll decide not to call\n",
        "\n",
        "prob_max_treshhold = 0.79\n",
        "\n",
        "high_True_neg_probability_df_b = Actual_0_b[Actual_0_b['No Payment Made Probability'] > prob_max_treshhold]\n",
        "# Sort by No Payment Made Probability in Descending Order with value counts\n",
        "sorted_by_TN_probability_b = high_True_neg_probability_df_b.groupby('No Payment Made Probability').size().to_frame(name='Count').sort_values(by='No Payment Made Probability', ascending=False)\n",
        "\n",
        "# Ultimately, the threshold of paying customers who we'll decide not to call will also be set at > 0.9 No Payment Made Probability\n",
        "high_False_neg_probability_df_b = Actual_1_b[Actual_1_b['No Payment Made Probability'] > prob_min_treshhold]\n",
        "\n",
        "# Sort by No Payment Made Probability in Descending Order with value counts\n",
        "sorted_by_FN_probability_b = high_False_neg_probability_df_b.groupby('No Payment Made Probability').size().to_frame(name='Count').sort_values(by='No Payment Made Probability', ascending=False)\n",
        "\n",
        "# Print the result with both probability and count\n",
        "#print(sorted_by_probability01)\n",
        "\n",
        "Actual_Positive_b = conf_b[1,1]+conf_b[1,0]\n",
        "Total_Customer_Count_b = conf_b[1,1]+conf_b[1,0]+conf_b[0,1]+conf_b[0,0]\n",
        "\n",
        "total_TN_count_b = sorted_by_TN_probability_b['Count'].sum()  # Calculate total count first\n",
        "percentage_TN_count_b = (sorted_by_TN_probability_b['Count'].sum())/Total_Customer_Count_b*100\n",
        "\n",
        "\n",
        "total_FN_count_b = sorted_by_FN_probability_b['Count'].sum()  # Calculate total count first\n",
        "percentage_FN_count_b = (sorted_by_FN_probability_b['Count'].sum())/Actual_Positive_b*100\n",
        "\n",
        "True_Positive_called_b = Actual_Positive_b - total_FN_count_b\n",
        "Total_count_selectedforacall_b = Total_Customer_Count_b - total_TN_count_b\n",
        "percentof_True_Positive_in_called_b = True_Positive_called_b/(Total_count_selectedforacall_b)*100\n",
        "percentof_Actual_Positive_called_b = (True_Positive_called_b)/ Actual_Positive_b *100\n",
        "\n",
        "print(f'The number of customers we may decide not to call at {prob_max_treshhold} minimum no repayment probability treshold \\nequals {total_TN_count_b}  out of {Total_Customer_Count_b} customers which is {round(percentage_TN_count_b,2)}% of the total number of customers in arrears \\nwhile {total_FN_count_b} out of {Actual_Positive_b} potential paying customers which is {round(percentage_FN_count_b,2)}% of \\nthe total number of actual potential paying customers may not be called.')\n",
        "print(f'\\n\\n{round(percentof_Actual_Positive_called_b,2)}% of the Actual Positive will be called from the selected call list')\n",
        "print(f'\\nOut of the total number of customers selected for a call i.e {Total_count_selectedforacall_b}, {round(percentof_True_Positive_in_called_b,2)}% have been truly \\npredicted to make part or full repayment')"
      ],
      "metadata": {
        "colab": {
          "base_uri": "https://localhost:8080/"
        },
        "id": "YTHbHyb3400L",
        "outputId": "8a296ce0-98db-47fa-b381-5c64cdd6de1f"
      },
      "execution_count": null,
      "outputs": [
        {
          "output_type": "stream",
          "name": "stdout",
          "text": [
            "The number of customers we may decide not to call at 0.79 minimum no repayment probability treshold \n",
            "equals 3555  out of 8517 customers which is 41.74% of the total number of customers in arrears \n",
            "while 240 out of 2546 potential paying customers which is 9.43% of \n",
            "the total number of actual potential paying customers may not be called.\n",
            "\n",
            "\n",
            "90.57% of the Actual Positive will be called from the selected call list\n",
            "\n",
            "Out of the total number of customers selected for a call i.e 4962, 46.47% have been truly \n",
            "predicted to make part or full repayment\n"
          ]
        }
      ]
    },
    {
      "cell_type": "code",
      "execution_count": null,
      "metadata": {
        "colab": {
          "base_uri": "https://localhost:8080/"
        },
        "id": "hQz9-ujfbwAX",
        "outputId": "b5804bac-113c-4687-d1b0-380bc237d0b8"
      },
      "outputs": [
        {
          "name": "stdout",
          "output_type": "stream",
          "text": [
            "                          Count\n",
            "Payment Made Probability       \n",
            "0.92                          1\n",
            "0.85                          1\n",
            "0.84                          2\n",
            "0.83                          2\n",
            "0.82                          1\n",
            "0.81                          1\n",
            "0.80                          1\n",
            "0.78                          4\n",
            "0.77                          3\n",
            "0.76                          3\n",
            "0.75                          4\n",
            "0.74                          6\n",
            "0.73                          9\n",
            "0.72                          8\n",
            "0.71                          7\n",
            "0.70                         18\n",
            "0.69                         19\n",
            "0.68                         10\n",
            "0.67                         17\n",
            "0.66                         10\n",
            "0.65                         26\n",
            "0.64                         11\n",
            "0.63                         29\n",
            "0.62                         22\n",
            "0.61                         24\n",
            "0.60                         32\n",
            "0.59                         30\n",
            "0.58                         35\n",
            "0.57                         51\n",
            "0.56                         48\n",
            "0.55                         38\n",
            "0.54                         50\n",
            "0.53                         38\n",
            "0.52                         41\n",
            "0.51                         53\n"
          ]
        }
      ],
      "source": [
        "payment_made_predictions = results_df[results_df['Prediction'] == 1]\n",
        "Actual_1 = payment_made_predictions[payment_made_predictions['Actual']==1]\n",
        "\n",
        "# Sort by No Payment Made Probability in Descending Order with value counts\n",
        "sorted_pos_probability = Actual_1.groupby('Payment Made Probability').size().to_frame(name='Count').sort_values(by='Payment Made Probability', ascending=False)\n",
        "\n",
        "# Print the result with both probability and count\n",
        "print(sorted_pos_probability)"
      ]
    },
    {
      "cell_type": "code",
      "execution_count": null,
      "metadata": {
        "id": "iw7avxInmnc0"
      },
      "outputs": [],
      "source": []
    },
    {
      "cell_type": "code",
      "execution_count": null,
      "metadata": {
        "colab": {
          "base_uri": "https://localhost:8080/"
        },
        "id": "QBZ8Vx4Hc2M4",
        "outputId": "e8da72da-64ef-458d-f815-7218300277c0"
      },
      "outputs": [
        {
          "name": "stdout",
          "output_type": "stream",
          "text": [
            "                          Count\n",
            "Payment Made Probability       \n",
            "0.770000                      1\n",
            "0.750000                      2\n",
            "0.740000                      1\n",
            "0.730000                      3\n",
            "0.720000                      3\n",
            "0.710000                      1\n",
            "0.700000                      1\n",
            "0.690000                      6\n",
            "0.680000                      6\n",
            "0.670000                      1\n",
            "0.660000                      6\n",
            "0.650000                      6\n",
            "0.640000                     12\n",
            "0.630000                      4\n",
            "0.620000                      9\n",
            "0.610000                     12\n",
            "0.600000                     15\n",
            "0.590000                     15\n",
            "0.580000                     14\n",
            "0.570000                     21\n",
            "0.560000                     20\n",
            "0.550000                     22\n",
            "0.540000                     27\n",
            "0.538871                      1\n",
            "0.530000                     31\n",
            "0.520000                     23\n",
            "0.510000                     20\n"
          ]
        }
      ],
      "source": [
        "payment_made_predictions = results_df[results_df['Prediction'] == 1]\n",
        "Actual_0 = payment_made_predictions[payment_made_predictions['Actual']==0]\n",
        "\n",
        "# Sort by No Payment Made Probability in Descending Order with value counts\n",
        "sorted_neg_probability = Actual_0.groupby('Payment Made Probability').size().to_frame(name='Count').sort_values(by='Payment Made Probability', ascending=False)\n",
        "\n",
        "# Print the result with both probability and count\n",
        "print(sorted_neg_probability)"
      ]
    },
    {
      "cell_type": "code",
      "execution_count": null,
      "metadata": {
        "colab": {
          "base_uri": "https://localhost:8080/",
          "height": 388
        },
        "id": "1jwujDOCMUH0",
        "outputId": "b23b0b4c-bad0-4ae1-a222-4f8160610dad"
      },
      "outputs": [
        {
          "ename": "ValueError",
          "evalue": "Data must be 1-dimensional, got ndarray of shape (7560, 1) instead",
          "output_type": "error",
          "traceback": [
            "\u001b[0;31m---------------------------------------------------------------------------\u001b[0m",
            "\u001b[0;31mValueError\u001b[0m                                Traceback (most recent call last)",
            "\u001b[0;32m<ipython-input-184-95dabc88a5eb>\u001b[0m in \u001b[0;36m<cell line: 8>\u001b[0;34m()\u001b[0m\n\u001b[1;32m      6\u001b[0m \u001b[0;34m\u001b[0m\u001b[0m\n\u001b[1;32m      7\u001b[0m \u001b[0;31m# Create the results DataFrame\u001b[0m\u001b[0;34m\u001b[0m\u001b[0;34m\u001b[0m\u001b[0m\n\u001b[0;32m----> 8\u001b[0;31m results_df = pd.DataFrame({\n\u001b[0m\u001b[1;32m      9\u001b[0m     \u001b[0;34m'Actual'\u001b[0m\u001b[0;34m:\u001b[0m \u001b[0my_val\u001b[0m\u001b[0;34m,\u001b[0m\u001b[0;34m\u001b[0m\u001b[0;34m\u001b[0m\u001b[0m\n\u001b[1;32m     10\u001b[0m     \u001b[0;34m'Prediction'\u001b[0m\u001b[0;34m:\u001b[0m \u001b[0my_pred1\u001b[0m\u001b[0;34m,\u001b[0m\u001b[0;34m\u001b[0m\u001b[0;34m\u001b[0m\u001b[0m\n",
            "\u001b[0;32m/usr/local/lib/python3.10/dist-packages/pandas/core/frame.py\u001b[0m in \u001b[0;36m__init__\u001b[0;34m(self, data, index, columns, dtype, copy)\u001b[0m\n\u001b[1;32m    707\u001b[0m         \u001b[0;32melif\u001b[0m \u001b[0misinstance\u001b[0m\u001b[0;34m(\u001b[0m\u001b[0mdata\u001b[0m\u001b[0;34m,\u001b[0m \u001b[0mdict\u001b[0m\u001b[0;34m)\u001b[0m\u001b[0;34m:\u001b[0m\u001b[0;34m\u001b[0m\u001b[0;34m\u001b[0m\u001b[0m\n\u001b[1;32m    708\u001b[0m             \u001b[0;31m# GH#38939 de facto copy defaults to False only in non-dict cases\u001b[0m\u001b[0;34m\u001b[0m\u001b[0;34m\u001b[0m\u001b[0m\n\u001b[0;32m--> 709\u001b[0;31m             \u001b[0mmgr\u001b[0m \u001b[0;34m=\u001b[0m \u001b[0mdict_to_mgr\u001b[0m\u001b[0;34m(\u001b[0m\u001b[0mdata\u001b[0m\u001b[0;34m,\u001b[0m \u001b[0mindex\u001b[0m\u001b[0;34m,\u001b[0m \u001b[0mcolumns\u001b[0m\u001b[0;34m,\u001b[0m \u001b[0mdtype\u001b[0m\u001b[0;34m=\u001b[0m\u001b[0mdtype\u001b[0m\u001b[0;34m,\u001b[0m \u001b[0mcopy\u001b[0m\u001b[0;34m=\u001b[0m\u001b[0mcopy\u001b[0m\u001b[0;34m,\u001b[0m \u001b[0mtyp\u001b[0m\u001b[0;34m=\u001b[0m\u001b[0mmanager\u001b[0m\u001b[0;34m)\u001b[0m\u001b[0;34m\u001b[0m\u001b[0;34m\u001b[0m\u001b[0m\n\u001b[0m\u001b[1;32m    710\u001b[0m         \u001b[0;32melif\u001b[0m \u001b[0misinstance\u001b[0m\u001b[0;34m(\u001b[0m\u001b[0mdata\u001b[0m\u001b[0;34m,\u001b[0m \u001b[0mma\u001b[0m\u001b[0;34m.\u001b[0m\u001b[0mMaskedArray\u001b[0m\u001b[0;34m)\u001b[0m\u001b[0;34m:\u001b[0m\u001b[0;34m\u001b[0m\u001b[0;34m\u001b[0m\u001b[0m\n\u001b[1;32m    711\u001b[0m             \u001b[0;32mfrom\u001b[0m \u001b[0mnumpy\u001b[0m\u001b[0;34m.\u001b[0m\u001b[0mma\u001b[0m \u001b[0;32mimport\u001b[0m \u001b[0mmrecords\u001b[0m\u001b[0;34m\u001b[0m\u001b[0;34m\u001b[0m\u001b[0m\n",
            "\u001b[0;32m/usr/local/lib/python3.10/dist-packages/pandas/core/internals/construction.py\u001b[0m in \u001b[0;36mdict_to_mgr\u001b[0;34m(data, index, columns, dtype, typ, copy)\u001b[0m\n\u001b[1;32m    479\u001b[0m             \u001b[0marrays\u001b[0m \u001b[0;34m=\u001b[0m \u001b[0;34m[\u001b[0m\u001b[0mx\u001b[0m\u001b[0;34m.\u001b[0m\u001b[0mcopy\u001b[0m\u001b[0;34m(\u001b[0m\u001b[0;34m)\u001b[0m \u001b[0;32mif\u001b[0m \u001b[0mhasattr\u001b[0m\u001b[0;34m(\u001b[0m\u001b[0mx\u001b[0m\u001b[0;34m,\u001b[0m \u001b[0;34m\"dtype\"\u001b[0m\u001b[0;34m)\u001b[0m \u001b[0;32melse\u001b[0m \u001b[0mx\u001b[0m \u001b[0;32mfor\u001b[0m \u001b[0mx\u001b[0m \u001b[0;32min\u001b[0m \u001b[0marrays\u001b[0m\u001b[0;34m]\u001b[0m\u001b[0;34m\u001b[0m\u001b[0;34m\u001b[0m\u001b[0m\n\u001b[1;32m    480\u001b[0m \u001b[0;34m\u001b[0m\u001b[0m\n\u001b[0;32m--> 481\u001b[0;31m     \u001b[0;32mreturn\u001b[0m \u001b[0marrays_to_mgr\u001b[0m\u001b[0;34m(\u001b[0m\u001b[0marrays\u001b[0m\u001b[0;34m,\u001b[0m \u001b[0mcolumns\u001b[0m\u001b[0;34m,\u001b[0m \u001b[0mindex\u001b[0m\u001b[0;34m,\u001b[0m \u001b[0mdtype\u001b[0m\u001b[0;34m=\u001b[0m\u001b[0mdtype\u001b[0m\u001b[0;34m,\u001b[0m \u001b[0mtyp\u001b[0m\u001b[0;34m=\u001b[0m\u001b[0mtyp\u001b[0m\u001b[0;34m,\u001b[0m \u001b[0mconsolidate\u001b[0m\u001b[0;34m=\u001b[0m\u001b[0mcopy\u001b[0m\u001b[0;34m)\u001b[0m\u001b[0;34m\u001b[0m\u001b[0;34m\u001b[0m\u001b[0m\n\u001b[0m\u001b[1;32m    482\u001b[0m \u001b[0;34m\u001b[0m\u001b[0m\n\u001b[1;32m    483\u001b[0m \u001b[0;34m\u001b[0m\u001b[0m\n",
            "\u001b[0;32m/usr/local/lib/python3.10/dist-packages/pandas/core/internals/construction.py\u001b[0m in \u001b[0;36marrays_to_mgr\u001b[0;34m(arrays, columns, index, dtype, verify_integrity, typ, consolidate)\u001b[0m\n\u001b[1;32m    118\u001b[0m \u001b[0;34m\u001b[0m\u001b[0m\n\u001b[1;32m    119\u001b[0m         \u001b[0;31m# don't force copy because getting jammed in an ndarray anyway\u001b[0m\u001b[0;34m\u001b[0m\u001b[0;34m\u001b[0m\u001b[0m\n\u001b[0;32m--> 120\u001b[0;31m         \u001b[0marrays\u001b[0m\u001b[0;34m,\u001b[0m \u001b[0mrefs\u001b[0m \u001b[0;34m=\u001b[0m \u001b[0m_homogenize\u001b[0m\u001b[0;34m(\u001b[0m\u001b[0marrays\u001b[0m\u001b[0;34m,\u001b[0m \u001b[0mindex\u001b[0m\u001b[0;34m,\u001b[0m \u001b[0mdtype\u001b[0m\u001b[0;34m)\u001b[0m\u001b[0;34m\u001b[0m\u001b[0;34m\u001b[0m\u001b[0m\n\u001b[0m\u001b[1;32m    121\u001b[0m         \u001b[0;31m# _homogenize ensures\u001b[0m\u001b[0;34m\u001b[0m\u001b[0;34m\u001b[0m\u001b[0m\n\u001b[1;32m    122\u001b[0m         \u001b[0;31m#  - all(len(x) == len(index) for x in arrays)\u001b[0m\u001b[0;34m\u001b[0m\u001b[0;34m\u001b[0m\u001b[0m\n",
            "\u001b[0;32m/usr/local/lib/python3.10/dist-packages/pandas/core/internals/construction.py\u001b[0m in \u001b[0;36m_homogenize\u001b[0;34m(data, index, dtype)\u001b[0m\n\u001b[1;32m    605\u001b[0m                 \u001b[0mval\u001b[0m \u001b[0;34m=\u001b[0m \u001b[0mlib\u001b[0m\u001b[0;34m.\u001b[0m\u001b[0mfast_multiget\u001b[0m\u001b[0;34m(\u001b[0m\u001b[0mval\u001b[0m\u001b[0;34m,\u001b[0m \u001b[0moindex\u001b[0m\u001b[0;34m.\u001b[0m\u001b[0m_values\u001b[0m\u001b[0;34m,\u001b[0m \u001b[0mdefault\u001b[0m\u001b[0;34m=\u001b[0m\u001b[0mnp\u001b[0m\u001b[0;34m.\u001b[0m\u001b[0mnan\u001b[0m\u001b[0;34m)\u001b[0m\u001b[0;34m\u001b[0m\u001b[0;34m\u001b[0m\u001b[0m\n\u001b[1;32m    606\u001b[0m \u001b[0;34m\u001b[0m\u001b[0m\n\u001b[0;32m--> 607\u001b[0;31m             \u001b[0mval\u001b[0m \u001b[0;34m=\u001b[0m \u001b[0msanitize_array\u001b[0m\u001b[0;34m(\u001b[0m\u001b[0mval\u001b[0m\u001b[0;34m,\u001b[0m \u001b[0mindex\u001b[0m\u001b[0;34m,\u001b[0m \u001b[0mdtype\u001b[0m\u001b[0;34m=\u001b[0m\u001b[0mdtype\u001b[0m\u001b[0;34m,\u001b[0m \u001b[0mcopy\u001b[0m\u001b[0;34m=\u001b[0m\u001b[0;32mFalse\u001b[0m\u001b[0;34m)\u001b[0m\u001b[0;34m\u001b[0m\u001b[0;34m\u001b[0m\u001b[0m\n\u001b[0m\u001b[1;32m    608\u001b[0m             \u001b[0mcom\u001b[0m\u001b[0;34m.\u001b[0m\u001b[0mrequire_length_match\u001b[0m\u001b[0;34m(\u001b[0m\u001b[0mval\u001b[0m\u001b[0;34m,\u001b[0m \u001b[0mindex\u001b[0m\u001b[0;34m)\u001b[0m\u001b[0;34m\u001b[0m\u001b[0;34m\u001b[0m\u001b[0m\n\u001b[1;32m    609\u001b[0m             \u001b[0mrefs\u001b[0m\u001b[0;34m.\u001b[0m\u001b[0mappend\u001b[0m\u001b[0;34m(\u001b[0m\u001b[0;32mNone\u001b[0m\u001b[0;34m)\u001b[0m\u001b[0;34m\u001b[0m\u001b[0;34m\u001b[0m\u001b[0m\n",
            "\u001b[0;32m/usr/local/lib/python3.10/dist-packages/pandas/core/construction.py\u001b[0m in \u001b[0;36msanitize_array\u001b[0;34m(data, index, dtype, copy, allow_2d)\u001b[0m\n\u001b[1;32m    579\u001b[0m         \u001b[0;31m# e.g. dask array GH#38645\u001b[0m\u001b[0;34m\u001b[0m\u001b[0;34m\u001b[0m\u001b[0m\n\u001b[1;32m    580\u001b[0m         \u001b[0mdata\u001b[0m \u001b[0;34m=\u001b[0m \u001b[0mnp\u001b[0m\u001b[0;34m.\u001b[0m\u001b[0marray\u001b[0m\u001b[0;34m(\u001b[0m\u001b[0mdata\u001b[0m\u001b[0;34m,\u001b[0m \u001b[0mcopy\u001b[0m\u001b[0;34m=\u001b[0m\u001b[0mcopy\u001b[0m\u001b[0;34m)\u001b[0m\u001b[0;34m\u001b[0m\u001b[0;34m\u001b[0m\u001b[0m\n\u001b[0;32m--> 581\u001b[0;31m         return sanitize_array(\n\u001b[0m\u001b[1;32m    582\u001b[0m             \u001b[0mdata\u001b[0m\u001b[0;34m,\u001b[0m\u001b[0;34m\u001b[0m\u001b[0;34m\u001b[0m\u001b[0m\n\u001b[1;32m    583\u001b[0m             \u001b[0mindex\u001b[0m\u001b[0;34m=\u001b[0m\u001b[0mindex\u001b[0m\u001b[0;34m,\u001b[0m\u001b[0;34m\u001b[0m\u001b[0;34m\u001b[0m\u001b[0m\n",
            "\u001b[0;32m/usr/local/lib/python3.10/dist-packages/pandas/core/construction.py\u001b[0m in \u001b[0;36msanitize_array\u001b[0;34m(data, index, dtype, copy, allow_2d)\u001b[0m\n\u001b[1;32m    605\u001b[0m                 \u001b[0msubarr\u001b[0m \u001b[0;34m=\u001b[0m \u001b[0mmaybe_infer_to_datetimelike\u001b[0m\u001b[0;34m(\u001b[0m\u001b[0msubarr\u001b[0m\u001b[0;34m)\u001b[0m\u001b[0;34m\u001b[0m\u001b[0;34m\u001b[0m\u001b[0m\n\u001b[1;32m    606\u001b[0m \u001b[0;34m\u001b[0m\u001b[0m\n\u001b[0;32m--> 607\u001b[0;31m     \u001b[0msubarr\u001b[0m \u001b[0;34m=\u001b[0m \u001b[0m_sanitize_ndim\u001b[0m\u001b[0;34m(\u001b[0m\u001b[0msubarr\u001b[0m\u001b[0;34m,\u001b[0m \u001b[0mdata\u001b[0m\u001b[0;34m,\u001b[0m \u001b[0mdtype\u001b[0m\u001b[0;34m,\u001b[0m \u001b[0mindex\u001b[0m\u001b[0;34m,\u001b[0m \u001b[0mallow_2d\u001b[0m\u001b[0;34m=\u001b[0m\u001b[0mallow_2d\u001b[0m\u001b[0;34m)\u001b[0m\u001b[0;34m\u001b[0m\u001b[0;34m\u001b[0m\u001b[0m\n\u001b[0m\u001b[1;32m    608\u001b[0m \u001b[0;34m\u001b[0m\u001b[0m\n\u001b[1;32m    609\u001b[0m     \u001b[0;32mif\u001b[0m \u001b[0misinstance\u001b[0m\u001b[0;34m(\u001b[0m\u001b[0msubarr\u001b[0m\u001b[0;34m,\u001b[0m \u001b[0mnp\u001b[0m\u001b[0;34m.\u001b[0m\u001b[0mndarray\u001b[0m\u001b[0;34m)\u001b[0m\u001b[0;34m:\u001b[0m\u001b[0;34m\u001b[0m\u001b[0;34m\u001b[0m\u001b[0m\n",
            "\u001b[0;32m/usr/local/lib/python3.10/dist-packages/pandas/core/construction.py\u001b[0m in \u001b[0;36m_sanitize_ndim\u001b[0;34m(result, data, dtype, index, allow_2d)\u001b[0m\n\u001b[1;32m    664\u001b[0m             \u001b[0;32mif\u001b[0m \u001b[0mallow_2d\u001b[0m\u001b[0;34m:\u001b[0m\u001b[0;34m\u001b[0m\u001b[0;34m\u001b[0m\u001b[0m\n\u001b[1;32m    665\u001b[0m                 \u001b[0;32mreturn\u001b[0m \u001b[0mresult\u001b[0m\u001b[0;34m\u001b[0m\u001b[0;34m\u001b[0m\u001b[0m\n\u001b[0;32m--> 666\u001b[0;31m             raise ValueError(\n\u001b[0m\u001b[1;32m    667\u001b[0m                 \u001b[0;34mf\"Data must be 1-dimensional, got ndarray of shape {data.shape} instead\"\u001b[0m\u001b[0;34m\u001b[0m\u001b[0;34m\u001b[0m\u001b[0m\n\u001b[1;32m    668\u001b[0m             )\n",
            "\u001b[0;31mValueError\u001b[0m: Data must be 1-dimensional, got ndarray of shape (7560, 1) instead"
          ]
        }
      ],
      "source": [
        "# Get the prediction probabilities\n",
        "y_pred_proba = rf_clf.predict_proba(x_val)\n",
        "\n",
        "# Extract the probabilities for the positive class\n",
        "pos_class_probs = y_pred_proba[:, 1]\n",
        "\n",
        "# Create the results DataFrame\n",
        "results_df = pd.DataFrame({\n",
        "    'Actual': y_val,\n",
        "    'Prediction': y_pred1,\n",
        "    'Probability': pos_class_probs\n",
        "})\n",
        "\n",
        "print(\"Results:\")\n",
        "print(results_df.head(15))"
      ]
    },
    {
      "cell_type": "code",
      "execution_count": null,
      "metadata": {
        "id": "heSGOkI4bMS2"
      },
      "outputs": [],
      "source": [
        "#assess feature importance\n",
        "print(\"\\n\\nFEATURE IMPORTANCE ASSESSMENT\")\n",
        "cols = x_val.columns\n",
        "FI= rf_clf.feature_importances_\n",
        "FI_dict = {}\n",
        "for i in range(len(cols)):\n",
        "    FI_dict[cols[i]] = FI[i]\n",
        "    print(cols[i],\":\",FI[i]*100,\"%\" )\n",
        "cof = pd.Series(FI, cols)\n",
        "cof.sort_values().plot.barh()"
      ]
    },
    {
      "cell_type": "code",
      "execution_count": null,
      "metadata": {
        "id": "YAhuT63AuHyu"
      },
      "outputs": [],
      "source": [
        "from sklearn.model_selection import RandomizedSearchCV\n",
        "from scipy.stats import randint, uniform\n",
        "\n",
        "# Define the parameter distributions for RandomizedSearchCV\n",
        "param_distributions = {\n",
        "    'n_estimators': randint(100, 400),\n",
        "    'max_depth': [None] + list(range(1, 21)),\n",
        "    # Add other hyperparameters as needed\n",
        "}\n",
        "\n",
        "# Define the scoring metric and the number of iterations\n",
        "scoring = 'recall'\n",
        "n_iter = 50\n",
        "\n",
        "# Create the RandomForestClassifier and RandomizedSearchCV\n",
        "rf = RandomForestClassifier(class_weight='balanced', random_state=42)\n",
        "random_search = RandomizedSearchCV(estimator=rf, param_distributions=param_distributions,\n",
        "                                  n_iter=n_iter, cv=5, scoring=scoring, random_state=42, n_jobs=-1)\n",
        "\n",
        "# Fit the model\n",
        "random_search.fit(X_train_resampled, y_train_resampled)\n",
        "\n",
        "# Get the best estimator\n",
        "best_rf1 = random_search.best_estimator_"
      ]
    },
    {
      "cell_type": "code",
      "execution_count": null,
      "metadata": {
        "id": "geyIgbDIBaNs"
      },
      "outputs": [],
      "source": [
        "# Predictions\n",
        "y_predi = best_rf1.predict(X_test)\n",
        "\n",
        "# Confusion matrix and classification report\n",
        "print(confusion_matrix(y_test, y_predi))\n",
        "print(classification_report(y_test, y_predi))\n",
        "print('Hit rate equals {}'.format(hit_rate))"
      ]
    },
    {
      "cell_type": "code",
      "execution_count": null,
      "metadata": {
        "id": "x-cnDbsH6EFO"
      },
      "outputs": [],
      "source": [
        "\n",
        "brf_precision = precision_score(y_test, y_predi, average = 'macro')\n",
        "brf_recall = recall_score(y_test, y_predi, average = 'macro')\n",
        "brf_f1 = f1_score(y_test, y_predi, average = 'macro')\n",
        "\n",
        "print(f\"Random Forest Precision: {brf_precision:.3f}\")\n",
        "print(f\"Random Forest Recall: {brf_recall:.3f}\")\n",
        "print(f\"Random Forest F1-score: {brf_f1:.3f}\")"
      ]
    }
  ],
  "metadata": {
    "accelerator": "TPU",
    "colab": {
      "gpuType": "V28",
      "provenance": [],
      "include_colab_link": true
    },
    "kernelspec": {
      "display_name": "Python 3",
      "name": "python3"
    },
    "language_info": {
      "name": "python"
    }
  },
  "nbformat": 4,
  "nbformat_minor": 0
}